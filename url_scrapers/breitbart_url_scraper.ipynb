{
 "cells": [
  {
   "attachments": {},
   "cell_type": "markdown",
   "metadata": {},
   "source": [
    "Obtain Breitbart URL's"
   ]
  },
  {
   "cell_type": "code",
   "execution_count": 14,
   "metadata": {},
   "outputs": [],
   "source": [
    "# Import necessary libraries\n",
    "import time\n",
    "import requests\n",
    "import urllib\n",
    "import lxml.html\n",
    "from bs4 import BeautifulSoup\n",
    "import newspaper\n",
    "import trafilatura\n",
    "from datetime import datetime\n",
    "import re\n",
    "from wayback import WaybackClient, memento_url_data\n",
    "import itertools\n",
    "import datetime"
   ]
  },
  {
   "cell_type": "code",
   "execution_count": 30,
   "metadata": {},
   "outputs": [],
   "source": [
    "def obtain_page_urls(\n",
    "    page=\"1\", base_url=\"https://www.breitbart.com/politics/\", archive=False\n",
    "):\n",
    "    \"\"\"\n",
    "    Obtain the urls for a page of results from the politics section of Breitbart\n",
    "    Inputs:\n",
    "    -page(str): page of results to search in results\n",
    "    -base_url\n",
    "    -archive(bool): True if the webpage searched is from the Internet Archive\n",
    "    Return:\n",
    "    links_list(list): List of urls\n",
    "    \"\"\"\n",
    "    url = base_url + \"page/\" + page + \"/\"\n",
    "    print(url)\n",
    "    resp = requests.get(url)\n",
    "    root = lxml.html.fromstring(resp.text)\n",
    "    articles_elements = root.cssselect(\"article\")\n",
    "    links_list = []\n",
    "    for article in articles_elements:\n",
    "        url = article.cssselect(\"h2\")[0].cssselect(\"a\")[0].get(\"href\")\n",
    "        if archive:\n",
    "            full_link = url[url.find(\"https://www.breitbart\") :]\n",
    "        else:\n",
    "            full_link = \"breitbart.com\" + str(url)\n",
    "\n",
    "        links_list.append(full_link)\n",
    "\n",
    "    year = re.search(r\"\\d{4}\", links_list[-1]).group()\n",
    "\n",
    "    return links_list, int(year)"
   ]
  },
  {
   "cell_type": "code",
   "execution_count": 32,
   "metadata": {},
   "outputs": [
    {
     "name": "stdout",
     "output_type": "stream",
     "text": [
      "article year 2022\n",
      "2023-01-01 00:00:00\n",
      "Obtaining results for page 1\n",
      "https://web.archive.org/web/20230101075905/https://www.breitbart.com/politics/page/1/\n",
      "Article year 2023\n",
      "40\n"
     ]
    },
    {
     "data": {
      "text/plain": [
       "{'2022, page 1': ['https://www.breitbart.com/the-media/2023/07/12/nolte-transphobic-cnn-misgenders-transvestite-mr-dylan-mulvaney/',\n",
       "  'https://www.breitbart.com/tech/2023/07/12/blue-origin-blunder-jeff-bezos-rocket-company-suffers-engine-explosion-during-testing/',\n",
       "  'https://www.breitbart.com/tech/2023/07/12/never-upset-the-alphabet-people-st-philips-college-fires-prof-for-making-lgbt-student-uncomfortable/',\n",
       "  'https://www.breitbart.com/politics/2023/07/12/joe-manchin-attending-no-labels-town-hall-new-hampshire-2024-speculation-rises/',\n",
       "  'https://www.breitbart.com/tech/2023/07/12/survey-majority-of-americans-say-chinas-tiktok-is-a-threat-to-national-security/',\n",
       "  'https://www.breitbart.com/border/2023/07/12/camo-wearing-migrants-captured-in-arizona-desert-near-border/',\n",
       "  'https://www.breitbart.com/europe/2023/07/12/zelensky-hails-significant-security-victory-as-nato-summit-ends/',\n",
       "  'https://www.breitbart.com/politics/2023/07/12/speaker-kevin-mccarthy-raises-62-million-to-expand-house-republican-majority/',\n",
       "  'https://www.breitbart.com/politics/2023/07/12/democrats-concerned-by-cornel-wests-third-party-bid-not-the-time-in-order-to-experiment/',\n",
       "  'https://www.breitbart.com/politics/2023/07/12/exclusive-eli-crane-rips-joe-bidens-despicable-rejection-of-seventh-grandchild-as-moral-decay/',\n",
       "  'https://www.breitbart.com/politics/2023/07/12/air-force-general-who-will-replace-mark-milley-downplays-memo-he-signed-calling-for-race-based-applicant-pools/',\n",
       "  'https://www.breitbart.com/europe/2023/07/12/putin-your-foot-in-it-biden-stumbles-over-his-words-as-he-calls-zelensky-vladimir-at-nato/',\n",
       "  'https://www.breitbart.com/2nd-amendment/2023/07/12/memphis-surgeon-allegedly-shot-killed-by-patient-in-exam-room/',\n",
       "  'https://www.breitbart.com/europe/2023/07/12/ukraine-should-show-some-gratitude-to-west-says-uk-defence-secretary/',\n",
       "  'https://www.breitbart.com/politics/2023/07/12/watch-live-house-grills-director-christopher-wray-on-politicization-of-fbi/',\n",
       "  'https://www.breitbart.com/europe/2023/07/12/global-blasphemy-law-un-votes-on-quran-burning/',\n",
       "  'https://www.breitbart.com/politics/2023/07/12/report-books-by-supreme-court-justice-sonia-sotomayor-pushed-on-colleges-libraries-by-her-staff/',\n",
       "  'https://www.breitbart.com/entertainment/2023/07/12/the-view-host-joy-behar-says-shes-turned-on-by-joe-bidens-angry-outbursts/',\n",
       "  'https://www.breitbart.com/politics/2023/07/12/mccaul-rips-state-department-for-stonewalling-on-iran-envoy-suspension/',\n",
       "  'https://www.breitbart.com/clips/2023/07/12/rubio-imagine-if-cocaine-were-found-in-the-trump-white-house/',\n",
       "  'https://www.breitbart.com/politics/2023/07/12/california-proposes-toilet-to-tap-turning-wastewater-into-drinking-water/',\n",
       "  'https://www.breitbart.com/middle-east/2023/07/12/israeli-left-threatens-mass-desertions-from-military-reserves-over-judicial-reform/',\n",
       "  'https://www.breitbart.com/politics/2023/07/12/the-big-box-bill-a-government-handout-to-walmart-and-target/',\n",
       "  'https://www.breitbart.com/politics/2023/07/12/poll-bidens-approval-rating-stuck-on-40-close-to-lowest-level-of-presidency/',\n",
       "  'https://www.breitbart.com/clips/2023/07/12/pentagon-tubervilles-officer-hold-hurting-security-we-wont-push-schumer-to-have-vote-on-abortion-policy-to-end-hold/',\n",
       "  'https://www.breitbart.com/clips/2023/07/12/taibbi-newest-twitter-files-shows-twitter-immediately-took-down-accounts-fbi-requested-without-investigation-based-on-false-charges/',\n",
       "  'https://www.breitbart.com/clips/2023/07/12/cnns-perez-fbi-says-they-were-just-flagging-potential-violations-of-twitter-rules-they-arent-a-lefty-organization/',\n",
       "  'https://www.breitbart.com/europe/2023/07/12/top-tory-calls-on-britons-to-take-illegal-boat-migrants-into-their-homes/',\n",
       "  'https://www.breitbart.com/europe/2023/07/12/workload-blamed-as-biden-shuns-nato-dinner-and-retires-early-to-hotel/',\n",
       "  'https://www.breitbart.com/europe/2023/07/12/no-end-to-war-until-west-abandons-plans-to-maintain-dominance-says-russia/',\n",
       "  'https://www.breitbart.com/europe/2023/07/12/populist-parties-rise-as-immigration-climbs-to-a-chief-concern-of-eu-citizens/',\n",
       "  'https://www.breitbart.com/politics/2023/07/12/secret-service-to-brief-house-oversight-committee-on-white-house-cocaine-find/',\n",
       "  'https://www.breitbart.com/2024-election/2023/07/11/ron-desantis-pledges-support-donald-trump-wins-gop-nomination/',\n",
       "  'https://www.breitbart.com/politics/2023/07/11/study-abortion-first-pregnancy-linked-higher-use-mental-health-services/',\n",
       "  'https://www.breitbart.com/clips/2023/07/11/piers-morgan-to-trump-dont-be-cowardly-do-gop-primary-debate/',\n",
       "  'https://www.breitbart.com/politics/2023/07/11/murdochs-lose-confidence-ron-desantis-ability-defeat-trump/',\n",
       "  'https://www.breitbart.com/economy/2023/07/11/carney-on-kudlow-bidenomics-wrecked-the-economy-biden-inherited-from-trump/',\n",
       "  'https://www.breitbart.com/politics/2023/07/11/sen-ted-cruz-pans-biden-snubbing-pm-netanyahu-relentlessly-anti-israel-admin/',\n",
       "  'https://www.breitbart.com/clips/2023/07/11/raskin-we-are-still-in-the-thick-of-fight-to-defend-america-against-kleptocrat-trump/',\n",
       "  'https://www.breitbart.com/sports/2023/07/11/josh-hawley-scolds-pga-executives-for-hypocrisy-over-liv-golf-merger/']}"
      ]
     },
     "execution_count": 32,
     "metadata": {},
     "output_type": "execute_result"
    }
   ],
   "source": [
    "def obtain_politics_url(year=2022):\n",
    "    \"\"\" \"\"\"\n",
    "    links_dict = {}\n",
    "    links_list = []\n",
    "    page = 1\n",
    "    article_year = year\n",
    "    print(\"article year\", article_year)\n",
    "    base_url = \"https://www.breitbart.com/politics/\"\n",
    "    archive = False\n",
    "\n",
    "    if year < 2023:\n",
    "        date = datetime.datetime(year + 1, 1, 1)\n",
    "        client = WaybackClient()\n",
    "        results = client.search(\n",
    "            \"https://www.breitbart.com/politics\", match_type=\"exact\", from_date=date\n",
    "        )\n",
    "        record = next(results)\n",
    "        base_url = record.view_url\n",
    "        archive = True\n",
    "\n",
    "    while article_year == year:\n",
    "        print(\"Obtaining results for page\", page)\n",
    "        page_links, article_year = obtain_page_urls(str(page), base_url, archive)\n",
    "        print(\"Article year\", article_year)\n",
    "        key = str(year) + \", page \" + str(page)\n",
    "        links_dict[key] = page_links\n",
    "        links_list.extend(page_links)\n",
    "        page += 1\n",
    "        time.sleep(0.5)\n",
    "\n",
    "    print(len(links_list))\n",
    "\n",
    "    return links_dict\n",
    "\n",
    "\n",
    "obtain_politics_url(2022)"
   ]
  }
 ],
 "metadata": {
  "kernelspec": {
   "display_name": "base",
   "language": "python",
   "name": "python3"
  },
  "language_info": {
   "codemirror_mode": {
    "name": "ipython",
    "version": 3
   },
   "file_extension": ".py",
   "mimetype": "text/x-python",
   "name": "python",
   "nbconvert_exporter": "python",
   "pygments_lexer": "ipython3",
   "version": "3.9.12"
  },
  "orig_nbformat": 4
 },
 "nbformat": 4,
 "nbformat_minor": 2
}

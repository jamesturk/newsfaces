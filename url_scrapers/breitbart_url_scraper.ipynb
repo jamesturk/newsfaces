{
 "cells": [
  {
   "attachments": {},
   "cell_type": "markdown",
   "metadata": {},
   "source": [
    "Obtain Breitbart URL's"
   ]
  },
  {
   "cell_type": "code",
   "execution_count": 22,
   "metadata": {},
   "outputs": [],
   "source": [
    "#Import necessary libraries\n",
    "import time\n",
    "import requests\n",
    "import urllib\n",
    "import lxml.html\n",
    "from bs4 import BeautifulSoup\n",
    "import newspaper\n",
    "import trafilatura\n",
    "from datetime import datetime\n",
    "import re"
   ]
  },
  {
   "cell_type": "code",
   "execution_count": 16,
   "metadata": {},
   "outputs": [
    {
     "data": {
      "text/plain": [
       "['breitbart.com/2024-election/2023/06/28/poll-donald-trump-grows-lead-over-primary-field-in-south-carolina/',\n",
       " 'breitbart.com/politics/2023/06/28/nj-cites-ukraine-war-push-huge-tax-break-foreign-offshore-wind-company/',\n",
       " 'breitbart.com/politics/2023/06/28/dark-brandon-biden-gives-bidenomics-speech-in-semi-darkness/',\n",
       " 'breitbart.com/clips/2023/06/28/whoopi-goldberg-kevin-mccarthy-needs-to-grow-a-pair-of-cojones/',\n",
       " 'breitbart.com/politics/2023/06/28/exclusive-alfredo-ortiz-bidenomics-is-a-euphemism-for-big-government-failure/',\n",
       " 'breitbart.com/2024-election/2023/06/28/montanas-sheehys-trump-support-contrasts-with-rosendales-distancing-from-former-president/',\n",
       " 'breitbart.com/politics/2023/06/28/report-ron-desantis-largely-focuses-on-florida-during-new-hampshire-town-hall/',\n",
       " 'breitbart.com/news/just-34-approve-of-bidens-handling-of-the-economy-as-he-hits-the-road-to-talk-up-bidenomics/',\n",
       " 'breitbart.com/2nd-amendment/2023/06/28/video-allen-police-release-body-cam-officer-taking-out-texas-mass-shooter/',\n",
       " 'breitbart.com/economy/2023/06/28/watch-live-joe-biden-delivers-speech-pitching-bidenomics/',\n",
       " 'breitbart.com/politics/2023/06/28/joe-biden-on-vladimir-putin-he-is-clearly-losing-the-war-in-iraq/',\n",
       " 'breitbart.com/politics/2023/06/28/breitbart-news-daily-podcast-ep-344-impeaching-merrick-garland-guest-john-binder-on-visa-overstays/',\n",
       " 'breitbart.com/politics/2023/06/28/report-trump-considering-alternate-programming-to-first-rnc-debate/',\n",
       " 'breitbart.com/politics/2023/06/28/ny-times-independently-confirms-doj-blocked-harsher-charges-against-hunter-biden/',\n",
       " 'breitbart.com/politics/2023/06/28/joe-biden-again-denies-lying-about-involvement-in-family-business-no-i-wasnt/',\n",
       " 'breitbart.com/politics/2023/06/28/report-iran-attack-plan-document-not-in-trump-indictment/',\n",
       " 'breitbart.com/politics/2023/06/28/hunter-biden-asks-for-10m-from-ccp-linked-associate-bidens-do-what-chairman-wants/',\n",
       " 'breitbart.com/europe/2023/06/28/uniparty-tory-and-labour-mps-block-bridgen-bill-banning-radical-gender-theory-in-schools/',\n",
       " 'breitbart.com/sports/2023/06/28/john-xi-na-rep-mike-gallagher-joins-pat-mcafee-show-wearing-t-shirt-depicting-john-cena-mao/',\n",
       " 'breitbart.com/economy/2023/06/28/so-this-is-bidenomics-americans-are-more-than-twice-as-likely-to-hold-negative-views-of-the-economy/',\n",
       " 'breitbart.com/2nd-amendment/2023/06/28/cnn-cites-accidental-gun-deaths-children-27x-lower-than-accidental-car-deaths-as-reason-more-gun-control/',\n",
       " 'breitbart.com/europe/2023/06/28/ukraine-arrests-man-accused-of-directing-russian-missile-strike-on-pizza-restaurant-popular-with-army-officers-and-journalists/',\n",
       " 'breitbart.com/health/2023/06/28/u-n-laments-poor-people-have-too-little-access-to-pharmaceutical-opioids/',\n",
       " 'breitbart.com/border/2023/06/28/1-9-million-fentanyl-pills-seized-in-two-weeks-at-arizona-border-crossing/',\n",
       " 'breitbart.com/politics/2023/06/28/survey-republicans-say-candidates-not-rnc-leadership-should-have-most-influence-debate-details/',\n",
       " 'breitbart.com/politics/2023/06/28/did-elon-musk-just-trigger-a-new-netscape-moment/',\n",
       " 'breitbart.com/politics/2023/06/28/showdown-in-chicago-biden-vs-kennedy-in-dueling-events/',\n",
       " 'breitbart.com/europe/2023/06/28/watch-players-foil-just-stop-oil-protest-at-lords-cricket-test/',\n",
       " 'breitbart.com/europe/2023/06/28/study-heavy-electric-vehicles-cause-twice-the-road-damage-than-their-petrol-equivalents/',\n",
       " 'breitbart.com/clips/2023/06/28/dershowitz-hunter-plea-deal-shouldnt-be-accepted-unless-judge-calls-garland-and-weiss-to-testify/',\n",
       " 'breitbart.com/clips/2023/06/28/gop-rep-diaz-balart-we-can-boost-funds-to-confront-china-help-allies-while-slashing-overall-foreign-ops-spending-to-below-16-levels/',\n",
       " 'breitbart.com/politics/2023/06/28/exclusive-darrell-issa-joe-biden-using-white-house-counsel-as-his-personal-lawyer-to-stonewall-media-on-alleged-corruption/',\n",
       " 'breitbart.com/europe/2023/06/28/let-them-drink-water-alcohol-ban-at-paris-olympics-for-all-but-vip-elites/',\n",
       " 'breitbart.com/europe/2023/06/28/open-borders-germany-sees-net-migration-hit-record-high-of-1-5-million/',\n",
       " 'breitbart.com/politics/2023/06/27/trump-insists-not-show-classified-material-leaked-audio/',\n",
       " 'breitbart.com/2024-election/2023/06/27/poll-ron-desantis-plunges-alltime-low-net-favorability-rating/',\n",
       " 'breitbart.com/politics/2023/06/27/tucker-carlson-gavin-newsom-leading-the-coup-against-joe-biden/',\n",
       " 'breitbart.com/politics/2023/06/27/tucker-carlson-wars-for-democracy-always-cancel-democracy-in-the-processucker-carlson-wars-for-democracy-always-cancel-democracy-in-the-process/',\n",
       " 'breitbart.com/clips/2023/06/27/irs-whistleblower-my-contemporaneous-documentation-contradicts-garland-weiss-on-hunter-case/',\n",
       " 'breitbart.com/politics/2023/06/27/nyc-milestone-migrants-outnumber-new-yorkers-in-homeless-shelters/']"
      ]
     },
     "execution_count": 16,
     "metadata": {},
     "output_type": "execute_result"
    }
   ],
   "source": [
    "def obtain_page_urls(page=\"1\"):\n",
    "    \"\"\"\n",
    "    Obtain the urls for a page of results from the politics section of Breitbart\n",
    "    Inputs:\n",
    "    -page(str): page of results to search in results\n",
    "    Return:\n",
    "    links_list(list): List of urls \n",
    "    \"\"\"\n",
    "    url = \"https://www.breitbart.com/politics/page/{}/\".format(page)\n",
    "    resp = requests.get(url)\n",
    "    root = lxml.html.fromstring(resp.text)\n",
    "    articles_elements = root.cssselect(\"article\")\n",
    "    links_list = []\n",
    "    for article in articles_elements:\n",
    "        url = article.cssselect(\"h2\")[0].cssselect(\"a\")[0].get(\"href\")\n",
    "        full_link = \"breitbart.com\" + str(url)\n",
    "        links_list.append(full_link)\n",
    "    \n",
    "    return links_list\n",
    "\n",
    "obtain_page_urls()"
   ]
  },
  {
   "cell_type": "code",
   "execution_count": 38,
   "metadata": {},
   "outputs": [
    {
     "name": "stdout",
     "output_type": "stream",
     "text": [
      "Obtaining results for page 1\n",
      "year 2023\n",
      "Obtaining results for page 2\n",
      "year 2023\n",
      "Obtaining results for page 3\n",
      "year 2023\n",
      "Obtaining results for page 4\n",
      "year 2023\n",
      "Obtaining results for page 5\n",
      "year 2023\n",
      "Obtaining results for page 6\n"
     ]
    },
    {
     "ename": "KeyboardInterrupt",
     "evalue": "",
     "output_type": "error",
     "traceback": [
      "\u001b[0;31m---------------------------------------------------------------------------\u001b[0m",
      "\u001b[0;31mKeyboardInterrupt\u001b[0m                         Traceback (most recent call last)",
      "\u001b[1;32m/Users/jpmartinezclaeys/Desktop/U Chicago/James Turk - RA/breitbart_url_scraper.ipynb Cell 4\u001b[0m in \u001b[0;36m<cell line: 26>\u001b[0;34m()\u001b[0m\n\u001b[1;32m     <a href='vscode-notebook-cell:/Users/jpmartinezclaeys/Desktop/U%20Chicago/James%20Turk%20-%20RA/breitbart_url_scraper.ipynb#W4sZmlsZQ%3D%3D?line=21'>22</a>\u001b[0m     \u001b[39mprint\u001b[39m(\u001b[39mlen\u001b[39m(links_list))\n\u001b[1;32m     <a href='vscode-notebook-cell:/Users/jpmartinezclaeys/Desktop/U%20Chicago/James%20Turk%20-%20RA/breitbart_url_scraper.ipynb#W4sZmlsZQ%3D%3D?line=23'>24</a>\u001b[0m     \u001b[39mreturn\u001b[39;00m links_dict\n\u001b[0;32m---> <a href='vscode-notebook-cell:/Users/jpmartinezclaeys/Desktop/U%20Chicago/James%20Turk%20-%20RA/breitbart_url_scraper.ipynb#W4sZmlsZQ%3D%3D?line=25'>26</a>\u001b[0m obtain_politics_url(\u001b[39m2023\u001b[39;49m,\u001b[39m100\u001b[39;49m)\n",
      "\u001b[1;32m/Users/jpmartinezclaeys/Desktop/U Chicago/James Turk - RA/breitbart_url_scraper.ipynb Cell 4\u001b[0m in \u001b[0;36mobtain_politics_url\u001b[0;34m(year, max_pages_to_crawl)\u001b[0m\n\u001b[1;32m      <a href='vscode-notebook-cell:/Users/jpmartinezclaeys/Desktop/U%20Chicago/James%20Turk%20-%20RA/breitbart_url_scraper.ipynb#W4sZmlsZQ%3D%3D?line=7'>8</a>\u001b[0m \u001b[39mwhile\u001b[39;00m \u001b[39mint\u001b[39m(year) \u001b[39m>\u001b[39m\u001b[39m=\u001b[39m \u001b[39m2023\u001b[39m: \n\u001b[1;32m      <a href='vscode-notebook-cell:/Users/jpmartinezclaeys/Desktop/U%20Chicago/James%20Turk%20-%20RA/breitbart_url_scraper.ipynb#W4sZmlsZQ%3D%3D?line=8'>9</a>\u001b[0m     \u001b[39mprint\u001b[39m(\u001b[39m\"\u001b[39m\u001b[39mObtaining results for page\u001b[39m\u001b[39m\"\u001b[39m,page)\n\u001b[0;32m---> <a href='vscode-notebook-cell:/Users/jpmartinezclaeys/Desktop/U%20Chicago/James%20Turk%20-%20RA/breitbart_url_scraper.ipynb#W4sZmlsZQ%3D%3D?line=9'>10</a>\u001b[0m     page_links \u001b[39m=\u001b[39m obtain_page_urls(\u001b[39mstr\u001b[39;49m(page))\n\u001b[1;32m     <a href='vscode-notebook-cell:/Users/jpmartinezclaeys/Desktop/U%20Chicago/James%20Turk%20-%20RA/breitbart_url_scraper.ipynb#W4sZmlsZQ%3D%3D?line=10'>11</a>\u001b[0m     key \u001b[39m=\u001b[39m \u001b[39m\"\u001b[39m\u001b[39mpage \u001b[39m\u001b[39m\"\u001b[39m \u001b[39m+\u001b[39m \u001b[39mstr\u001b[39m(page)\n\u001b[1;32m     <a href='vscode-notebook-cell:/Users/jpmartinezclaeys/Desktop/U%20Chicago/James%20Turk%20-%20RA/breitbart_url_scraper.ipynb#W4sZmlsZQ%3D%3D?line=11'>12</a>\u001b[0m     links_dict[key] \u001b[39m=\u001b[39m page_links\n",
      "\u001b[1;32m/Users/jpmartinezclaeys/Desktop/U Chicago/James Turk - RA/breitbart_url_scraper.ipynb Cell 4\u001b[0m in \u001b[0;36mobtain_page_urls\u001b[0;34m(page)\u001b[0m\n\u001b[1;32m      <a href='vscode-notebook-cell:/Users/jpmartinezclaeys/Desktop/U%20Chicago/James%20Turk%20-%20RA/breitbart_url_scraper.ipynb#W4sZmlsZQ%3D%3D?line=1'>2</a>\u001b[0m \u001b[39m\"\"\"\u001b[39;00m\n\u001b[1;32m      <a href='vscode-notebook-cell:/Users/jpmartinezclaeys/Desktop/U%20Chicago/James%20Turk%20-%20RA/breitbart_url_scraper.ipynb#W4sZmlsZQ%3D%3D?line=2'>3</a>\u001b[0m \u001b[39mObtain the urls for a page of results from the politics section of Breitbart\u001b[39;00m\n\u001b[1;32m      <a href='vscode-notebook-cell:/Users/jpmartinezclaeys/Desktop/U%20Chicago/James%20Turk%20-%20RA/breitbart_url_scraper.ipynb#W4sZmlsZQ%3D%3D?line=3'>4</a>\u001b[0m \u001b[39mInputs:\u001b[39;00m\n\u001b[0;32m   (...)\u001b[0m\n\u001b[1;32m      <a href='vscode-notebook-cell:/Users/jpmartinezclaeys/Desktop/U%20Chicago/James%20Turk%20-%20RA/breitbart_url_scraper.ipynb#W4sZmlsZQ%3D%3D?line=6'>7</a>\u001b[0m \u001b[39mlinks_list(list): List of urls \u001b[39;00m\n\u001b[1;32m      <a href='vscode-notebook-cell:/Users/jpmartinezclaeys/Desktop/U%20Chicago/James%20Turk%20-%20RA/breitbart_url_scraper.ipynb#W4sZmlsZQ%3D%3D?line=7'>8</a>\u001b[0m \u001b[39m\"\"\"\u001b[39;00m\n\u001b[1;32m      <a href='vscode-notebook-cell:/Users/jpmartinezclaeys/Desktop/U%20Chicago/James%20Turk%20-%20RA/breitbart_url_scraper.ipynb#W4sZmlsZQ%3D%3D?line=8'>9</a>\u001b[0m url \u001b[39m=\u001b[39m \u001b[39m\"\u001b[39m\u001b[39mhttps://www.breitbart.com/politics/page/\u001b[39m\u001b[39m{}\u001b[39;00m\u001b[39m/\u001b[39m\u001b[39m\"\u001b[39m\u001b[39m.\u001b[39mformat(page)\n\u001b[0;32m---> <a href='vscode-notebook-cell:/Users/jpmartinezclaeys/Desktop/U%20Chicago/James%20Turk%20-%20RA/breitbart_url_scraper.ipynb#W4sZmlsZQ%3D%3D?line=9'>10</a>\u001b[0m resp \u001b[39m=\u001b[39m requests\u001b[39m.\u001b[39;49mget(url)\n\u001b[1;32m     <a href='vscode-notebook-cell:/Users/jpmartinezclaeys/Desktop/U%20Chicago/James%20Turk%20-%20RA/breitbart_url_scraper.ipynb#W4sZmlsZQ%3D%3D?line=10'>11</a>\u001b[0m root \u001b[39m=\u001b[39m lxml\u001b[39m.\u001b[39mhtml\u001b[39m.\u001b[39mfromstring(resp\u001b[39m.\u001b[39mtext)\n\u001b[1;32m     <a href='vscode-notebook-cell:/Users/jpmartinezclaeys/Desktop/U%20Chicago/James%20Turk%20-%20RA/breitbart_url_scraper.ipynb#W4sZmlsZQ%3D%3D?line=11'>12</a>\u001b[0m articles_elements \u001b[39m=\u001b[39m root\u001b[39m.\u001b[39mcssselect(\u001b[39m\"\u001b[39m\u001b[39marticle\u001b[39m\u001b[39m\"\u001b[39m)\n",
      "File \u001b[0;32m~/opt/anaconda3/lib/python3.9/site-packages/requests/api.py:75\u001b[0m, in \u001b[0;36mget\u001b[0;34m(url, params, **kwargs)\u001b[0m\n\u001b[1;32m     64\u001b[0m \u001b[39mdef\u001b[39;00m \u001b[39mget\u001b[39m(url, params\u001b[39m=\u001b[39m\u001b[39mNone\u001b[39;00m, \u001b[39m*\u001b[39m\u001b[39m*\u001b[39mkwargs):\n\u001b[1;32m     65\u001b[0m     \u001b[39mr\u001b[39m\u001b[39m\"\"\"Sends a GET request.\u001b[39;00m\n\u001b[1;32m     66\u001b[0m \n\u001b[1;32m     67\u001b[0m \u001b[39m    :param url: URL for the new :class:`Request` object.\u001b[39;00m\n\u001b[0;32m   (...)\u001b[0m\n\u001b[1;32m     72\u001b[0m \u001b[39m    :rtype: requests.Response\u001b[39;00m\n\u001b[1;32m     73\u001b[0m \u001b[39m    \"\"\"\u001b[39;00m\n\u001b[0;32m---> 75\u001b[0m     \u001b[39mreturn\u001b[39;00m request(\u001b[39m'\u001b[39;49m\u001b[39mget\u001b[39;49m\u001b[39m'\u001b[39;49m, url, params\u001b[39m=\u001b[39;49mparams, \u001b[39m*\u001b[39;49m\u001b[39m*\u001b[39;49mkwargs)\n",
      "File \u001b[0;32m~/opt/anaconda3/lib/python3.9/site-packages/requests/api.py:61\u001b[0m, in \u001b[0;36mrequest\u001b[0;34m(method, url, **kwargs)\u001b[0m\n\u001b[1;32m     57\u001b[0m \u001b[39m# By using the 'with' statement we are sure the session is closed, thus we\u001b[39;00m\n\u001b[1;32m     58\u001b[0m \u001b[39m# avoid leaving sockets open which can trigger a ResourceWarning in some\u001b[39;00m\n\u001b[1;32m     59\u001b[0m \u001b[39m# cases, and look like a memory leak in others.\u001b[39;00m\n\u001b[1;32m     60\u001b[0m \u001b[39mwith\u001b[39;00m sessions\u001b[39m.\u001b[39mSession() \u001b[39mas\u001b[39;00m session:\n\u001b[0;32m---> 61\u001b[0m     \u001b[39mreturn\u001b[39;00m session\u001b[39m.\u001b[39;49mrequest(method\u001b[39m=\u001b[39;49mmethod, url\u001b[39m=\u001b[39;49murl, \u001b[39m*\u001b[39;49m\u001b[39m*\u001b[39;49mkwargs)\n",
      "File \u001b[0;32m~/opt/anaconda3/lib/python3.9/site-packages/requests/sessions.py:529\u001b[0m, in \u001b[0;36mSession.request\u001b[0;34m(self, method, url, params, data, headers, cookies, files, auth, timeout, allow_redirects, proxies, hooks, stream, verify, cert, json)\u001b[0m\n\u001b[1;32m    524\u001b[0m send_kwargs \u001b[39m=\u001b[39m {\n\u001b[1;32m    525\u001b[0m     \u001b[39m'\u001b[39m\u001b[39mtimeout\u001b[39m\u001b[39m'\u001b[39m: timeout,\n\u001b[1;32m    526\u001b[0m     \u001b[39m'\u001b[39m\u001b[39mallow_redirects\u001b[39m\u001b[39m'\u001b[39m: allow_redirects,\n\u001b[1;32m    527\u001b[0m }\n\u001b[1;32m    528\u001b[0m send_kwargs\u001b[39m.\u001b[39mupdate(settings)\n\u001b[0;32m--> 529\u001b[0m resp \u001b[39m=\u001b[39m \u001b[39mself\u001b[39;49m\u001b[39m.\u001b[39;49msend(prep, \u001b[39m*\u001b[39;49m\u001b[39m*\u001b[39;49msend_kwargs)\n\u001b[1;32m    531\u001b[0m \u001b[39mreturn\u001b[39;00m resp\n",
      "File \u001b[0;32m~/opt/anaconda3/lib/python3.9/site-packages/requests/sessions.py:645\u001b[0m, in \u001b[0;36mSession.send\u001b[0;34m(self, request, **kwargs)\u001b[0m\n\u001b[1;32m    642\u001b[0m start \u001b[39m=\u001b[39m preferred_clock()\n\u001b[1;32m    644\u001b[0m \u001b[39m# Send the request\u001b[39;00m\n\u001b[0;32m--> 645\u001b[0m r \u001b[39m=\u001b[39m adapter\u001b[39m.\u001b[39;49msend(request, \u001b[39m*\u001b[39;49m\u001b[39m*\u001b[39;49mkwargs)\n\u001b[1;32m    647\u001b[0m \u001b[39m# Total elapsed time of the request (approximately)\u001b[39;00m\n\u001b[1;32m    648\u001b[0m elapsed \u001b[39m=\u001b[39m preferred_clock() \u001b[39m-\u001b[39m start\n",
      "File \u001b[0;32m~/opt/anaconda3/lib/python3.9/site-packages/requests/adapters.py:440\u001b[0m, in \u001b[0;36mHTTPAdapter.send\u001b[0;34m(self, request, stream, timeout, verify, cert, proxies)\u001b[0m\n\u001b[1;32m    438\u001b[0m \u001b[39mtry\u001b[39;00m:\n\u001b[1;32m    439\u001b[0m     \u001b[39mif\u001b[39;00m \u001b[39mnot\u001b[39;00m chunked:\n\u001b[0;32m--> 440\u001b[0m         resp \u001b[39m=\u001b[39m conn\u001b[39m.\u001b[39;49murlopen(\n\u001b[1;32m    441\u001b[0m             method\u001b[39m=\u001b[39;49mrequest\u001b[39m.\u001b[39;49mmethod,\n\u001b[1;32m    442\u001b[0m             url\u001b[39m=\u001b[39;49murl,\n\u001b[1;32m    443\u001b[0m             body\u001b[39m=\u001b[39;49mrequest\u001b[39m.\u001b[39;49mbody,\n\u001b[1;32m    444\u001b[0m             headers\u001b[39m=\u001b[39;49mrequest\u001b[39m.\u001b[39;49mheaders,\n\u001b[1;32m    445\u001b[0m             redirect\u001b[39m=\u001b[39;49m\u001b[39mFalse\u001b[39;49;00m,\n\u001b[1;32m    446\u001b[0m             assert_same_host\u001b[39m=\u001b[39;49m\u001b[39mFalse\u001b[39;49;00m,\n\u001b[1;32m    447\u001b[0m             preload_content\u001b[39m=\u001b[39;49m\u001b[39mFalse\u001b[39;49;00m,\n\u001b[1;32m    448\u001b[0m             decode_content\u001b[39m=\u001b[39;49m\u001b[39mFalse\u001b[39;49;00m,\n\u001b[1;32m    449\u001b[0m             retries\u001b[39m=\u001b[39;49m\u001b[39mself\u001b[39;49m\u001b[39m.\u001b[39;49mmax_retries,\n\u001b[1;32m    450\u001b[0m             timeout\u001b[39m=\u001b[39;49mtimeout\n\u001b[1;32m    451\u001b[0m         )\n\u001b[1;32m    453\u001b[0m     \u001b[39m# Send the request.\u001b[39;00m\n\u001b[1;32m    454\u001b[0m     \u001b[39melse\u001b[39;00m:\n\u001b[1;32m    455\u001b[0m         \u001b[39mif\u001b[39;00m \u001b[39mhasattr\u001b[39m(conn, \u001b[39m'\u001b[39m\u001b[39mproxy_pool\u001b[39m\u001b[39m'\u001b[39m):\n",
      "File \u001b[0;32m~/opt/anaconda3/lib/python3.9/site-packages/urllib3/connectionpool.py:703\u001b[0m, in \u001b[0;36mHTTPConnectionPool.urlopen\u001b[0;34m(self, method, url, body, headers, retries, redirect, assert_same_host, timeout, pool_timeout, release_conn, chunked, body_pos, **response_kw)\u001b[0m\n\u001b[1;32m    700\u001b[0m     \u001b[39mself\u001b[39m\u001b[39m.\u001b[39m_prepare_proxy(conn)\n\u001b[1;32m    702\u001b[0m \u001b[39m# Make the request on the httplib connection object.\u001b[39;00m\n\u001b[0;32m--> 703\u001b[0m httplib_response \u001b[39m=\u001b[39m \u001b[39mself\u001b[39;49m\u001b[39m.\u001b[39;49m_make_request(\n\u001b[1;32m    704\u001b[0m     conn,\n\u001b[1;32m    705\u001b[0m     method,\n\u001b[1;32m    706\u001b[0m     url,\n\u001b[1;32m    707\u001b[0m     timeout\u001b[39m=\u001b[39;49mtimeout_obj,\n\u001b[1;32m    708\u001b[0m     body\u001b[39m=\u001b[39;49mbody,\n\u001b[1;32m    709\u001b[0m     headers\u001b[39m=\u001b[39;49mheaders,\n\u001b[1;32m    710\u001b[0m     chunked\u001b[39m=\u001b[39;49mchunked,\n\u001b[1;32m    711\u001b[0m )\n\u001b[1;32m    713\u001b[0m \u001b[39m# If we're going to release the connection in ``finally:``, then\u001b[39;00m\n\u001b[1;32m    714\u001b[0m \u001b[39m# the response doesn't need to know about the connection. Otherwise\u001b[39;00m\n\u001b[1;32m    715\u001b[0m \u001b[39m# it will also try to release it and we'll have a double-release\u001b[39;00m\n\u001b[1;32m    716\u001b[0m \u001b[39m# mess.\u001b[39;00m\n\u001b[1;32m    717\u001b[0m response_conn \u001b[39m=\u001b[39m conn \u001b[39mif\u001b[39;00m \u001b[39mnot\u001b[39;00m release_conn \u001b[39melse\u001b[39;00m \u001b[39mNone\u001b[39;00m\n",
      "File \u001b[0;32m~/opt/anaconda3/lib/python3.9/site-packages/urllib3/connectionpool.py:449\u001b[0m, in \u001b[0;36mHTTPConnectionPool._make_request\u001b[0;34m(self, conn, method, url, timeout, chunked, **httplib_request_kw)\u001b[0m\n\u001b[1;32m    444\u001b[0m             httplib_response \u001b[39m=\u001b[39m conn\u001b[39m.\u001b[39mgetresponse()\n\u001b[1;32m    445\u001b[0m         \u001b[39mexcept\u001b[39;00m \u001b[39mBaseException\u001b[39;00m \u001b[39mas\u001b[39;00m e:\n\u001b[1;32m    446\u001b[0m             \u001b[39m# Remove the TypeError from the exception chain in\u001b[39;00m\n\u001b[1;32m    447\u001b[0m             \u001b[39m# Python 3 (including for exceptions like SystemExit).\u001b[39;00m\n\u001b[1;32m    448\u001b[0m             \u001b[39m# Otherwise it looks like a bug in the code.\u001b[39;00m\n\u001b[0;32m--> 449\u001b[0m             six\u001b[39m.\u001b[39;49mraise_from(e, \u001b[39mNone\u001b[39;49;00m)\n\u001b[1;32m    450\u001b[0m \u001b[39mexcept\u001b[39;00m (SocketTimeout, BaseSSLError, SocketError) \u001b[39mas\u001b[39;00m e:\n\u001b[1;32m    451\u001b[0m     \u001b[39mself\u001b[39m\u001b[39m.\u001b[39m_raise_timeout(err\u001b[39m=\u001b[39me, url\u001b[39m=\u001b[39murl, timeout_value\u001b[39m=\u001b[39mread_timeout)\n",
      "File \u001b[0;32m<string>:3\u001b[0m, in \u001b[0;36mraise_from\u001b[0;34m(value, from_value)\u001b[0m\n",
      "File \u001b[0;32m~/opt/anaconda3/lib/python3.9/site-packages/urllib3/connectionpool.py:444\u001b[0m, in \u001b[0;36mHTTPConnectionPool._make_request\u001b[0;34m(self, conn, method, url, timeout, chunked, **httplib_request_kw)\u001b[0m\n\u001b[1;32m    441\u001b[0m \u001b[39mexcept\u001b[39;00m \u001b[39mTypeError\u001b[39;00m:\n\u001b[1;32m    442\u001b[0m     \u001b[39m# Python 3\u001b[39;00m\n\u001b[1;32m    443\u001b[0m     \u001b[39mtry\u001b[39;00m:\n\u001b[0;32m--> 444\u001b[0m         httplib_response \u001b[39m=\u001b[39m conn\u001b[39m.\u001b[39;49mgetresponse()\n\u001b[1;32m    445\u001b[0m     \u001b[39mexcept\u001b[39;00m \u001b[39mBaseException\u001b[39;00m \u001b[39mas\u001b[39;00m e:\n\u001b[1;32m    446\u001b[0m         \u001b[39m# Remove the TypeError from the exception chain in\u001b[39;00m\n\u001b[1;32m    447\u001b[0m         \u001b[39m# Python 3 (including for exceptions like SystemExit).\u001b[39;00m\n\u001b[1;32m    448\u001b[0m         \u001b[39m# Otherwise it looks like a bug in the code.\u001b[39;00m\n\u001b[1;32m    449\u001b[0m         six\u001b[39m.\u001b[39mraise_from(e, \u001b[39mNone\u001b[39;00m)\n",
      "File \u001b[0;32m~/opt/anaconda3/lib/python3.9/http/client.py:1377\u001b[0m, in \u001b[0;36mHTTPConnection.getresponse\u001b[0;34m(self)\u001b[0m\n\u001b[1;32m   1375\u001b[0m \u001b[39mtry\u001b[39;00m:\n\u001b[1;32m   1376\u001b[0m     \u001b[39mtry\u001b[39;00m:\n\u001b[0;32m-> 1377\u001b[0m         response\u001b[39m.\u001b[39;49mbegin()\n\u001b[1;32m   1378\u001b[0m     \u001b[39mexcept\u001b[39;00m \u001b[39mConnectionError\u001b[39;00m:\n\u001b[1;32m   1379\u001b[0m         \u001b[39mself\u001b[39m\u001b[39m.\u001b[39mclose()\n",
      "File \u001b[0;32m~/opt/anaconda3/lib/python3.9/http/client.py:320\u001b[0m, in \u001b[0;36mHTTPResponse.begin\u001b[0;34m(self)\u001b[0m\n\u001b[1;32m    318\u001b[0m \u001b[39m# read until we get a non-100 response\u001b[39;00m\n\u001b[1;32m    319\u001b[0m \u001b[39mwhile\u001b[39;00m \u001b[39mTrue\u001b[39;00m:\n\u001b[0;32m--> 320\u001b[0m     version, status, reason \u001b[39m=\u001b[39m \u001b[39mself\u001b[39;49m\u001b[39m.\u001b[39;49m_read_status()\n\u001b[1;32m    321\u001b[0m     \u001b[39mif\u001b[39;00m status \u001b[39m!=\u001b[39m CONTINUE:\n\u001b[1;32m    322\u001b[0m         \u001b[39mbreak\u001b[39;00m\n",
      "File \u001b[0;32m~/opt/anaconda3/lib/python3.9/http/client.py:281\u001b[0m, in \u001b[0;36mHTTPResponse._read_status\u001b[0;34m(self)\u001b[0m\n\u001b[1;32m    280\u001b[0m \u001b[39mdef\u001b[39;00m \u001b[39m_read_status\u001b[39m(\u001b[39mself\u001b[39m):\n\u001b[0;32m--> 281\u001b[0m     line \u001b[39m=\u001b[39m \u001b[39mstr\u001b[39m(\u001b[39mself\u001b[39;49m\u001b[39m.\u001b[39;49mfp\u001b[39m.\u001b[39;49mreadline(_MAXLINE \u001b[39m+\u001b[39;49m \u001b[39m1\u001b[39;49m), \u001b[39m\"\u001b[39m\u001b[39miso-8859-1\u001b[39m\u001b[39m\"\u001b[39m)\n\u001b[1;32m    282\u001b[0m     \u001b[39mif\u001b[39;00m \u001b[39mlen\u001b[39m(line) \u001b[39m>\u001b[39m _MAXLINE:\n\u001b[1;32m    283\u001b[0m         \u001b[39mraise\u001b[39;00m LineTooLong(\u001b[39m\"\u001b[39m\u001b[39mstatus line\u001b[39m\u001b[39m\"\u001b[39m)\n",
      "File \u001b[0;32m~/opt/anaconda3/lib/python3.9/socket.py:704\u001b[0m, in \u001b[0;36mSocketIO.readinto\u001b[0;34m(self, b)\u001b[0m\n\u001b[1;32m    702\u001b[0m \u001b[39mwhile\u001b[39;00m \u001b[39mTrue\u001b[39;00m:\n\u001b[1;32m    703\u001b[0m     \u001b[39mtry\u001b[39;00m:\n\u001b[0;32m--> 704\u001b[0m         \u001b[39mreturn\u001b[39;00m \u001b[39mself\u001b[39;49m\u001b[39m.\u001b[39;49m_sock\u001b[39m.\u001b[39;49mrecv_into(b)\n\u001b[1;32m    705\u001b[0m     \u001b[39mexcept\u001b[39;00m timeout:\n\u001b[1;32m    706\u001b[0m         \u001b[39mself\u001b[39m\u001b[39m.\u001b[39m_timeout_occurred \u001b[39m=\u001b[39m \u001b[39mTrue\u001b[39;00m\n",
      "File \u001b[0;32m~/opt/anaconda3/lib/python3.9/ssl.py:1241\u001b[0m, in \u001b[0;36mSSLSocket.recv_into\u001b[0;34m(self, buffer, nbytes, flags)\u001b[0m\n\u001b[1;32m   1237\u001b[0m     \u001b[39mif\u001b[39;00m flags \u001b[39m!=\u001b[39m \u001b[39m0\u001b[39m:\n\u001b[1;32m   1238\u001b[0m         \u001b[39mraise\u001b[39;00m \u001b[39mValueError\u001b[39;00m(\n\u001b[1;32m   1239\u001b[0m           \u001b[39m\"\u001b[39m\u001b[39mnon-zero flags not allowed in calls to recv_into() on \u001b[39m\u001b[39m%s\u001b[39;00m\u001b[39m\"\u001b[39m \u001b[39m%\u001b[39m\n\u001b[1;32m   1240\u001b[0m           \u001b[39mself\u001b[39m\u001b[39m.\u001b[39m\u001b[39m__class__\u001b[39m)\n\u001b[0;32m-> 1241\u001b[0m     \u001b[39mreturn\u001b[39;00m \u001b[39mself\u001b[39;49m\u001b[39m.\u001b[39;49mread(nbytes, buffer)\n\u001b[1;32m   1242\u001b[0m \u001b[39melse\u001b[39;00m:\n\u001b[1;32m   1243\u001b[0m     \u001b[39mreturn\u001b[39;00m \u001b[39msuper\u001b[39m()\u001b[39m.\u001b[39mrecv_into(buffer, nbytes, flags)\n",
      "File \u001b[0;32m~/opt/anaconda3/lib/python3.9/ssl.py:1099\u001b[0m, in \u001b[0;36mSSLSocket.read\u001b[0;34m(self, len, buffer)\u001b[0m\n\u001b[1;32m   1097\u001b[0m \u001b[39mtry\u001b[39;00m:\n\u001b[1;32m   1098\u001b[0m     \u001b[39mif\u001b[39;00m buffer \u001b[39mis\u001b[39;00m \u001b[39mnot\u001b[39;00m \u001b[39mNone\u001b[39;00m:\n\u001b[0;32m-> 1099\u001b[0m         \u001b[39mreturn\u001b[39;00m \u001b[39mself\u001b[39;49m\u001b[39m.\u001b[39;49m_sslobj\u001b[39m.\u001b[39;49mread(\u001b[39mlen\u001b[39;49m, buffer)\n\u001b[1;32m   1100\u001b[0m     \u001b[39melse\u001b[39;00m:\n\u001b[1;32m   1101\u001b[0m         \u001b[39mreturn\u001b[39;00m \u001b[39mself\u001b[39m\u001b[39m.\u001b[39m_sslobj\u001b[39m.\u001b[39mread(\u001b[39mlen\u001b[39m)\n",
      "\u001b[0;31mKeyboardInterrupt\u001b[0m: "
     ]
    }
   ],
   "source": [
    "def obtain_politics_url(year=2022,max_pages_to_crawl=100):\n",
    "    \"\"\" \n",
    "    \n",
    "    \"\"\"\n",
    "    links_dict = {}\n",
    "    links_list = []\n",
    "    page = 1\n",
    "    while int(year) >= 2023: \n",
    "        print(\"Obtaining results for page\",page)\n",
    "        page_links = obtain_page_urls(str(page))\n",
    "        key = \"page \" + str(page)\n",
    "        links_dict[key] = page_links\n",
    "        links_list.extend(page_links)\n",
    "        last_article = page_links[-1]\n",
    "        #After bretibart.com/<section> there is the date as /<year>/<month>/<day>,\n",
    "        #retrieve the year to match \n",
    "        year = re.search(r'\\d{4}',last_article).group()\n",
    "        print(\"year\",year)\n",
    "        page += 1\n",
    "        time.sleep(2)\n",
    "    \n",
    "    print(len(links_list))\n",
    "    \n",
    "    return links_dict\n",
    "\n",
    "obtain_politics_url(2023,100)\n"
   ]
  }
 ],
 "metadata": {
  "kernelspec": {
   "display_name": "base",
   "language": "python",
   "name": "python3"
  },
  "language_info": {
   "codemirror_mode": {
    "name": "ipython",
    "version": 3
   },
   "file_extension": ".py",
   "mimetype": "text/x-python",
   "name": "python",
   "nbconvert_exporter": "python",
   "pygments_lexer": "ipython3",
   "version": "3.9.12"
  },
  "orig_nbformat": 4
 },
 "nbformat": 4,
 "nbformat_minor": 2
}

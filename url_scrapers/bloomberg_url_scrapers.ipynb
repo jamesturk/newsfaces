{
 "cells": [
  {
   "cell_type": "code",
   "execution_count": 1,
   "metadata": {},
   "outputs": [],
   "source": [
    "#Import necessary libraries\n",
    "import time\n",
    "import requests\n",
    "import urllib\n",
    "import lxml.html\n",
    "from bs4 import BeautifulSoup\n",
    "import newspaper\n",
    "import trafilatura\n",
    "from selenium import webdriver\n",
    "from selenium.webdriver.common.by import By"
   ]
  },
  {
   "cell_type": "code",
   "execution_count": 6,
   "metadata": {},
   "outputs": [],
   "source": [
    "\n",
    "\n",
    "def find_link_elements(driver):\n",
    "    url_set = set()\n",
    "    driver.execute_script(\"window.scrollTo(0,document.body.scrollHeight)\")\n",
    "    articles = driver.find_elements(By.CSS_SELECTOR,'div.styles_storyInfo__Ci7_l')\n",
    "    print(articles)\n",
    "    for article in articles:\n",
    "        url_set.add(article.find_elements(By.CLASS_NAME,'a')[0].get_attribute(\"href\"))\n",
    "\n",
    "    return url_set"
   ]
  },
  {
   "cell_type": "code",
   "execution_count": 9,
   "metadata": {},
   "outputs": [
    {
     "name": "stdout",
     "output_type": "stream",
     "text": [
      "[<selenium.webdriver.remote.webelement.WebElement (session=\"7df8ebe4203e0b95daed3376b024bad1\", element=\"B9AB069B908BFDD7C40E0CE2931C1165_element_78\")>, <selenium.webdriver.remote.webelement.WebElement (session=\"7df8ebe4203e0b95daed3376b024bad1\", element=\"B9AB069B908BFDD7C40E0CE2931C1165_element_79\")>, <selenium.webdriver.remote.webelement.WebElement (session=\"7df8ebe4203e0b95daed3376b024bad1\", element=\"B9AB069B908BFDD7C40E0CE2931C1165_element_80\")>, <selenium.webdriver.remote.webelement.WebElement (session=\"7df8ebe4203e0b95daed3376b024bad1\", element=\"B9AB069B908BFDD7C40E0CE2931C1165_element_81\")>, <selenium.webdriver.remote.webelement.WebElement (session=\"7df8ebe4203e0b95daed3376b024bad1\", element=\"B9AB069B908BFDD7C40E0CE2931C1165_element_82\")>, <selenium.webdriver.remote.webelement.WebElement (session=\"7df8ebe4203e0b95daed3376b024bad1\", element=\"B9AB069B908BFDD7C40E0CE2931C1165_element_83\")>, <selenium.webdriver.remote.webelement.WebElement (session=\"7df8ebe4203e0b95daed3376b024bad1\", element=\"B9AB069B908BFDD7C40E0CE2931C1165_element_84\")>, <selenium.webdriver.remote.webelement.WebElement (session=\"7df8ebe4203e0b95daed3376b024bad1\", element=\"B9AB069B908BFDD7C40E0CE2931C1165_element_85\")>]\n"
     ]
    },
    {
     "ename": "IndexError",
     "evalue": "list index out of range",
     "output_type": "error",
     "traceback": [
      "\u001b[0;31m---------------------------------------------------------------------------\u001b[0m",
      "\u001b[0;31mIndexError\u001b[0m                                Traceback (most recent call last)",
      "\u001b[1;32m/Users/jpmartinezclaeys/Desktop/U Chicago/James Turk - RA/newsfaces/url_scrapers/bloomberg_url_scrapers.ipynb Cell 3\u001b[0m in \u001b[0;36m<cell line: 3>\u001b[0;34m()\u001b[0m\n\u001b[1;32m      <a href='vscode-notebook-cell:/Users/jpmartinezclaeys/Desktop/U%20Chicago/James%20Turk%20-%20RA/newsfaces/url_scrapers/bloomberg_url_scrapers.ipynb#W3sZmlsZQ%3D%3D?line=0'>1</a>\u001b[0m driver \u001b[39m=\u001b[39m webdriver\u001b[39m.\u001b[39mChrome()\n\u001b[1;32m      <a href='vscode-notebook-cell:/Users/jpmartinezclaeys/Desktop/U%20Chicago/James%20Turk%20-%20RA/newsfaces/url_scrapers/bloomberg_url_scrapers.ipynb#W3sZmlsZQ%3D%3D?line=1'>2</a>\u001b[0m driver\u001b[39m.\u001b[39mget(\u001b[39m\"\u001b[39m\u001b[39mhttps://www.bloomberg.com/politics\u001b[39m\u001b[39m\"\u001b[39m)\n\u001b[0;32m----> <a href='vscode-notebook-cell:/Users/jpmartinezclaeys/Desktop/U%20Chicago/James%20Turk%20-%20RA/newsfaces/url_scrapers/bloomberg_url_scrapers.ipynb#W3sZmlsZQ%3D%3D?line=2'>3</a>\u001b[0m find_link_elements(driver)\n",
      "\u001b[1;32m/Users/jpmartinezclaeys/Desktop/U Chicago/James Turk - RA/newsfaces/url_scrapers/bloomberg_url_scrapers.ipynb Cell 3\u001b[0m in \u001b[0;36mfind_link_elements\u001b[0;34m(driver)\u001b[0m\n\u001b[1;32m      <a href='vscode-notebook-cell:/Users/jpmartinezclaeys/Desktop/U%20Chicago/James%20Turk%20-%20RA/newsfaces/url_scrapers/bloomberg_url_scrapers.ipynb#W3sZmlsZQ%3D%3D?line=7'>8</a>\u001b[0m \u001b[39mprint\u001b[39m(articles)\n\u001b[1;32m      <a href='vscode-notebook-cell:/Users/jpmartinezclaeys/Desktop/U%20Chicago/James%20Turk%20-%20RA/newsfaces/url_scrapers/bloomberg_url_scrapers.ipynb#W3sZmlsZQ%3D%3D?line=8'>9</a>\u001b[0m \u001b[39mfor\u001b[39;00m article \u001b[39min\u001b[39;00m articles:\n\u001b[0;32m---> <a href='vscode-notebook-cell:/Users/jpmartinezclaeys/Desktop/U%20Chicago/James%20Turk%20-%20RA/newsfaces/url_scrapers/bloomberg_url_scrapers.ipynb#W3sZmlsZQ%3D%3D?line=9'>10</a>\u001b[0m     url_set\u001b[39m.\u001b[39madd(article\u001b[39m.\u001b[39;49mfind_elements(By\u001b[39m.\u001b[39;49mCLASS_NAME,\u001b[39m'\u001b[39;49m\u001b[39ma\u001b[39;49m\u001b[39m'\u001b[39;49m)[\u001b[39m0\u001b[39;49m]\u001b[39m.\u001b[39mget_attribute(\u001b[39m\"\u001b[39m\u001b[39mhref\u001b[39m\u001b[39m\"\u001b[39m))\n\u001b[1;32m     <a href='vscode-notebook-cell:/Users/jpmartinezclaeys/Desktop/U%20Chicago/James%20Turk%20-%20RA/newsfaces/url_scrapers/bloomberg_url_scrapers.ipynb#W3sZmlsZQ%3D%3D?line=11'>12</a>\u001b[0m \u001b[39mreturn\u001b[39;00m url_set\n",
      "\u001b[0;31mIndexError\u001b[0m: list index out of range"
     ]
    }
   ],
   "source": [
    "driver = webdriver.Chrome()\n",
    "driver.get(\"https://www.bloomberg.com/politics\")\n",
    "find_link_elements(driver)"
   ]
  }
 ],
 "metadata": {
  "kernelspec": {
   "display_name": "base",
   "language": "python",
   "name": "python3"
  },
  "language_info": {
   "codemirror_mode": {
    "name": "ipython",
    "version": 3
   },
   "file_extension": ".py",
   "mimetype": "text/x-python",
   "name": "python",
   "nbconvert_exporter": "python",
   "pygments_lexer": "ipython3",
   "version": "3.9.12"
  },
  "orig_nbformat": 4
 },
 "nbformat": 4,
 "nbformat_minor": 2
}

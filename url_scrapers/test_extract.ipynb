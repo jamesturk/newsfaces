{
 "cells": [
  {
   "cell_type": "code",
   "execution_count": 48,
   "metadata": {},
   "outputs": [],
   "source": [
    "def extract_html(\n",
    "    html, article_selector,img_p_selector, img_selector=\"img\", p_selector=None,\n",
    "    t_selector=None):\n",
    "    \"\"\"\n",
    "    Extract the image and text content from and HTML:\n",
    "    Inputs:\n",
    "        - html(str): Full html of an artcile url\n",
    "        - article_selector(str): css selector for article container\n",
    "        - img_p_selector(str): css selector for the parent elements of images in article\n",
    "        - img_selector(str): css selector for images living inside the article\n",
    "        container\n",
    "        - p_selector(str): css selector for paragraphs living inside the article container\n",
    "        - t_selector(str): css selector for title living inside the article container\n",
    "    Return:\n",
    "        -imgs(lst): list where each element is an image represented as a dictionary\n",
    "        with src, alt, title, and caption as fields\n",
    "        - art_text(str): Article text\n",
    "        - t_text(str): Title\n",
    "    \"\"\"\n",
    "    article_body = html.cssselect(article_selector)[0]\n",
    "    imgs = extract_imgs(article_body,img_p_selector,img_selector)\n",
    "    art_text = extract_text(article_body, p_selector)\n",
    "    if t_selector:\n",
    "        t_text = html.cssselect(t_selector)[0].text\n",
    "    return imgs, art_text, t_text\n",
    "\n",
    "\n",
    "def extract_imgs(html, img_p_selector,img_selector=\"img\"):\n",
    "    \"\"\"\n",
    "    Extract the image content from an HTML:\n",
    "    Inputs:\n",
    "        - html(str): html to extract images from\n",
    "        - img_p_selector(str): css selector for the parent elements of images in articles\n",
    "    Return:\n",
    "        - img_selector(str): css selector for the image elements\n",
    "        Return:\n",
    "        -imgs(lst): list where each element is an image represented as a dictionary\n",
    "        with src, alt, title, and caption as fields\n",
    "    \"\"\"\n",
    "    imgs = []\n",
    "    for selector in img_p_selector:\n",
    "        img_container = html.cssselect(selector)\n",
    "        for container in img_container:\n",
    "            images = container.cssselect(img_selector)\n",
    "            for img in images:\n",
    "                img_item = {}\n",
    "                img_item[\"src\"] = img.get(\"src\")\n",
    "                img_item[\"alt\"] = img.get(\"alt\")\n",
    "                img_item[\"title\"] = img.get(\"title\")\n",
    "                img_item[\"caption\"] = img.get(\"caption\")\n",
    "                imgs.append(img_item)\n",
    "    return imgs\n",
    "\n",
    "\n",
    "def extract_text(html, p_selector=None):\n",
    "    \"\"\"\n",
    "    Extract the article text content from an HTML:\n",
    "    Inputs:\n",
    "        - p_selector(str): css selector for paragraphs living inside the article container\n",
    "    Return:\n",
    "        - text(str): Article text\n",
    "    \"\"\"\n",
    "    text = None\n",
    "    if p_selector:\n",
    "        paragraphs = html.cssselect(p_selector)\n",
    "        if paragraphs:\n",
    "            text = \"\"\n",
    "            for p in paragraphs:\n",
    "                text += p.text_content()\n",
    "\n",
    "    return text"
   ]
  },
  {
   "cell_type": "code",
   "execution_count": 49,
   "metadata": {},
   "outputs": [
    {
     "data": {
      "text/plain": [
       "([{'src': 'https://i0.wp.com/thehill.com/wp-content/uploads/sites/2/2020/10/eviction-order_az_100720getty_housing.jpg?w=2000&ssl=1',\n",
       "   'alt': '',\n",
       "   'title': None,\n",
       "   'caption': None}],\n",
       " 'A potentially dire housing crisis could erupt if the Trump administration and Congress fail to reach a deal on further coronavirus relief that includes eviction protections and substantial rent assistance, experts warn.The Centers for Disease Control and Prevention (CDC) issued a sweeping eviction ban last month in an unprecedented flex of its emergency authorities, but the moratorium stands on shaky legal ground — and only runs through the end of the year.Uneven interpretations of the CDC’s ban among judges across the U.S. have hobbled its effectiveness, forcing thousands of families out of their rental homes already. Millions more could face the same fate when the ban expires on Jan. 1.The Trump administration and House Democrats have been locked in volatile negotiations over the past few weeks with no clear path to deal to more pandemic relief before Election Day. President Trump’s mixed messages and frequent reversal on the size and scope of the aid have only complicated the talks, but both the administration and Democratic leaders broadly agree on the need for some form of housing aid in an eventual package.Evictions not only make it harder for struggling families to get back on their feet, experts say, but also increase COVID-19 transmission by forcing ousted tenants into shelters or doubling up with other families in tighter living environments.“Larger households are dangerous for infectious disease because you have more people so there’s more avenues of ingress of the virus,” said Michael Levy, a epidemiology professor at the University of Pennsylvania who has studied the connection between evictions and coronavirus transmission.“The worry was even a fairly modest change in the household size structure in a population could have kind of an outsized effect on an epidemic on a city scale,” he said.Housing advocates and analysts said the CDC’s ban on landlords evicting tenants who can no longer pay rent due to the pandemic was a sorely needed lifeline for millions of families.“The CDC order is crucial right now, and it’s equally important that it be coupled with rental assistance to prevent the long-term harm and suffering that’s just ahead of us,” said Emily Benfer, a law professor at Wake Forest University.“It’s unconscionable for the government to turn its back on the millions upon millions of people who are struggling, and unreasonable to ask them the people hardest hit to bear the brunt of the pandemic knowing that they cannot recover without this type of assistance.”Housing advocates hailed the Trump administration for its novel and ambitious bid to prevent a flood of evictions amid rising coronavirus cases. One month later, they say the ban has largely been effective when renters facing eviction are aware of their protections.Even so, advocates say they’ve struggled to reach the overwhelming number of renters facing eviction in time to prevent landlords from proceeding with efforts to oust them.“The challenge is that in order to be protected, renters have to take an affirmative step to be covered,” said Sarah Saadian, vice president of public policy for the National Low Income Housing Coalition.In order to qualify for the eviction protection, a tenant must declare that their 2020 income will fall below the threshold set out in the order; that they’ve sought all potential sources of federal housing aid; and that they cannot afford to pay the rent due to a pandemic-related job loss or expense despite their best efforts to do so.“Many renters just don’t know that moratorium is in place and what steps they need to take, and that has allowed — especially institutional and corporate landlords — to move forward with evictions,” Saadian said.Between Sept. 27 and Oct. 3, more than 2,100 landlords in 17 U.S. cities initiated eviction filings, according to the Princeton University Eviction Lab. Landlords have filed a total of 58,612 evictions in those cities since the start of the pandemic.The lack of clear federal guidance and disparate applications of the order by judges have also created holes in the CDC’s safety net. Some judges have applied the CDC’s order to dismiss eviction filings entirely until next year, while others have only delayed the effective date of the eviction until then or even challenged the legality of the ban entirely.“Across the country, states and counties have taken somewhat inconsistent approaches to applying the CDC moratorium,” Benfer said, noting that just 13 states have issued guidelines or orders meant to fill in those gaps.“When that happens, there’s a greater potential to thwart the purpose of the order itself, which is to prevent the spread of COVID-19,” she continued.Households that manage to avoid eviction and infection still face considerable challenges at the end of the CDC ban without federal support. The order requires households protected from eviction to pay rent and fees due to landlords as soon as Jan. 1, a daunting challenge for those unable to afford rent amid soaring unemployment and rapidly depleting relief funds.Roughly 32 percent of U.S. households believe they will face eviction or foreclosure within the next 60 days, and another 6.8 percent said they do not expect to pay their next monthly rent or mortgage payment on time, according to a Census Bureau survey released Wednesday.David Dworkin, president and CEO of the National Housing Conference, estimated that it will take $25 billion to $35 billion to cover the rent due to landlords.“Congress is going to have to pay this bill, sooner or later. It’s going to be a lot more expensive later,” Dworkin said.Updated at 12:13 p.m.Copyright 2023 Nexstar Media Inc. All rights reserved. This material may not be published, broadcast, rewritten, or redistributed.',\n",
       " '\\n\\t\\tAdvocates plead for housing aid as eviction cliff looms\\t')"
      ]
     },
     "execution_count": 49,
     "metadata": {},
     "output_type": "execute_result"
    }
   ],
   "source": [
    "import requests\n",
    "import lxml.html\n",
    "\n",
    "#The Hill\n",
    "#Test The Hill\n",
    "\n",
    "url_23 = \"https://thehill.com/policy/equilibrium-sustainability/4083552-referrals-could-boost-participation-in-low-income-rooftop-solar-programs-study/\"\n",
    "url_21 = \"https://thehill.com/policy/technology/overnights/569074-hillicon-valley-millions-exposed-due-to-microsoft/\" \n",
    "url_20 = \"https://thehill.com/policy/finance/520444-advocates-plead-for-housing-aid-as-eviction-cliff-looms/\"\n",
    "resp = requests.get(url_20)\n",
    "root = lxml.html.fromstring(resp.text)  \n",
    "the_hill_23 = extract_html(root,article_selector=\"div.col-main\",t_selector=\"h1.page-title\",p_selector=\"p\",img_p_selector=[\"figure.article__featured-image\"])\n",
    "the_hill_23\n"
   ]
  },
  {
   "cell_type": "code",
   "execution_count": 50,
   "metadata": {},
   "outputs": [
    {
     "data": {
      "text/plain": [
       "([{'src': 'https://media.npr.org/assets/img/2023/07/21/gettyimages-1268846574_custom-a3f93f4771d72f71cb1e80fef79e45833e29ad87-s1100-c50.jpg',\n",
       "   'alt': '',\n",
       "   'title': None,\n",
       "   'caption': None},\n",
       "  {'src': None, 'alt': '', 'title': None, 'caption': None}],\n",
       " '\\n      \\n      Greg Rosalsky\\n    \\n  \\n                CAMBRIDGE, MASSACHUSETTS - JUNE 29: People walk through the gate on Harvard Yard at the Harvard University campus on June 29, 2023 in Cambridge, Massachusetts.\\n                \\n                    \\n                    Scott Eisen/Getty Images\\n                    \\n                \\n                hide caption\\n            CAMBRIDGE, MASSACHUSETTS - JUNE 29: People walk through the gate on Harvard Yard at the Harvard University campus on June 29, 2023 in Cambridge, Massachusetts.A few weeks ago, the U.S. Supreme Court ended affirmative action in college admissions. The ruling held that the race-conscious admission programs of Harvard University and the University of North Carolina violated the Equal Protection Clause of the Fourteenth Amendment. It\\'s now deemed unconstitutional for colleges — both public and private — to weigh race as a factor in who they should admit.Affirmative action for minority kids may now be dead. But a blockbuster new study, released today, finds that, effectively, affirmative action for rich kids is alive and well. They may or may not always do it on purpose, but a group of the most prestigious private colleges in America are handing a massive admissions advantage to rich kids over less affluent kids — even when they have the same SAT scores and academic qualifications.The study is by Raj Chetty and David J. Deming, of Harvard University, and John N. Friedman, of Brown University. We at Planet Money have already dubbed Raj Chetty the Beyoncé of Economics because of his long list of popular hits in empirical economics. And, let me tell you, this is another ***Flawless classic in his catalog. I mean, not only is the study eye-opening, but Chetty is also kind of sticking his neck out here, by shining a spotlight on the admission practices of his employer, Harvard. But they can\\'t fire Beyoncé! (He has tenure).Among a number of other discoveries, the economists find that kids from the richest 1% of American families are more than twice as likely to attend the nation\\'s most elite private colleges as kids from middle-class families with similar SAT scores. The silver spoon these wealthy kids are born with can, apparently, be used to catapult them past other equally bright, but less privileged kids into some of America\\'s best colleges.Chetty and his colleagues provide compelling evidence that fancy schools are promoting a kind of neo-aristocracy, with admission programs that help to perpetuate a family\\'s class privilege from one generation to the next. The advantages they grant to rich kids are about more than just legacy admissions, a practice in which elite colleges give preferential treatment to kids of alumni and donors. The economists find that other types of evaluation and recruitment play important roles in giving rich kids a leg up, as well.Going further, the economists find evidence suggesting that reforms to the admissions policies at these prestigious schools could really make a big difference in the life trajectories of less affluent kids, and make America\\'s elite less of an exclusive club for people born into privilege.Chetty, Deming, and Friedman focus their study on what they call the \"Ivy-Plus colleges\": the eight Ivy League schools — Harvard, Princeton, Yale, Columbia, Brown, Cornell, Dartmouth, and UPenn — as well as Stanford, MIT, Duke, and the University of Chicago.Less than half of 1% of Americans go to these prestigious private colleges. \"Yet these twelve colleges account for more than 10% of Fortune 500 CEOs, a quarter of U.S. Senators, half of all Rhodes scholars, and three-fourths of Supreme Court justices appointed in the last half-century,\" the economists write. These schools, in other words, appear to be an important gateway to the American elite, which makes their admission policies relevant for all of us.Rich kids obviously have a bunch of advantages that help them bolster their academic credentials — like great private schools, SAT tutors and so on. Indeed, Chetty and his colleagues have already amassed a ton of evidence that the environment — even the zip code — in which kids grow up has a huge impact on their chances of climbing the economic ladder.But these childhood advantages are not what this study is about. In this study, the economists compare rich kids and their less affluent peers who have achieved roughly equal academic credentials (measured by SAT scores and GPAs). Yet, even then, the rich kids are still way more likely to get into elite colleges. It\\'s pretty shocking when you consider how much harder it is for a less well-off kid to measure up academically to a rich kid, who, from a young age, has benefited from tremendous resources aimed at bolstering their academic credentials.[Editor\\'s note: This is an excerpt of Planet Money\\'s newsletter. You can sign up here.]The economists pull together a range of large data sources that enables them to thoroughly analyze the admission decisions of America\\'s most elite colleges. They got internal admissions data from a bunch of schools, allowing them to see which kids applied and which ones got in. They have SAT and ACT test scores. And, equipped with IRS data, the economists are able to see how rich these kids\\' families were when they applied to college, and how much money the kids earned after they graduated. They focus primarily on students admitted between 2010 and 2015, which gives them enough of a postgraduate track record for the researchers to see how they\\'ve done in their careers.With this treasure trove of data, the economists then embark on a rigorous analysis. First, they establish the overwhelming reason why rich kids are disproportionately attending these schools: admissions. Yes, they find, their less affluent peers are a bit less likely to apply and enroll, but the main reason for the disparity is colleges are systematically admitting more rich kids than less well-off ones.As previously mentioned, the economists find that wealthy children, even when they have comparable SAT and ACT scores to less affluent kids, are much more likely to get into these elite schools. A student from the richest 1% of American families (from families earning over $611,000 per year) is twice as likely to attend an elite private college as a middle-class student (from a family earning between $83,000-$116,000 per year) with the same academic credentials. The economists find this disparity can only be found at elite private colleges: they find no such advantage for rich kids at America\\'s flagship public universities, like UC Berkeley or the University of Michigan.\"I think implicitly what we\\'re finding in the data is that — whether intentionally or not — we currently have a system that appears to have affirmative action for kids from the richest families, the top 1% in particular, which gives them a substantial leg up in admissions relative to other kids,\" Chetty says.The economists find three factors that give rich kids this huge admissions boost. The first is legacy admission programs. They calculate that 46% of their admissions advantage comes from programs that give them preferential admission due to their parents being alumni.One defense for these legacy kids might be that they\\'re smart, hard-working, and ambitious, so they\\'d be able to get into another Ivy-Plus college if they wanted to. But the economists find these same legacy kids see no advantage when they apply to schools their parents did not go to. \"So, in other words, that legacy impact is totally non-transferrable across colleges, which strongly suggests that it\\'s not that these kids are just kind of stronger applicants in general,\" Chetty says. \"It\\'s actually about literally being a legacy at this college.\"The second reason that rich kids get an admissions advantage is athletic recruitment. The economists calculate that 24% of the admission boost for students from the richest 1% of families comes from the fact that they excel at some sort of sport. That may be somewhat surprising, because if you watch pro sports, the stars usually don\\'t come from privileged backgrounds. The economists are unable to do a sport-by-sport analysis, but, Chetty says, it\\'s likely that kids are finding a recruitment advantage in expensive, elite sports, such as fencing, tennis, rowing or lacrosse. Elite private colleges, after all, are generally not known for their stellar football or basketball teams.The last reason rich kids are more likely to be admitted is because they tend to have higher non-academic ratings that make their applications pop. Think extracurricular activities, compelling letters of recommendation, and guidance counselors who help them engineer perfect resumes and personal statements. This explains about 30% of their advantage.Chetty says the rich-kid advantage in non-academic ratings is almost entirely driven by the fact that they are much more likely to attend elite private high schools. \"If you\\'re coming from an elite private school, you tend to have much higher non-academic ratings,\" Chetty says. \"Now, of course, kids from high-income families are much more likely to attend these schools.\"So, yeah, rich kids are much more likely to get into fancy colleges than less affluent kids. But does that necessarily mean that it really matters for future outcomes? It\\'s possible that going to one of these elite schools doesn\\'t have a large effect on a person\\'s later career. Indeed, there have been some influential economic studies that suggest that the choice of college by similarly qualified students doesn\\'t have much of an effect on how much they end up making, on average.The reason for this, economists have long figured, is that elite colleges are highly selective. The kids they admit are smart, hard-working, highly ambitious — and apparently much more likely to come from rich families — which means they have a solid shot at success, whether they go to a particular school or not. Economists call this \"selection bias.\" The idea is, basically, schools are just selecting winners — not necessarily making winners. Which is why the causal effect of a particular school on a kid\\'s outcomes might not actually matter very much.But that\\'s not what this new study finds. They find that going to these Ivy-Plus colleges makes kids a lot more likely to become tremendously rich and successful. This is especially the case for less affluent kids. \"Attending an Ivy-Plus college instead of the average highly selective public flagship institution increases low-income students\\' chances of reaching the top 1% of the earnings distribution by 60%, nearly doubles their chances of attending an elite graduate school, and triples their chances of working at a prestigious firm,\" the economists write.So why are these economists finding that the particular school that kids attend matters a great deal, while previous studies have suggested that it doesn\\'t? Chetty and his colleagues do a bunch of statistical work backing up and double-checking this finding. For example, they use one technique in which wait-listed kids serve as a kind of quasi-experiment. In some cases these kids are admitted from the waitlist for a somewhat random reason, and other times they are not let in. This enables the researchers to compare outcomes of statistically similar students, some of whom went to Ivy-Plus colleges, some of whom went to flagship public colleges. The economists are now able to see what happened to those students over time.Chetty says that, consistent with previous findings, the data shows that the particular school these students attend doesn\\'t matter much when it comes to their average earnings. If a bright kid goes to UC Berkeley instead of Harvard, they\\'ll still make good money working in tech or law, or whatever. Compared to similar kids who did go to Harvard, their earnings, on average, usually won\\'t look much different.However, Chetty says, their data is much richer than previous studies, which relied on small surveys instead of the massive administrative datasets that Chetty, Deming and Friedman use in this study. As a result, the economists are able to zero in and see \"upper-tail\" outcomes like the likelihood of these kids reaching the top 1% of income earners. Previous studies couldn\\'t see outcomes in the same detail. And that\\'s where Chetty and his colleagues are finding significant advantages when kids go to these elite private schools.\"These colleges have a huge causal effect on getting you access to the upper tail — to positions of influence, to becoming a leader,\" Chetty says. We\\'re talking about elite positions like corporate executives, U.S. Senators, top professors, Supreme Court justices. \"I think what these colleges do is really open doors for some folks to get to a set of positions that they really would not have had much access to had they not gone.\"As a result, Chetty says, reforming admission practices at these schools could have a meaningful impact on what America\\'s elite looks like. One potential reform they highlight: just use the same admissions criteria as America\\'s flagship public universities, where it\\'s more about raw academic credentials, and wealthy children don\\'t have the same overt admissions advantage.Mind you, Chetty and his colleagues studied admissions data before the recent Supreme Court decision, when most of these schools had some sort of race-conscious affirmative action program. Even in this world, as Chetty and his colleagues found in a previous study, kids from the richest 1% of American families were 77 times more likely to attend an Ivy League college than those from families in the bottom fifth of the income distribution.Now, with race-based affirmative action dead, it\\'s plausible that the underrepresentation of lower and middle-class families at these schools could look even worse in coming years, because race is strongly correlated with income and wealth.In the wake of the Supreme Court decision, we\\'ve begun to see a national debate about admissions policies at America\\'s elite schools. Just days after the ruling, a group of advocacy organizations filed a complaint against Harvard for their legacy admissions policy, arguing that it primarily benefits the kids of wealthy, white families. President Biden criticized legacy admissions and other similar policies that \"expand privilege instead of opportunity.\" And a wave of universities, including Wesleyan and Carnegie Mellon, have begun ending their legacy admission programs.But many schools, including the majority of the Ivy-Plus colleges, are still clinging to their legacy admission programs. If their goal is to have their students go on and make a significant impact on society, Chetty and his colleagues find, that doesn\\'t make a lot of sense. They find that rich kids who are admitted because of their legacy status or their athletic background or their non-academic ratings are actually a bit less likely to see outsized success after graduating, compared to middle- or lower-class kids who don\\'t have those credentials. The economists find that raw SAT and ACT scores — and, more generally, academic ratings like GPA — are much more predictive of future success than anything else.Of course, these colleges may still be reluctant to end their programs that give a leg up to the richest kids in America. The colleges assert that legacy programs help build community and school loyalty. Probably more relevant is the importance of legacies to these fancy private colleges\\' business models: rich kids are more likely to pay tuition — and their parents are more likely to give donations and pad their endowments.As for concerns that diversity at these schools is about to plummet because of the end of race-conscious affirmative action, Chetty has some ideas to promote both racial and socioeconomic diversity that may survive judicial scrutiny.It would be an admission process that would take into account \"kids who come from neighborhoods that have particularly low levels of upward mobility and use that as a measure of adversity,\" Chetty says. This would not be explicitly focused on race itself, but it would pick up \"the adversity in childhood environments that is correlated with race.\"Call it zip code-based affirmative action. After all, if you grow up in a poverty-stricken neighborhood and manage to score a 1500 on the SATs, you\\'ve jumped over a much higher hurdle than your silver-spoon-fed competition.A previous version of this article incorrectly listed MIT as one of the universities that recently got rid of their legacy admissions program. In fact, MIT had no legacy admission program to get rid of, and there is no record of it having one in the past, according to a spokesperson for the school. ',\n",
       " \"Affirmative action for rich kids: It's more than just legacy admissions\")"
      ]
     },
     "execution_count": 50,
     "metadata": {},
     "output_type": "execute_result"
    }
   ],
   "source": [
    "#NPR\n",
    "test_npr_w_image = \"https://www.npr.org/sections/money/2023/07/24/1189443223/affirmative-action-for-rich-kids-its-more-than-just-legacy-admissions\"\n",
    "resp = requests.get(test_npr_w_image)\n",
    "root = lxml.html.fromstring(resp.text)\n",
    "\n",
    "npr_w_img = extract_html(root,article_selector=\"article.story\",p_selector=\"p\",img_p_selector=[\"div.image\"],img_selector=\"img\",t_selector=\"h1\")\n",
    "npr_w_img\n"
   ]
  },
  {
   "cell_type": "code",
   "execution_count": 51,
   "metadata": {},
   "outputs": [
    {
     "data": {
      "text/plain": [
       "([{'src': 'https://a57.foxnews.com/cf-images.us-east-1.prod.boltdns.net/v1/static/694940094001/7d957f1b-57f7-48a9-b9b9-e344f2a609ce/a9df2b8b-2aaa-46dd-8042-065b8b69ae92/1280x720/match/896/500/image.jpg?ve=1&tl=1',\n",
       "   'alt': 'Mainstream media completely ignores latest development in Hunter Biden probe',\n",
       "   'title': None,\n",
       "   'caption': None},\n",
       "  {'src': 'https://static.foxnews.com/foxnews.com/content/uploads/2023/06/biden-pozharskyi.jpg',\n",
       "   'alt': 'Hunter Biden and Vadym Pozharskyi emails',\n",
       "   'title': None,\n",
       "   'caption': None},\n",
       "  {'src': 'https://static.foxnews.com/foxnews.com/content/uploads/2023/06/Hunter-Biden-and-Mykola-Zlochevski-.jpg',\n",
       "   'alt': 'Biden and Zlochevski',\n",
       "   'title': None,\n",
       "   'caption': None},\n",
       "  {'src': 'https://static.foxnews.com/foxnews.com/content/uploads/2023/06/biden-archer-12.jpg',\n",
       "   'alt': 'Correct spelling of Mykola Zlochevskyi',\n",
       "   'title': None,\n",
       "   'caption': None},\n",
       "  {'src': 'https://static.foxnews.com/foxnews.com/content/uploads/2023/06/GettyImages-1255040527-e1686075025743.jpg',\n",
       "   'alt': 'Hunter Biden gives a tumbs-up',\n",
       "   'title': None,\n",
       "   'caption': None},\n",
       "  {'src': 'https://static.foxnews.com/foxnews.com/content/uploads/2023/06/biden-pozharskyi-2.jpg',\n",
       "   'alt': 'Hunter Biden and Vadym Pozharskyi',\n",
       "   'title': None,\n",
       "   'caption': None},\n",
       "  {'src': 'https://static.foxnews.com/foxnews.com/content/uploads/2023/04/AP23101514197428-e1681225875523.jpg',\n",
       "   'alt': 'Biden family',\n",
       "   'title': None,\n",
       "   'caption': None},\n",
       "  {'src': 'https://static.foxnews.com/foxnews.com/content/uploads/2023/06/biden-schwerin-11.jpg',\n",
       "   'alt': 'Viktor Shokin fired',\n",
       "   'title': None,\n",
       "   'caption': None},\n",
       "  {'src': 'https://static.foxnews.com/foxnews.com/content/uploads/2023/05/GettyImages-1255038902-e1684783646953.jpg',\n",
       "   'alt': 'US President Joe Biden and First Lady Jill Biden joined by Hunter Biden',\n",
       "   'title': None,\n",
       "   'caption': None},\n",
       "  {'src': 'https://static.foxnews.com/foxnews.com/content/uploads/2023/06/biden-pozharskyi-1.jpg',\n",
       "   'alt': 'Vadym Pozharskyi',\n",
       "   'title': None,\n",
       "   'caption': None},\n",
       "  {'src': 'https://static.foxnews.com/foxnews.com/content/uploads/2023/06/biden-burisma-1.jpg',\n",
       "   'alt': 'Biden emails Pozharskyi',\n",
       "   'title': None,\n",
       "   'caption': None},\n",
       "  {'src': 'https://static.foxnews.com/foxnews.com/content/uploads/2023/06/biden-keeley-1.jpg',\n",
       "   'alt': 'Ukraine trip',\n",
       "   'title': None,\n",
       "   'caption': None}],\n",
       " 'Arizona Rep. Andy Biggs explains House Republicans\\' push to hold FBI Director Christopher Wray in contempt of Congress.FIRST ON FOX: Hunter Biden thanked a top Burisma Holdings executive for birthday gifts he described as \"far too extravagant\" less than two months before the top Ukraine prosecutor investigating the energy company was infamously fired, emails reveal.In addition to the more than $50,000 a month then-Vice President Joe Biden’s son received while serving on Burisma’s board from April 2014 to April 2019, he was also apparently receiving lavish gifts from the company’s founder, according to emails from Hunter’s abandoned laptop that have been verified by Fox News Digital.Nearly two years into Hunter’s tenure on the board, Vadym Pozharskyi, an adviser to Burisma\\'s board, sent Hunter an email wishing him a happy birthday, which would have made Hunter 46 years old at the time.\"Hoping even though it\\'s a working day, you\\'ve at least had some cake already!!\" Pozharskyi wrote on Feb. 4, 2016. \"I would like to wish you a Happiest birthday! May you have what you truly need!\"Hunter Biden thanked a top Burisma Holdings executive for birthday gifts he described as \"far too extravagant.\" (Fox News)\"Also, I would like to share with you birthday wishes from Nikolay below,\" he continued before relaying the words of \"Nikolay,\" which appears to be a reference to Burisma’s founder and its former president, Mykola Zlochevsky.In a 2014 email from Pozharskyi to Hunter’s lawyer and Devon Archer, who also served on Burisma’s board, Pozharskyi stated that the \"correct spelling of his name is Mykola Zlochevskyi.\" In several other emails, Zlochevsky was identified by the initials \"NZ\" with \"N\" standing for \"Nikolai\" or \"Nikolay.\"Hunter Biden, left, and Mykola Zlochevsky. (Getty Images)In a 2014 email from Pozharskyi to Hunter’s lawyer and Devon Archer, who also served on Burisma’s board, Pozharskyi stated that the \"correct spelling of his name is Mykola Zlochevskyi.\" (Fox News)Zlochevsky, a former Ukrainian government official, was later linked to a multimillion dollar bribery scheme where anti-corruption officials were offered at least $5 million to end the case against Zlochevsky, according to Reuters. Ukrainian investigators have said Hunter was not involved.\"Dear Hunter,\" Pozharskyi wrote to Hunter in 2016, relaying the birthday wishes of\\xa0Zlochevsky. \"I know we haven\\'t known each other for long, but in the short time that I\\'ve known you I have seen that you are a smart decent person which believe me is a rare quality in the world of business, and even more so, with my background as a minister, in the world of politics. Today, on your birthday with all my heart I am wishing you to remain true to yourself, regardless of the circumstances, and give yourself some credit now and then!!\"BIDEN\\'S CLAIM TO HAVE NO KNOWLEDGE OF HUNTER\\'S BUSINESS DEALINGS IS BECOMING HARDER TO MAINTAINHunter responded the next day, asking Pozharskyi to thank Zlochevsky for the \"far too extravagant\" birthday gifts.\"V- Thanks so much,\" Hunter wrote. \"Let Nikolay know how much I appreciate his friendship and loyalty. I truly believe in what we are doing and I\\'m proud to say I am a part of this organization. And I am so glad you and I are on the same team.\"\"Finally- thank NZ for the beautiful birthday gifts it was far too extravagant but much appreciated,\" he added. \"Let\\'s talk tomorrow or Saturday about the editorial- I have a few ideas I\\'d like to share.\"First lady Jill Biden, left, with Hunter Biden and Ashley Biden, attends her granddaughter Maisy Biden\\'s graduation from the University of Pennsylvania at Franklin Field in Philadelphia on May 15, 2023. (BRENDAN SMIALOWSKI/AFP via Getty Images)It\\'s unclear what gifts Hunter received.\\xa0Pozharskyi replied that he was \"looking forward\" to Hunter’s feedback.\"Thank you for your kind words!\"\\xa0Pozharskyi wrote. \"I have also conveyed them to Nikolay,\\xa0who,\\xa0as you know,\\xa0very much appreciates your involvement!\\xa0\"I am available for the call both today and on Saturday at any time,\" he added. \"Feel free to suggest a time that works best for you and I will gladly adjust!\\xa0Looking forward to your feedback!\"Upon joining Burisma, Hunter reportedly connected the company with Blue Star Strategies to help the firm fight corruption charges levied against Zlochevsky, Ukraine\\'s former minister of ecologies.Pozharskyi replied that he was \"looking forward to\" Hunter’s feedback in a 2016 email. (Fox News)President Biden gestures before he walks over to talk with reporters before boarding Air Force One at Andrews Air Force Base, Maryland, on April 11, 2023. (AP Photo/Patrick Semansky)Blue Star Strategies was reportedly under federal investigation from the U.S. Attorney’s Office in Delaware in 2021 for its lobbying practices. The same office leads the federal investigation into Hunter foreign business deals. The Washington Post reported last year that the lawyer for the firm\\'s CEO said there was no finding of wrongdoing.BIDEN GOLFS WITH BROTHER WHO PROFITED FROM FAMILY\\'S SHADY CHINA BUSINESS DEALSThe Obama administration pushed for the prosecutor investigating Zlochevsky at the time,\\xa0Viktor Shokin, to be removed from his post. Less than two weeks after Hunter expressed gratitude for the gifts from Zlochevsky, the Obama White House released a readout of then-Vice President Biden\\'s call with Ukraine\\'s president at the time.\\xa0\"The Vice President also commended President Poroshenko’s decision to replace Prosecutor General Shokin, which paves the way for needed reform of the prosecutorial service,\" the White House readout said.On the same day as the readout, Hunter\\'s longtime business partner Eric Schwerin emailed him an article that mentioned Poroshenko calling for Shokin\\'s resignation in his statement.At the end of March 2016, Schwerin forwarded another article to Hunter with the headline \"Ukraine\\'s parliament sacks corruption-tainted prosecutor,\" referring to Shokin.\\xa0Eric Schwerin emailed Hunter Biden an AFP article about the firing of Viktor Shokin. (Fox News)Shokin was fired in late March 2016 and the case was closed by the prosecutor who replaced him, Lutsenko. Biden would later boast on camera in 2018 that when he was vice president he successfully pressured Ukraine to fire Shokin.\"I said, I’m telling you, you’re not getting the billion dollars. I said, you’re not getting the billion. I’m going to be leaving here in, I think it was about six hours. I looked at them and said: I’m leaving in six hours. If the prosecutor is not fired, you’re not getting the money,\" Biden said, according to a transcript of Biden\\'s remarks at the Council on Foreign Relations. \"Well, son of a b----. (Laughter.) He got fired. And they put in place someone who was solid at the time.\"Biden allies, though, maintained that his intervention had nothing to do with his son, but was rather tied to the administration’s concerns of corruption in Ukraine. At the time, as vice president to former President Barack Obama, Biden was running U.S.-Ukraine policy\\xa0and anti-corruption campaigns.\\xa0President Biden and first lady Jill Biden, joined by Hunter Biden and Ashley Biden, attend their granddaughter Maisy Biden\\'s graduation from the University of Pennsylvania at Franklin Field in Philadelphia on May 15, 2023. (BRENDAN SMIALOWSKI/AFP via Getty Images)Fox News Digital previously reported that Pozharskyi attended a dinner with Biden and several of Hunter’s foreign business associates at Café Milano in Washington, D.C., on April 16, 2015, when Biden was vice president.The day after the dinner, Hunter received an email from Pozharskyi that read, \"Dear Hunter, thank you for inviting me to DC and giving an opportunity to meet your father and spent [sic] some time together.\"In November 2015, Pozharskyi sent an email to Hunter, Archer, and Schwerin about a \"revised proposal, contract and initial invoice for Burisma Holdings\" from Blue Star Strategies, where he emphasized the importance of being on the \"same page re our final goals.\"\"With this in mind, I would like us to formulate a list of deliverables, including, but not limited to: a concrete course of actions, incl. meetings/communications resulting in high-ranking US officials in Ukraine (US Ambassador) and in US publicly or in private communication/comment expressing their ‘positive opinion’ and support of Nikolay/Burisma to the highest level of decision makers here in Ukraine :President of Ukraine, president Chief of staff, Prosecutor General, etc,\" Pozharskyi said.\"The scope of work should also include organization of a visit of a number of widely recognized and influential current and/or former US policy-makers to Ukraine in November aiming to conduct meetings with and bring positive signal/message and support on Nikolay\\'s issue to the Ukrainian top officials above with the ultimate purpose to close down for any cases/pursuits against Nikolay in Ukraine,\" he continued.Vadym Pozharskyi, an adviser to Burisma\\'s board, sent an email to colleagues on Nov. 2, 2015. (Fox News)Hunter Biden emailed Vadym Pozharskyi in November 2015. (Fox News)Hunter responded that he wanted to \"have one last conversation\" with Blue Star, but said he was \"comfortable\" with Blue Star. \"You should go ahead and sign,\" he wrote.\"Looking forward to getting started on this,\" Hunter said.In December 2015, then-Vice President Biden traveled to Ukraine\\'s capital, Kyiv, where he praised Poroshenko and said he was \"overwhelmed\" by his \"warmth\" and \"friendship.\" During the same speech, he repeatedly talked about rooting out corruption.\\xa0\"The Ukrainian people cannot once again have their hopes dashed based on the cancer of corruption,\" Biden said.\"And it’s absolutely critical for Ukraine, in order to be stable and prosperous and part of a secure Europe to definitely, thoroughly, completely root out the cancer of corruption,\" he continued.Ahead of that trip, an associate at Blue Star Strategies emailed executives at the consulting firm, Hunter, Archer and Pozharskyi about a White House conference call that \"outlined the trip’s agenda and addressed several questions regarding U.S. policy toward Ukraine.\" The email had an attached document with the minutes and background of the call, but Fox News Digital could not access it. However, a press release from the archived version of the Obama White House\\'s website appears to show a full transcript from the conference call.The White House hosted a conference call regarding then-Vice President Biden\\'s forthcoming trip to Ukraine. (Fox News)CLICK HERE TO GET THE FOX NEWS APPFox News Digital asked Hunter’s lawyer to describe the gifts Hunter received from\\xa0Zlochevsky and whether Zlochevsky gifted him anything else during his time at Burisma, but his lawyer did not respond.Pozharskyi and Blue Star Strategies did not respond to\\xa0Fox News Digital’s requests for comment.The news of Hunter receiving gifts from Zlochevsky\\xa0comes as House Republicans ramp up their investigations into the Biden family\\'s foreign business dealings.\\xa0Last month, House Oversight Committee Chairman James Comer, R-Ky., and Sen. Chuck Grassley,\\xa0R-Iowa, said a whistleblower alleged that the FBI and the Justice Department are in possession of a document that describes a criminal scheme involving then-Vice President Biden and a foreign national relating to the exchange of millions of dollars for policy decisions.Fox News’ Brooke Singman and Haley Chi-Sing contributed to this report.Jessica Chasmar is a digital writer on the politics team for Fox News and Fox Business. Story tips can be sent to Jessica.Chasmar@fox.com.',\n",
       " \"Hunter Biden gushed over 'extravagant' gifts from Burisma exec who was focus of corruption probe\")"
      ]
     },
     "execution_count": 51,
     "metadata": {},
     "output_type": "execute_result"
    }
   ],
   "source": [
    "#Fox\n",
    "test_fox = \"https://www.foxnews.com/politics/hunter-biden-gushed-extravagant-gifts-burisma-exec-focus-corruption-probe\"\n",
    "resp = requests.get(test_fox)\n",
    "root = lxml.html.fromstring(resp.text)\n",
    "\n",
    "test_fox = extract_html(root,article_selector=\"div.article-content\",p_selector=\"p\",img_p_selector=[\"div.m\"],img_selector=\"img\",t_selector=\"h1.headline\")\n",
    "test_fox"
   ]
  },
  {
   "cell_type": "code",
   "execution_count": 52,
   "metadata": {},
   "outputs": [
    {
     "ename": "SelectorSyntaxError",
     "evalue": "Expected ident, got <EOF at 1> (<string>)",
     "output_type": "error",
     "traceback": [
      "Traceback \u001b[0;36m(most recent call last)\u001b[0m:\n",
      "  File \u001b[1;32m~/opt/anaconda3/lib/python3.9/site-packages/IPython/core/interactiveshell.py:3369\u001b[0m in \u001b[1;35mrun_code\u001b[0m\n    exec(code_obj, self.user_global_ns, self.user_ns)\n",
      "  Input \u001b[1;32mIn [52]\u001b[0m in \u001b[1;35m<cell line: 7>\u001b[0m\n    test_politico = extract_html(root,article_selector=\"div.container__column\",p_selector=\"p.story-text__paragraph\",img_p_selector=\"div.fig-graphic\",img_selector=\"img\",t_selector=\"h2.headline\")\n",
      "  Input \u001b[1;32mIn [48]\u001b[0m in \u001b[1;35mextract_html\u001b[0m\n    imgs = extract_imgs(article_body,img_p_selector,img_selector)\n",
      "  Input \u001b[1;32mIn [48]\u001b[0m in \u001b[1;35mextract_imgs\u001b[0m\n    img_container = html.cssselect(selector)\n",
      "  File \u001b[1;32m~/opt/anaconda3/lib/python3.9/site-packages/lxml/html/__init__.py:432\u001b[0m in \u001b[1;35mcssselect\u001b[0m\n    return CSSSelector(expr, translator=translator)(self)\n",
      "  File \u001b[1;32m~/opt/anaconda3/lib/python3.9/site-packages/lxml/cssselect.py:94\u001b[0m in \u001b[1;35m__init__\u001b[0m\n    path = translator.css_to_xpath(css)\n",
      "  File \u001b[1;32m~/opt/anaconda3/lib/python3.9/site-packages/cssselect/xpath.py:192\u001b[0m in \u001b[1;35mcss_to_xpath\u001b[0m\n    for selector in parse(css))\n",
      "  File \u001b[1;32m~/opt/anaconda3/lib/python3.9/site-packages/cssselect/parser.py:415\u001b[0m in \u001b[1;35mparse\u001b[0m\n    return list(parse_selector_group(stream))\n",
      "  File \u001b[1;32m~/opt/anaconda3/lib/python3.9/site-packages/cssselect/parser.py:428\u001b[0m in \u001b[1;35mparse_selector_group\u001b[0m\n    yield Selector(*parse_selector(stream))\n",
      "  File \u001b[1;32m~/opt/anaconda3/lib/python3.9/site-packages/cssselect/parser.py:436\u001b[0m in \u001b[1;35mparse_selector\u001b[0m\n    result, pseudo_element = parse_simple_selector(stream)\n",
      "  File \u001b[1;32m~/opt/anaconda3/lib/python3.9/site-packages/cssselect/parser.py:492\u001b[0m in \u001b[1;35mparse_simple_selector\u001b[0m\n    result = Class(result, stream.next_ident())\n",
      "\u001b[0;36m  File \u001b[0;32m~/opt/anaconda3/lib/python3.9/site-packages/cssselect/parser.py:819\u001b[0;36m in \u001b[0;35mnext_ident\u001b[0;36m\u001b[0m\n\u001b[0;31m    raise SelectorSyntaxError('Expected ident, got %s' % (next,))\u001b[0m\n",
      "\u001b[0;36m  File \u001b[0;32m<string>\u001b[0;36m\u001b[0m\n\u001b[0;31mSelectorSyntaxError\u001b[0m\u001b[0;31m:\u001b[0m Expected ident, got <EOF at 1>\n"
     ]
    }
   ],
   "source": [
    "#Politico\n",
    "\n",
    "test_politico = \"https://www.politico.com/news/2023/07/02/janet-yellen-china-visit-00104539\"\n",
    "resp = requests.get(test_politico)\n",
    "root = lxml.html.fromstring(resp.text)\n",
    "\n",
    "test_politico = extract_html(root,article_selector=\"div.container__column\",p_selector=\"p.story-text__paragraph\",img_p_selector=\"div.fig-graphic\",img_selector=\"img\",t_selector=\"h2.headline\")\n",
    "test_politico"
   ]
  },
  {
   "cell_type": "code",
   "execution_count": 55,
   "metadata": {},
   "outputs": [
    {
     "ename": "SelectorSyntaxError",
     "evalue": "Expected ident, got <EOF at 1> (<string>)",
     "output_type": "error",
     "traceback": [
      "Traceback \u001b[0;36m(most recent call last)\u001b[0m:\n",
      "  File \u001b[1;32m~/opt/anaconda3/lib/python3.9/site-packages/IPython/core/interactiveshell.py:3369\u001b[0m in \u001b[1;35mrun_code\u001b[0m\n    exec(code_obj, self.user_global_ns, self.user_ns)\n",
      "  Input \u001b[1;32mIn [55]\u001b[0m in \u001b[1;35m<cell line: 7>\u001b[0m\n    test_nbc = extract_html(root,article_selector=\"article\",p_selector=\"p.story-text__paragraph\",\n",
      "  Input \u001b[1;32mIn [48]\u001b[0m in \u001b[1;35mextract_html\u001b[0m\n    imgs = extract_imgs(article_body,img_p_selector,img_selector)\n",
      "  Input \u001b[1;32mIn [48]\u001b[0m in \u001b[1;35mextract_imgs\u001b[0m\n    img_container = html.cssselect(selector)\n",
      "  File \u001b[1;32m~/opt/anaconda3/lib/python3.9/site-packages/lxml/html/__init__.py:432\u001b[0m in \u001b[1;35mcssselect\u001b[0m\n    return CSSSelector(expr, translator=translator)(self)\n",
      "  File \u001b[1;32m~/opt/anaconda3/lib/python3.9/site-packages/lxml/cssselect.py:94\u001b[0m in \u001b[1;35m__init__\u001b[0m\n    path = translator.css_to_xpath(css)\n",
      "  File \u001b[1;32m~/opt/anaconda3/lib/python3.9/site-packages/cssselect/xpath.py:192\u001b[0m in \u001b[1;35mcss_to_xpath\u001b[0m\n    for selector in parse(css))\n",
      "  File \u001b[1;32m~/opt/anaconda3/lib/python3.9/site-packages/cssselect/parser.py:415\u001b[0m in \u001b[1;35mparse\u001b[0m\n    return list(parse_selector_group(stream))\n",
      "  File \u001b[1;32m~/opt/anaconda3/lib/python3.9/site-packages/cssselect/parser.py:428\u001b[0m in \u001b[1;35mparse_selector_group\u001b[0m\n    yield Selector(*parse_selector(stream))\n",
      "  File \u001b[1;32m~/opt/anaconda3/lib/python3.9/site-packages/cssselect/parser.py:436\u001b[0m in \u001b[1;35mparse_selector\u001b[0m\n    result, pseudo_element = parse_simple_selector(stream)\n",
      "  File \u001b[1;32m~/opt/anaconda3/lib/python3.9/site-packages/cssselect/parser.py:492\u001b[0m in \u001b[1;35mparse_simple_selector\u001b[0m\n    result = Class(result, stream.next_ident())\n",
      "\u001b[0;36m  File \u001b[0;32m~/opt/anaconda3/lib/python3.9/site-packages/cssselect/parser.py:819\u001b[0;36m in \u001b[0;35mnext_ident\u001b[0;36m\u001b[0m\n\u001b[0;31m    raise SelectorSyntaxError('Expected ident, got %s' % (next,))\u001b[0m\n",
      "\u001b[0;36m  File \u001b[0;32m<string>\u001b[0;36m\u001b[0m\n\u001b[0;31mSelectorSyntaxError\u001b[0m\u001b[0;31m:\u001b[0m Expected ident, got <EOF at 1>\n"
     ]
    }
   ],
   "source": [
    "#NBC\n",
    "\n",
    "test_nbc = \"https://www.nbcnews.com/politics/congress/jan-6-committee-unveils-final-report-capping-18-month-probe-rcna62629\"\n",
    "resp = requests.get(test_nbc)\n",
    "root = lxml.html.fromstring(resp.text)\n",
    "\n",
    "test_nbc = extract_html(root,article_selector=\"article\",p_selector=\"p.story-text__paragraph\",\n",
    "img_p_selector=[\"div.fig-graphic\"],img_selector=\"img\",t_selector=\"h1\")\n",
    "test_nbc"
   ]
  },
  {
   "cell_type": "code",
   "execution_count": 63,
   "metadata": {},
   "outputs": [
    {
     "data": {
      "text/plain": [
       "([],\n",
       " 'Donald Trump\\'s prediction that he will be arrested this week has yet to come true - but as the waiting game for criminal charges goes on, the former president is plotting a strategy designed to both keep him out of jail and turbo-boost his historic bid to return to the White House.It is a daunting task, and hunkered down in his Mar-a-Lago home, Mr Trump seems resigned to becoming the first US president to be indicted for a crime. Yet it\\'s also clear he will not go quietly. His past choices in moments of political crisis are a useful guide to what we might see next.When cornered by political adversaries, Mr Trump punches back. This video can not be playedWas Trump\\'s Stormy Daniels payment legal?Throughout his 2016 presidential campaign, he leaned in to conflict when other politicians might have backed off. Blasted for criticising war hero John McCain? Trump upped his attacks. Accused of sexual harassment before a debate with Hillary Clinton? He held a press conference with Bill Clinton\\'s sexual accusers.During his presidency, it was the same story through two impeachments, a special counsel investigation of Russia election meddling and countless smaller controversies.\"If Trump is indicted, the playbook remains exactly the same,\" says Bryan Lanza, a Republican strategist and Trump adviser. \"Attack the legal as political.\"The best defence, as the American football saying goes, is a good offence.Mr Trump is already punching back against Manhattan District Attorney Alvin Bragg, framing him as a liberal prosecutor hell-bent on pursuing political retribution against the former president.A press release on Monday referred to him as a \"progressive activist\", a \"rogue prosecutor\" and a \"woke tyrant who has politicised the justice system\".Expect those attacks to continue if an indictment is announced and for Mr Trump to portray himself as a victim of a leftist plot - a common theme of persecution Mr Trump has also regularly relied on in his political career.According to Maggie Haberman of the New York Times, the former president is both \"invigorated and angered\" by his possible arrest. He is focused on appearing defiant in any possible public appearances and ready to portray the criminal case as a de facto attack on his supporters.The former president will have at least two prime opportunities to mount his counterattack in the days ahead. One is a planned rally in Waco, Texas. And if the past is any guide, Rally Trump is Mr Trump at his most unvarnished, going off script and on the attack, and feeding off the energy of his crowds.The other opportunity for Mr Trump, if he is indeed indicted, will come on the day he could travel to New York City for any police booking and arraignment. According to Ms Haberman, he is fixated on the so-called \"perp walk\" - a New York tradition where the accused is paraded through a crush of reporters on the way into the Lower Manhattan courthouse. Because of security concerns, that may not happen, but another judicial tradition, the press conference on the courthouse steps, seems much more probable.It would give the former president, steeped in New York tabloid legal drama, the opportunity to lash out at his accusers, portray himself as the victim of a liberal elite and dominate the headlines across the US.Such themes are already playing out in Mr Trump\\'s campaign fundraising appeals, which have reached a frenzied pace since he speculated that he may be on the verge of being charged with a crime.\"If this political persecution goes unchallenged, one day it won\\'t be me they\\'re targeting, it\\'ll be you,\" read one email. According to a Trump adviser quoted in the Washington Post, the campaign has raised more than $1.5m since Saturday.For the moment, the standard response from Republicans - including Speaker of the House Kevin McCarthy and other prominent elected officials - has played into Mr Trump\\'s hands. They echo Mr Trump\\'s rhetoric in condemning the New York investigation as an illegitimate political attack.\"I\\'ve been asked by multiple reporters if an indictment would lead me to rescind my endorsement of Donald Trump,\" Ohio Senator JD Vance said. \"The answer is: hell no. A politically motivated prosecution makes the argument for Trump stronger. We simply don\\'t have a real country if justice depends on politics.\"This video can not be playedWatch: Trump supporters gather outside Mar-a-LagoThat strategy is less tenable for Mr Trump\\'s Republican political rivals, however, who may have to step up their efforts to wrest the spotlight from the former president. It\\'s not a coincidence that Florida Governor Ron DeSantis, potentially his most formidable 2024 nomination opponent, directly criticised Mr Trump for the first time this week.In the past, a frontal attack on Mr Trump has been a fool\\'s errand for his Republican adversaries - a move of desperation that only solidifies Mr Trump\\'s standing with his base. Further attacks, with a metaphorical wrestling match in the mud, may only strengthen his position.\"If he\\'s indicted, he becomes bulletproof,\" Mr Lanza says.In the longer term, however, Mr Trump\\'s situation is not without risks. Setting aside the possibility of conviction and a prison sentence, his legal troubles - which go beyond just the New York charges and include investigations by Georgia officials and a federal special counsel - highlight the character traits many Republican voters have said they like least about him. His pugnacious online persona and his lack of personal discipline were targeted by Mr DeSantis in his recent swipes for a reason.It also could be a significant distraction for the president and his campaign team, which will have to react to events in New York that are entirely out of their control, where court appearances compete with Republican debates and primary contests on Mr Trump\\'s calendar.And if Mr Trump were to overcome the obstacles and win the Republican nomination, his legal travails are much more likely to be a negative component against the Democratic nominee.\"In the end, being indicted never helps anybody,\" former New Jersey Governor Chris Christie said during an interview on ABC News. \"Donald Trump is not someone who could be a winning general election candidate for the Republican Party.\"While Mr Trump has survived the kind of scandals and investigations over the past eight years that would annihilate other candidates, luck can run out and even the best of political instincts can fail when the circumstances change.Even the sturdiest of ships can wreck in uncharted waters.This video can not be playedWatch: The Trump arrest saga in 70 secondsWhat DeSantis dig at Trump tells us about 2024 raceWill Trump have his mugshot taken?Who is the prosecutor in Trump\\'s hush money case?What happened between Stormy Daniels and Trump?Pro-Trump witness testifies in hush money case',\n",
       " 'How Trump will try to spin his anticipated arrest')"
      ]
     },
     "execution_count": 63,
     "metadata": {},
     "output_type": "execute_result"
    }
   ],
   "source": [
    "#BBC\n",
    "\n",
    "test_bbc = \"https://www.bbc.com/news/world-us-canada-65033875\"\n",
    "resp = requests.get(test_bbc)\n",
    "root = lxml.html.fromstring(resp.text)\n",
    "\n",
    "test_bbc = extract_html(root,article_selector=\"article\",p_selector=\"p\",\n",
    "img_p_selector=[\"body.video\"],img_selector=\"img\",t_selector=\"h1\")\n",
    "test_bbc"
   ]
  }
 ],
 "metadata": {
  "kernelspec": {
   "display_name": "base",
   "language": "python",
   "name": "python3"
  },
  "language_info": {
   "codemirror_mode": {
    "name": "ipython",
    "version": 3
   },
   "file_extension": ".py",
   "mimetype": "text/x-python",
   "name": "python",
   "nbconvert_exporter": "python",
   "pygments_lexer": "ipython3",
   "version": "3.9.12"
  },
  "orig_nbformat": 4
 },
 "nbformat": 4,
 "nbformat_minor": 2
}

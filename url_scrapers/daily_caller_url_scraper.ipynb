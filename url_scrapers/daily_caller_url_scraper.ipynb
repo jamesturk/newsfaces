{
 "cells": [
  {
   "attachments": {},
   "cell_type": "markdown",
   "metadata": {},
   "source": [
    "Obtain Daily Caller"
   ]
  },
  {
   "cell_type": "code",
   "execution_count": 5,
   "metadata": {},
   "outputs": [],
   "source": [
    "#Import necessary libraries\n",
    "import time\n",
    "import requests\n",
    "import urllib\n",
    "import lxml.html\n",
    "from bs4 import BeautifulSoup\n",
    "import newspaper\n",
    "import trafilatura\n",
    "import re"
   ]
  },
  {
   "cell_type": "code",
   "execution_count": null,
   "metadata": {},
   "outputs": [],
   "source": [
    "def obtain_page_urls(page=\"1\"):\n",
    "    url = \"https://dailycaller.com/section/politics/page/{}/\".format(page)\n",
    "    print(\"Obtaining results for:\", url)\n",
    "    resp = requests.get(url)\n",
    "    root = lxml.html.fromstring(resp.text)\n",
    "    article_elements = root.cssselect(\"article.relative\")\n",
    "    article_list = []\n",
    "    for article in article_elements:\n",
    "        link = article.cssselect(\"a\")[0].get(\"href\")\n",
    "        #Some articles in the Daily Caller politcs section\n",
    "        #Are articles from another webpage checkyourfact and we will drop these\n",
    "        if link.startswith(\"http://checkyourfact\"):\n",
    "            continue\n",
    "        full_link = \"dailycaller.com\" + link\n",
    "\n",
    "        article_list.append(full_link)\n",
    "\n",
    "    return article_list\n",
    "    \n",
    "\n",
    "obtain_page_urls(\"85\")"
   ]
  },
  {
   "cell_type": "code",
   "execution_count": 10,
   "metadata": {},
   "outputs": [
    {
     "name": "stdout",
     "output_type": "stream",
     "text": [
      "Obtaining results for page 1\n",
      "Obtaining results for: https://dailycaller.com/section/politics/page/1/\n",
      "year 2023\n",
      "Obtaining results for page 2\n",
      "Obtaining results for: https://dailycaller.com/section/politics/page/2/\n",
      "year 2023\n",
      "Obtaining results for page 3\n",
      "Obtaining results for: https://dailycaller.com/section/politics/page/3/\n",
      "year 2023\n",
      "Obtaining results for page 4\n",
      "Obtaining results for: https://dailycaller.com/section/politics/page/4/\n",
      "year 2023\n"
     ]
    },
    {
     "ename": "KeyboardInterrupt",
     "evalue": "",
     "output_type": "error",
     "traceback": [
      "\u001b[0;31m---------------------------------------------------------------------------\u001b[0m",
      "\u001b[0;31mKeyboardInterrupt\u001b[0m                         Traceback (most recent call last)",
      "\u001b[1;32m/Users/jpmartinezclaeys/Desktop/U Chicago/James Turk - RA/daily_caller_url_scraper.ipynb Cell 4\u001b[0m in \u001b[0;36m<cell line: 25>\u001b[0;34m()\u001b[0m\n\u001b[1;32m     <a href='vscode-notebook-cell:/Users/jpmartinezclaeys/Desktop/U%20Chicago/James%20Turk%20-%20RA/daily_caller_url_scraper.ipynb#W3sZmlsZQ%3D%3D?line=20'>21</a>\u001b[0m     \u001b[39mprint\u001b[39m(\u001b[39mlen\u001b[39m(links_list))\n\u001b[1;32m     <a href='vscode-notebook-cell:/Users/jpmartinezclaeys/Desktop/U%20Chicago/James%20Turk%20-%20RA/daily_caller_url_scraper.ipynb#W3sZmlsZQ%3D%3D?line=22'>23</a>\u001b[0m     \u001b[39mreturn\u001b[39;00m links_dict\n\u001b[0;32m---> <a href='vscode-notebook-cell:/Users/jpmartinezclaeys/Desktop/U%20Chicago/James%20Turk%20-%20RA/daily_caller_url_scraper.ipynb#W3sZmlsZQ%3D%3D?line=24'>25</a>\u001b[0m obtain_politics_url()\n",
      "\u001b[1;32m/Users/jpmartinezclaeys/Desktop/U Chicago/James Turk - RA/daily_caller_url_scraper.ipynb Cell 4\u001b[0m in \u001b[0;36mobtain_politics_url\u001b[0;34m(year)\u001b[0m\n\u001b[1;32m     <a href='vscode-notebook-cell:/Users/jpmartinezclaeys/Desktop/U%20Chicago/James%20Turk%20-%20RA/daily_caller_url_scraper.ipynb#W3sZmlsZQ%3D%3D?line=16'>17</a>\u001b[0m     \u001b[39mprint\u001b[39m(\u001b[39m\"\u001b[39m\u001b[39myear\u001b[39m\u001b[39m\"\u001b[39m,year)\n\u001b[1;32m     <a href='vscode-notebook-cell:/Users/jpmartinezclaeys/Desktop/U%20Chicago/James%20Turk%20-%20RA/daily_caller_url_scraper.ipynb#W3sZmlsZQ%3D%3D?line=17'>18</a>\u001b[0m     page \u001b[39m+\u001b[39m\u001b[39m=\u001b[39m \u001b[39m1\u001b[39m\n\u001b[0;32m---> <a href='vscode-notebook-cell:/Users/jpmartinezclaeys/Desktop/U%20Chicago/James%20Turk%20-%20RA/daily_caller_url_scraper.ipynb#W3sZmlsZQ%3D%3D?line=18'>19</a>\u001b[0m     time\u001b[39m.\u001b[39;49msleep(\u001b[39m2\u001b[39;49m)\n\u001b[1;32m     <a href='vscode-notebook-cell:/Users/jpmartinezclaeys/Desktop/U%20Chicago/James%20Turk%20-%20RA/daily_caller_url_scraper.ipynb#W3sZmlsZQ%3D%3D?line=20'>21</a>\u001b[0m \u001b[39mprint\u001b[39m(\u001b[39mlen\u001b[39m(links_list))\n\u001b[1;32m     <a href='vscode-notebook-cell:/Users/jpmartinezclaeys/Desktop/U%20Chicago/James%20Turk%20-%20RA/daily_caller_url_scraper.ipynb#W3sZmlsZQ%3D%3D?line=22'>23</a>\u001b[0m \u001b[39mreturn\u001b[39;00m links_dict\n",
      "\u001b[0;31mKeyboardInterrupt\u001b[0m: "
     ]
    }
   ],
   "source": [
    "def obtain_politics_url(year=2023):\n",
    "    \"\"\" \n",
    "    \n",
    "    \"\"\"\n",
    "    links_dict = {}\n",
    "    links_list = []\n",
    "    page = 1\n",
    "    year_result = 2023\n",
    "    while int(year_result) >= year: \n",
    "        print(\"Obtaining results for page\",page)\n",
    "        page_links = obtain_page_urls(str(page))\n",
    "        key = \"page \" + str(page)\n",
    "        links_dict[key] = page_links\n",
    "        links_list.extend(page_links)\n",
    "        last_article = page_links[-1]\n",
    "        year_result = re.search(r'\\d{4}',last_article).group()\n",
    "        print(\"year\",year)\n",
    "        page += 1\n",
    "        time.sleep(2)\n",
    "    \n",
    "    print(len(links_list))\n",
    "    \n",
    "    return links_dict\n",
    "\n",
    "obtain_politics_url()"
   ]
  }
 ],
 "metadata": {
  "kernelspec": {
   "display_name": "base",
   "language": "python",
   "name": "python3"
  },
  "language_info": {
   "codemirror_mode": {
    "name": "ipython",
    "version": 3
   },
   "file_extension": ".py",
   "mimetype": "text/x-python",
   "name": "python",
   "nbconvert_exporter": "python",
   "pygments_lexer": "ipython3",
   "version": "3.9.12"
  },
  "orig_nbformat": 4
 },
 "nbformat": 4,
 "nbformat_minor": 2
}

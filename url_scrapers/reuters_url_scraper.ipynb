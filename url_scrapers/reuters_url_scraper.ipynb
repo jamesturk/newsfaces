{
 "cells": [
  {
   "attachments": {},
   "cell_type": "markdown",
   "metadata": {},
   "source": [
    "Reuters url scraper"
   ]
  },
  {
   "cell_type": "code",
   "execution_count": 1,
   "metadata": {},
   "outputs": [],
   "source": [
    "# Import necessary libraries\n",
    "import time\n",
    "import requests\n",
    "import urllib\n",
    "import lxml.html\n",
    "from bs4 import BeautifulSoup\n",
    "import newspaper\n",
    "import trafilatura\n",
    "from selenium import webdriver\n",
    "from selenium.webdriver.common.by import By"
   ]
  },
  {
   "cell_type": "code",
   "execution_count": 22,
   "metadata": {},
   "outputs": [],
   "source": [
    "def find_link_elements(driver):\n",
    "    url_set = set()\n",
    "    articles = driver.find_elements(\n",
    "        By.CSS_SELECTOR, \"div.media-story-card__body__3tRWy\"\n",
    "    )\n",
    "    print(\"articles:\", articles)\n",
    "    print(len(articles))\n",
    "    for article in articles:\n",
    "        url_set.add(article.find_elements(By.TAG_NAME, \"a\")[0].get_attribute(\"href\"))\n",
    "    return url_set"
   ]
  },
  {
   "cell_type": "code",
   "execution_count": 24,
   "metadata": {},
   "outputs": [
    {
     "name": "stdout",
     "output_type": "stream",
     "text": [
      "articles: [<selenium.webdriver.remote.webelement.WebElement (session=\"5a086956bef6e55152f61c8845d37702\", element=\"0C282C04ADD6CBD5206B49AFCD12D215_element_40\")>, <selenium.webdriver.remote.webelement.WebElement (session=\"5a086956bef6e55152f61c8845d37702\", element=\"0C282C04ADD6CBD5206B49AFCD12D215_element_41\")>, <selenium.webdriver.remote.webelement.WebElement (session=\"5a086956bef6e55152f61c8845d37702\", element=\"0C282C04ADD6CBD5206B49AFCD12D215_element_42\")>, <selenium.webdriver.remote.webelement.WebElement (session=\"5a086956bef6e55152f61c8845d37702\", element=\"0C282C04ADD6CBD5206B49AFCD12D215_element_43\")>, <selenium.webdriver.remote.webelement.WebElement (session=\"5a086956bef6e55152f61c8845d37702\", element=\"0C282C04ADD6CBD5206B49AFCD12D215_element_44\")>, <selenium.webdriver.remote.webelement.WebElement (session=\"5a086956bef6e55152f61c8845d37702\", element=\"0C282C04ADD6CBD5206B49AFCD12D215_element_45\")>, <selenium.webdriver.remote.webelement.WebElement (session=\"5a086956bef6e55152f61c8845d37702\", element=\"0C282C04ADD6CBD5206B49AFCD12D215_element_46\")>, <selenium.webdriver.remote.webelement.WebElement (session=\"5a086956bef6e55152f61c8845d37702\", element=\"0C282C04ADD6CBD5206B49AFCD12D215_element_47\")>, <selenium.webdriver.remote.webelement.WebElement (session=\"5a086956bef6e55152f61c8845d37702\", element=\"0C282C04ADD6CBD5206B49AFCD12D215_element_48\")>, <selenium.webdriver.remote.webelement.WebElement (session=\"5a086956bef6e55152f61c8845d37702\", element=\"0C282C04ADD6CBD5206B49AFCD12D215_element_49\")>, <selenium.webdriver.remote.webelement.WebElement (session=\"5a086956bef6e55152f61c8845d37702\", element=\"0C282C04ADD6CBD5206B49AFCD12D215_element_50\")>, <selenium.webdriver.remote.webelement.WebElement (session=\"5a086956bef6e55152f61c8845d37702\", element=\"0C282C04ADD6CBD5206B49AFCD12D215_element_51\")>, <selenium.webdriver.remote.webelement.WebElement (session=\"5a086956bef6e55152f61c8845d37702\", element=\"0C282C04ADD6CBD5206B49AFCD12D215_element_52\")>, <selenium.webdriver.remote.webelement.WebElement (session=\"5a086956bef6e55152f61c8845d37702\", element=\"0C282C04ADD6CBD5206B49AFCD12D215_element_53\")>, <selenium.webdriver.remote.webelement.WebElement (session=\"5a086956bef6e55152f61c8845d37702\", element=\"0C282C04ADD6CBD5206B49AFCD12D215_element_54\")>, <selenium.webdriver.remote.webelement.WebElement (session=\"5a086956bef6e55152f61c8845d37702\", element=\"0C282C04ADD6CBD5206B49AFCD12D215_element_55\")>, <selenium.webdriver.remote.webelement.WebElement (session=\"5a086956bef6e55152f61c8845d37702\", element=\"0C282C04ADD6CBD5206B49AFCD12D215_element_56\")>, <selenium.webdriver.remote.webelement.WebElement (session=\"5a086956bef6e55152f61c8845d37702\", element=\"0C282C04ADD6CBD5206B49AFCD12D215_element_57\")>, <selenium.webdriver.remote.webelement.WebElement (session=\"5a086956bef6e55152f61c8845d37702\", element=\"0C282C04ADD6CBD5206B49AFCD12D215_element_58\")>, <selenium.webdriver.remote.webelement.WebElement (session=\"5a086956bef6e55152f61c8845d37702\", element=\"0C282C04ADD6CBD5206B49AFCD12D215_element_59\")>]\n",
      "20\n"
     ]
    },
    {
     "data": {
      "text/plain": [
       "{'https://www.reuters.com/business/autos-transportation/gm-extends-production-cuts-due-chip-shortage-stellantis-warns-lingering-pain-2021-03-03/',\n",
       " 'https://www.reuters.com/business/finance/us-supreme-court-sets-stage-release-trump-tax-returns-2021-02-23/',\n",
       " 'https://www.reuters.com/business/healthcare-pharmaceuticals/biden-reopens-online-health-insurance-marketplaces-citing-damage-trump-2021-01-28/',\n",
       " 'https://www.reuters.com/business/healthcare-pharmaceuticals/fauci-says-us-political-divisions-contributed-500000-dead-covid-19-2021-02-22/',\n",
       " 'https://www.reuters.com/business/healthcare-pharmaceuticals/us-near-authorization-johnson-johnson-covid-19-vaccine-2021-02-27/',\n",
       " 'https://www.reuters.com/business/healthcare-pharmaceuticals/when-will-it-end-how-changing-virus-is-reshaping-scientists-views-covid-19-2021-03-03/',\n",
       " 'https://www.reuters.com/business/healthcare-pharmaceuticals/white-house-roll-out-jj-vaccine-doses-next-week-pending-authorization-2021-02-24/',\n",
       " 'https://www.reuters.com/business/treasury-nominee-yellen-says-markets-should-determine-value-dollar-2021-01-20/',\n",
       " 'https://www.reuters.com/business/us-economy-likely-logged-its-weakest-performance-74-years-2020-2021-01-28/',\n",
       " 'https://www.reuters.com/world/asia-pacific/global-markets-wrapup-2-2021-02-02/',\n",
       " 'https://www.reuters.com/world/china/global-markets-wrapup-3-2021-02-04/',\n",
       " 'https://www.reuters.com/world/china/global-markets-wrapup-3-graphics-2021-02-10/',\n",
       " 'https://www.reuters.com/world/china/global-markets-wrapup-3-pix-2021-02-01/',\n",
       " 'https://www.reuters.com/world/middle-east-africa/global-markets-wrapup-3-2021-02-03/',\n",
       " 'https://www.reuters.com/world/middle-east-africa/jj-covid-19-vaccine-is-72-effective-us-66-overall-large-trial-2021-01-29/',\n",
       " 'https://www.reuters.com/world/middle-east-africa/us-president-saudi-king-have-phone-call-ahead-expected-khashoggi-report-release-2021-02-25/',\n",
       " 'https://www.reuters.com/world/us/america-is-back-biden-touts-muscular-foreign-policy-first-diplomatic-speech-2021-02-05/',\n",
       " 'https://www.reuters.com/world/us/exclusive-dozens-former-republican-officials-talks-form-anti-trump-third-party-2021-02-11/',\n",
       " 'https://www.reuters.com/world/us/personal-touch-word-mouth-how-us-rural-communities-succeed-getting-covid-19-2021-01-29/',\n",
       " 'https://www.reuters.com/world/us/republicans-press-biden-scale-back-19-trillion-covid-19-relief-plan-2021-02-01/'}"
      ]
     },
     "execution_count": 24,
     "metadata": {},
     "output_type": "execute_result"
    }
   ],
   "source": [
    "driver_2 = webdriver.Chrome()\n",
    "driver_2.get(\n",
    "    \"https://www.reuters.com/site-search/?query=joe+biden&sort=oldest&offset=0\"\n",
    ")\n",
    "find_link_elements(driver_2)"
   ]
  },
  {
   "cell_type": "code",
   "execution_count": 32,
   "metadata": {},
   "outputs": [],
   "source": [
    "def test_scrapers_reuters_2(query_terms, max_pages_to_crawl=10):\n",
    "    s = \"+\"\n",
    "    query_list = s.join(query_terms)\n",
    "    links_list = set()\n",
    "    driver = webdriver.Chrome()\n",
    "    driver.get(\n",
    "        \"https://www.reuters.com/site-search/?query={}&sort=oldest&offset=0\".format(\n",
    "            query_list\n",
    "        )\n",
    "    )\n",
    "    for i in range(max_pages_to_crawl):\n",
    "        print(\"obtaining links from page:\", i)\n",
    "        time.sleep(2)\n",
    "        buttons = driver.find_elements(By.CSS_SELECTOR, \"button.button__button__2Ecqi\")\n",
    "        print(\"Buttons\", buttons)\n",
    "        print(\"N_buttons:\", len(buttons))\n",
    "        time.sleep(2)\n",
    "    links_list.update(find_link_elements(driver))\n",
    "\n",
    "    return links_list"
   ]
  },
  {
   "cell_type": "code",
   "execution_count": 33,
   "metadata": {},
   "outputs": [
    {
     "name": "stdout",
     "output_type": "stream",
     "text": [
      "obtaining links from page: 0\n",
      "Buttons [<selenium.webdriver.remote.webelement.WebElement (session=\"61044c0de3d4778f6d8367a0b285943d\", element=\"95A04E4F600245D81C4627785BCD8F29_element_48\")>, <selenium.webdriver.remote.webelement.WebElement (session=\"61044c0de3d4778f6d8367a0b285943d\", element=\"95A04E4F600245D81C4627785BCD8F29_element_49\")>, <selenium.webdriver.remote.webelement.WebElement (session=\"61044c0de3d4778f6d8367a0b285943d\", element=\"95A04E4F600245D81C4627785BCD8F29_element_50\")>, <selenium.webdriver.remote.webelement.WebElement (session=\"61044c0de3d4778f6d8367a0b285943d\", element=\"95A04E4F600245D81C4627785BCD8F29_element_24\")>, <selenium.webdriver.remote.webelement.WebElement (session=\"61044c0de3d4778f6d8367a0b285943d\", element=\"95A04E4F600245D81C4627785BCD8F29_element_51\")>, <selenium.webdriver.remote.webelement.WebElement (session=\"61044c0de3d4778f6d8367a0b285943d\", element=\"95A04E4F600245D81C4627785BCD8F29_element_52\")>, <selenium.webdriver.remote.webelement.WebElement (session=\"61044c0de3d4778f6d8367a0b285943d\", element=\"95A04E4F600245D81C4627785BCD8F29_element_53\")>, <selenium.webdriver.remote.webelement.WebElement (session=\"61044c0de3d4778f6d8367a0b285943d\", element=\"95A04E4F600245D81C4627785BCD8F29_element_54\")>, <selenium.webdriver.remote.webelement.WebElement (session=\"61044c0de3d4778f6d8367a0b285943d\", element=\"95A04E4F600245D81C4627785BCD8F29_element_55\")>, <selenium.webdriver.remote.webelement.WebElement (session=\"61044c0de3d4778f6d8367a0b285943d\", element=\"95A04E4F600245D81C4627785BCD8F29_element_56\")>, <selenium.webdriver.remote.webelement.WebElement (session=\"61044c0de3d4778f6d8367a0b285943d\", element=\"95A04E4F600245D81C4627785BCD8F29_element_57\")>]\n",
      "N_buttons: 11\n",
      "articles: [<selenium.webdriver.remote.webelement.WebElement (session=\"61044c0de3d4778f6d8367a0b285943d\", element=\"95A04E4F600245D81C4627785BCD8F29_element_59\")>, <selenium.webdriver.remote.webelement.WebElement (session=\"61044c0de3d4778f6d8367a0b285943d\", element=\"95A04E4F600245D81C4627785BCD8F29_element_60\")>, <selenium.webdriver.remote.webelement.WebElement (session=\"61044c0de3d4778f6d8367a0b285943d\", element=\"95A04E4F600245D81C4627785BCD8F29_element_61\")>, <selenium.webdriver.remote.webelement.WebElement (session=\"61044c0de3d4778f6d8367a0b285943d\", element=\"95A04E4F600245D81C4627785BCD8F29_element_62\")>, <selenium.webdriver.remote.webelement.WebElement (session=\"61044c0de3d4778f6d8367a0b285943d\", element=\"95A04E4F600245D81C4627785BCD8F29_element_63\")>, <selenium.webdriver.remote.webelement.WebElement (session=\"61044c0de3d4778f6d8367a0b285943d\", element=\"95A04E4F600245D81C4627785BCD8F29_element_64\")>, <selenium.webdriver.remote.webelement.WebElement (session=\"61044c0de3d4778f6d8367a0b285943d\", element=\"95A04E4F600245D81C4627785BCD8F29_element_65\")>, <selenium.webdriver.remote.webelement.WebElement (session=\"61044c0de3d4778f6d8367a0b285943d\", element=\"95A04E4F600245D81C4627785BCD8F29_element_66\")>, <selenium.webdriver.remote.webelement.WebElement (session=\"61044c0de3d4778f6d8367a0b285943d\", element=\"95A04E4F600245D81C4627785BCD8F29_element_67\")>, <selenium.webdriver.remote.webelement.WebElement (session=\"61044c0de3d4778f6d8367a0b285943d\", element=\"95A04E4F600245D81C4627785BCD8F29_element_68\")>, <selenium.webdriver.remote.webelement.WebElement (session=\"61044c0de3d4778f6d8367a0b285943d\", element=\"95A04E4F600245D81C4627785BCD8F29_element_69\")>, <selenium.webdriver.remote.webelement.WebElement (session=\"61044c0de3d4778f6d8367a0b285943d\", element=\"95A04E4F600245D81C4627785BCD8F29_element_70\")>, <selenium.webdriver.remote.webelement.WebElement (session=\"61044c0de3d4778f6d8367a0b285943d\", element=\"95A04E4F600245D81C4627785BCD8F29_element_71\")>, <selenium.webdriver.remote.webelement.WebElement (session=\"61044c0de3d4778f6d8367a0b285943d\", element=\"95A04E4F600245D81C4627785BCD8F29_element_72\")>, <selenium.webdriver.remote.webelement.WebElement (session=\"61044c0de3d4778f6d8367a0b285943d\", element=\"95A04E4F600245D81C4627785BCD8F29_element_73\")>, <selenium.webdriver.remote.webelement.WebElement (session=\"61044c0de3d4778f6d8367a0b285943d\", element=\"95A04E4F600245D81C4627785BCD8F29_element_74\")>, <selenium.webdriver.remote.webelement.WebElement (session=\"61044c0de3d4778f6d8367a0b285943d\", element=\"95A04E4F600245D81C4627785BCD8F29_element_75\")>, <selenium.webdriver.remote.webelement.WebElement (session=\"61044c0de3d4778f6d8367a0b285943d\", element=\"95A04E4F600245D81C4627785BCD8F29_element_76\")>, <selenium.webdriver.remote.webelement.WebElement (session=\"61044c0de3d4778f6d8367a0b285943d\", element=\"95A04E4F600245D81C4627785BCD8F29_element_77\")>, <selenium.webdriver.remote.webelement.WebElement (session=\"61044c0de3d4778f6d8367a0b285943d\", element=\"95A04E4F600245D81C4627785BCD8F29_element_78\")>]\n",
      "20\n"
     ]
    },
    {
     "data": {
      "text/plain": [
       "{'https://www.reuters.com/business/autos-transportation/gm-extends-production-cuts-due-chip-shortage-stellantis-warns-lingering-pain-2021-03-03/',\n",
       " 'https://www.reuters.com/business/finance/us-supreme-court-sets-stage-release-trump-tax-returns-2021-02-23/',\n",
       " 'https://www.reuters.com/business/healthcare-pharmaceuticals/biden-reopens-online-health-insurance-marketplaces-citing-damage-trump-2021-01-28/',\n",
       " 'https://www.reuters.com/business/healthcare-pharmaceuticals/fauci-says-us-political-divisions-contributed-500000-dead-covid-19-2021-02-22/',\n",
       " 'https://www.reuters.com/business/healthcare-pharmaceuticals/us-near-authorization-johnson-johnson-covid-19-vaccine-2021-02-27/',\n",
       " 'https://www.reuters.com/business/healthcare-pharmaceuticals/when-will-it-end-how-changing-virus-is-reshaping-scientists-views-covid-19-2021-03-03/',\n",
       " 'https://www.reuters.com/business/healthcare-pharmaceuticals/white-house-roll-out-jj-vaccine-doses-next-week-pending-authorization-2021-02-24/',\n",
       " 'https://www.reuters.com/business/treasury-nominee-yellen-says-markets-should-determine-value-dollar-2021-01-20/',\n",
       " 'https://www.reuters.com/business/us-economy-likely-logged-its-weakest-performance-74-years-2020-2021-01-28/',\n",
       " 'https://www.reuters.com/world/asia-pacific/global-markets-wrapup-2-2021-02-02/',\n",
       " 'https://www.reuters.com/world/china/global-markets-wrapup-3-2021-02-04/',\n",
       " 'https://www.reuters.com/world/china/global-markets-wrapup-3-graphics-2021-02-10/',\n",
       " 'https://www.reuters.com/world/china/global-markets-wrapup-3-pix-2021-02-01/',\n",
       " 'https://www.reuters.com/world/middle-east-africa/global-markets-wrapup-3-2021-02-03/',\n",
       " 'https://www.reuters.com/world/middle-east-africa/jj-covid-19-vaccine-is-72-effective-us-66-overall-large-trial-2021-01-29/',\n",
       " 'https://www.reuters.com/world/middle-east-africa/us-president-saudi-king-have-phone-call-ahead-expected-khashoggi-report-release-2021-02-25/',\n",
       " 'https://www.reuters.com/world/us/america-is-back-biden-touts-muscular-foreign-policy-first-diplomatic-speech-2021-02-05/',\n",
       " 'https://www.reuters.com/world/us/exclusive-dozens-former-republican-officials-talks-form-anti-trump-third-party-2021-02-11/',\n",
       " 'https://www.reuters.com/world/us/personal-touch-word-mouth-how-us-rural-communities-succeed-getting-covid-19-2021-01-29/',\n",
       " 'https://www.reuters.com/world/us/republicans-press-biden-scale-back-19-trillion-covid-19-relief-plan-2021-02-01/'}"
      ]
     },
     "execution_count": 33,
     "metadata": {},
     "output_type": "execute_result"
    }
   ],
   "source": [
    "test_scrapers_reuters_2([\"Joe\", \"Biden\"], 1)"
   ]
  }
 ],
 "metadata": {
  "kernelspec": {
   "display_name": "base",
   "language": "python",
   "name": "python3"
  },
  "language_info": {
   "codemirror_mode": {
    "name": "ipython",
    "version": 3
   },
   "file_extension": ".py",
   "mimetype": "text/x-python",
   "name": "python",
   "nbconvert_exporter": "python",
   "pygments_lexer": "ipython3",
   "version": "3.9.12"
  },
  "orig_nbformat": 4
 },
 "nbformat": 4,
 "nbformat_minor": 2
}

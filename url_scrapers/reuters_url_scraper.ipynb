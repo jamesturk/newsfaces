{
 "cells": [
  {
   "attachments": {},
   "cell_type": "markdown",
   "metadata": {},
   "source": [
    "Reuters url scraper"
   ]
  },
  {
   "cell_type": "code",
   "execution_count": 1,
   "metadata": {},
   "outputs": [],
   "source": [
    "#Import necessary libraries\n",
    "import time\n",
    "import requests\n",
    "import urllib\n",
    "import lxml.html\n",
    "from bs4 import BeautifulSoup\n",
    "import newspaper\n",
    "import trafilatura\n",
    "from selenium import webdriver\n",
    "from selenium.webdriver.common.by import By"
   ]
  },
  {
   "cell_type": "code",
   "execution_count": 13,
   "metadata": {},
   "outputs": [],
   "source": [
    "def find_link_elements(driver):\n",
    "    url_set = set()\n",
    "    articles = driver.find_elements(By.CSS_SELECTOR,'div.search-result-content')\n",
    "    print(articles)\n",
    "    print(len(articles))\n",
    "    for article in articles:\n",
    "        url_set.add(article.find_elements(By.TAG_NAME,'a')[0].get_attribute(\"href\"))\n",
    "    return url_set"
   ]
  },
  {
   "cell_type": "code",
   "execution_count": 14,
   "metadata": {},
   "outputs": [
    {
     "name": "stdout",
     "output_type": "stream",
     "text": [
      "[<selenium.webdriver.remote.webelement.WebElement (session=\"a22d67b4df055d65d5b637aec7b3ce60\", element=\"6410347108495EC36EC1B5EE131CC009_element_29\")>, <selenium.webdriver.remote.webelement.WebElement (session=\"a22d67b4df055d65d5b637aec7b3ce60\", element=\"6410347108495EC36EC1B5EE131CC009_element_30\")>, <selenium.webdriver.remote.webelement.WebElement (session=\"a22d67b4df055d65d5b637aec7b3ce60\", element=\"6410347108495EC36EC1B5EE131CC009_element_31\")>, <selenium.webdriver.remote.webelement.WebElement (session=\"a22d67b4df055d65d5b637aec7b3ce60\", element=\"6410347108495EC36EC1B5EE131CC009_element_32\")>, <selenium.webdriver.remote.webelement.WebElement (session=\"a22d67b4df055d65d5b637aec7b3ce60\", element=\"6410347108495EC36EC1B5EE131CC009_element_33\")>, <selenium.webdriver.remote.webelement.WebElement (session=\"a22d67b4df055d65d5b637aec7b3ce60\", element=\"6410347108495EC36EC1B5EE131CC009_element_34\")>, <selenium.webdriver.remote.webelement.WebElement (session=\"a22d67b4df055d65d5b637aec7b3ce60\", element=\"6410347108495EC36EC1B5EE131CC009_element_35\")>, <selenium.webdriver.remote.webelement.WebElement (session=\"a22d67b4df055d65d5b637aec7b3ce60\", element=\"6410347108495EC36EC1B5EE131CC009_element_36\")>, <selenium.webdriver.remote.webelement.WebElement (session=\"a22d67b4df055d65d5b637aec7b3ce60\", element=\"6410347108495EC36EC1B5EE131CC009_element_37\")>, <selenium.webdriver.remote.webelement.WebElement (session=\"a22d67b4df055d65d5b637aec7b3ce60\", element=\"6410347108495EC36EC1B5EE131CC009_element_38\")>]\n",
      "10\n"
     ]
    },
    {
     "data": {
      "text/plain": [
       "{'https://www.reuters.com/article/idUSFWN38W1CN',\n",
       " 'https://www.reuters.com/article/idUSKBN2YQ19C',\n",
       " 'https://www.reuters.com/article/idUSKBN2YQ1E3',\n",
       " 'https://www.reuters.com/article/idUSKBN2YQ1E5',\n",
       " 'https://www.reuters.com/article/idUSKBN2YQ1FT',\n",
       " 'https://www.reuters.com/article/idUSKBN2YQ1GS',\n",
       " 'https://www.reuters.com/article/idUSL1N38W1OV',\n",
       " 'https://www.reuters.com/article/idUSL1N38W1WB',\n",
       " 'https://www.reuters.com/article/idUSL1N38W1WG',\n",
       " 'https://www.reuters.com/article/idUSL1N38W1WU'}"
      ]
     },
     "execution_count": 14,
     "metadata": {},
     "output_type": "execute_result"
    }
   ],
   "source": [
    "driver_2 = webdriver.Chrome()\n",
    "driver_2.get(\"https://www.reuters.com/search/news?blob=biden&sortBy=date&dateRange=all\")\n",
    "find_link_elements(driver_2)"
   ]
  }
 ],
 "metadata": {
  "kernelspec": {
   "display_name": "base",
   "language": "python",
   "name": "python3"
  },
  "language_info": {
   "codemirror_mode": {
    "name": "ipython",
    "version": 3
   },
   "file_extension": ".py",
   "mimetype": "text/x-python",
   "name": "python",
   "nbconvert_exporter": "python",
   "pygments_lexer": "ipython3",
   "version": "3.9.12"
  },
  "orig_nbformat": 4
 },
 "nbformat": 4,
 "nbformat_minor": 2
}

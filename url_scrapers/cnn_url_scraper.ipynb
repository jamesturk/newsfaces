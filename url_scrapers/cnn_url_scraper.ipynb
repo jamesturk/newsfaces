{
 "cells": [
  {
   "attachments": {},
   "cell_type": "markdown",
   "metadata": {},
   "source": [
    "Obtain CNN URL's"
   ]
  },
  {
   "cell_type": "code",
   "execution_count": 1,
   "metadata": {},
   "outputs": [],
   "source": [
    "#Import necessary libraries\n",
    "import time\n",
    "import requests\n",
    "import urllib\n",
    "import lxml.html\n",
    "from bs4 import BeautifulSoup\n",
    "import newspaper\n",
    "import trafilatura\n",
    "from selenium import webdriver\n",
    "from selenium.webdriver.common.by import By"
   ]
  },
  {
   "cell_type": "code",
   "execution_count": 12,
   "metadata": {},
   "outputs": [
    {
     "name": "stdout",
     "output_type": "stream",
     "text": [
      "Div_list [<Element div at 0x7f84e9239180>]\n",
      "[]\n"
     ]
    }
   ],
   "source": [
    "#CNN\n",
    "\n",
    "def obtain_page_urls(from_art=\"0\",page=\"1\"):\n",
    "    url = \"https://www.cnn.com/search?q=politics&from={}&size=10&page={}&sort=newest&types=all&section=politics\".format(from_art,page)\n",
    "    resp = requests.get(url)\n",
    "    root = lxml.html.fromstring(resp.text)\n",
    "    div_list = root.cssselect(\"div.search__results-list\")\n",
    "    print(\"Div_list\",div_list)\n",
    "    article_links = div_list[0].cssselect(\"a\")\n",
    "    article_list = []\n",
    "    a_elements = root.cssselect(\"a.container__link\")\n",
    "    print(a_elements)\n",
    "    #for link in article_links:\n",
    "    #    article_list.append(link.get(\"href\"))\n",
    "\n",
    "obtain_page_urls()"
   ]
  },
  {
   "cell_type": "code",
   "execution_count": null,
   "metadata": {},
   "outputs": [],
   "source": [
    "def obtain_cnn_urls(max_pages_to_crawl = 50):\n",
    "    cnn_links = []\n",
    "    url = \"https://www.cnn.com/search?q=politics&from=0&size=10&page=1&sort=newest&types=all&section=politics\"\n",
    "    resp = requests.get(url)\n",
    "    root = lxml.html.fromstring(resp.text)\n",
    "    ##\n",
    "\n",
    "    max_pages_text = root.cssselect(\"div.search__results-count\")[0]\n",
    "    ##Write lines to obtain number of pages \n",
    "    max_pages = \n",
    "    if max_pages < max_pages_to_crawl:\n",
    "        pages_to_crawl = max_pages\n",
    "    else:\n",
    "        pages_to_crawl = max_pages_to_crawl\n",
    "\n",
    "    #Crawl and retrieve Urls using helper function\n",
    "    from_art = 0\n",
    "    page = 1\n",
    "\n",
    "    for page in range(0,max_pages):\n",
    "        cnn_links.extend(obtain_page_urls(from_art,page))\n",
    "        from_art += 10\n",
    "        page += 1\n",
    "\n",
    "    cnn_links = set(cnn_links)\n",
    "    return cnn_links"
   ]
  },
  {
   "attachments": {},
   "cell_type": "markdown",
   "metadata": {},
   "source": [
    "Scrape with Selenium"
   ]
  },
  {
   "cell_type": "code",
   "execution_count": 37,
   "metadata": {},
   "outputs": [],
   "source": [
    "def obtain_page_urls(driver):\n",
    "    page_list = []\n",
    "    # url = \"https://www.cnn.com/search?q=politics&from={}&size=10&page={}&sort=newest&types=all&section=politics\".format(from_art,page)\n",
    "    # # driver = webdriver.Chrome()\n",
    "    #driver.get(url)\n",
    "    links = driver.find_elements(By.CSS_SELECTOR,'a.container__link')\n",
    "\n",
    "    for link in links:\n",
    "        page_list.append(link.get_attribute(\"href\"))\n",
    "    return page_list\n",
    "\n",
    "#driver = webdriver.Chrome()\n",
    "#obtain_page_urls()"
   ]
  },
  {
   "cell_type": "code",
   "execution_count": 35,
   "metadata": {},
   "outputs": [],
   "source": [
    "def move_next_page(driver):\n",
    "    time.sleep(4)\n",
    "    next_button = driver.find_elements(By.CSS_SELECTOR,\"div.pagination-arrow-right\")\n",
    "\n",
    "    if len(next_button) > 0:\n",
    "        exists = True\n",
    "    else:\n",
    "        exists = False\n",
    "\n",
    "    if exists:\n",
    "        next_button[0].click()\n",
    "        return exists\n",
    "    \n",
    "    return exists\n",
    "\n",
    "#move_next_page()"
   ]
  },
  {
   "cell_type": "code",
   "execution_count": null,
   "metadata": {},
   "outputs": [],
   "source": [
    "def test_cnn_craler(list):"
   ]
  },
  {
   "cell_type": "code",
   "execution_count": 46,
   "metadata": {},
   "outputs": [
    {
     "name": "stdout",
     "output_type": "stream",
     "text": [
      "Start page: 1\n",
      "https://www.cnn.com/search?q=politics&from=0&size=10&page=1&sort=newest&types=all&section=politics\n",
      "Start page: 2\n",
      "https://www.cnn.com/search?q=politics&from=10&size=10&page=2&sort=newest&types=all&section=politics\n",
      "Start page: 3\n",
      "https://www.cnn.com/search?q=politics&from=20&size=10&page=3&sort=newest&types=all&section=politics\n",
      "Start page: 4\n",
      "https://www.cnn.com/search?q=politics&from=30&size=10&page=4&sort=newest&types=all&section=politics\n",
      "Start page: 5\n",
      "https://www.cnn.com/search?q=politics&from=40&size=10&page=5&sort=newest&types=all&section=politics\n",
      "Start page: 6\n",
      "https://www.cnn.com/search?q=politics&from=50&size=10&page=6&sort=newest&types=all&section=politics\n",
      "Start page: 7\n",
      "https://www.cnn.com/search?q=politics&from=60&size=10&page=7&sort=newest&types=all&section=politics\n",
      "Start page: 8\n",
      "https://www.cnn.com/search?q=politics&from=70&size=10&page=8&sort=newest&types=all&section=politics\n",
      "Len set: 79\n",
      "Len list: 80\n"
     ]
    },
    {
     "data": {
      "text/plain": [
       "['https://www.cnn.com/2023/07/06/politics/ocean-1-wind-farm-approval-biden-climate/index.html',\n",
       " 'https://www.cnn.com/2023/07/06/politics/walt-nauta-arraignment-florida-trump/index.html',\n",
       " 'https://www.cnn.com/2023/07/06/politics/janet-yellen-beijing-trip-china/index.html',\n",
       " 'https://www.cnn.com/2023/07/05/politics/taylor-taranto-detention-memo-obama-neighborhood-arrest/index.html',\n",
       " 'https://www.cnn.com/2023/07/06/politics/social-media-misinformation-biden-administration-injunction-explainer/index.html',\n",
       " 'https://www.cnn.com/2023/07/06/politics/biden-ukraine-war-uncertainty-zaporizhzhia/index.html',\n",
       " 'https://www.cnn.com/videos/politics/2023/07/06/pam-hemphill-donald-trump-january-6-brainwashed-ac360-vpx.cnn',\n",
       " 'https://www.cnn.com/2023/07/05/politics/rusty-bowers-arizona-2020-election-cnntv/index.html',\n",
       " 'https://www.cnn.com/videos/politics/2023/07/06/rusty-bowers-trump-special-counsel-interview-ctn-vpx.cnn',\n",
       " 'https://www.cnn.com/2023/07/05/politics/russia-harass-us-drones-syria/index.html',\n",
       " 'https://www.cnn.com/2023/07/05/politics/ohio-abortion-rights-constitutional-amendment/index.html',\n",
       " 'https://www.cnn.com/videos/politics/2023/07/06/ohio-abortion-amendment-zeleny-dnt-ac360-contd-vpx.cnn',\n",
       " 'https://www.cnn.com/videos/politics/2023/07/06/exp-gop-on-the-trail-jimenez--lah-lok-070504aseg1-cnni-us-politics.cnn',\n",
       " 'https://www.cnn.com/2023/07/05/politics/doj-appeal-biden-administration-social-media/index.html',\n",
       " 'https://www.cnn.com/videos/politics/2023/07/06/man-enters-obama-neighborhood-trump-post-truth-social-haberman-ac360-vpx.cnn',\n",
       " 'https://www.cnn.com/2023/07/05/politics/lin-wood-law-license/index.html',\n",
       " 'https://www.cnn.com/2023/07/05/politics/white-house-cocaine-found/index.html',\n",
       " 'https://www.cnn.com/2023/07/05/politics/mar-a-lago-unredacted-search-warrant-affidavit/index.html',\n",
       " 'https://www.cnn.com/2023/07/05/politics/iowa-abortion-special-session/index.html',\n",
       " 'https://www.cnn.com/2023/07/05/politics/north-carolina-cooper-veto-bills-lgbtq-youth-restrictions/index.html',\n",
       " 'https://www.cnn.com/2023/07/05/politics/state-department-passport-delays/index.html',\n",
       " 'https://www.cnn.com/videos/politics/2023/07/04/supreme-court-domestic-violence-victims-abusers-guns-contd-campbell-dnt-nc-vpx.cnn',\n",
       " 'https://www.cnn.com/2023/07/05/politics/trump-fundraising-second-quarter/index.html',\n",
       " 'https://www.cnn.com/2023/07/05/politics/us-navy-iran-tankers-gulf-oman/index.html',\n",
       " 'https://www.cnn.com/2023/07/05/politics/denver-riggleman-hunter-biden/index.html',\n",
       " 'https://www.cnn.com/2023/07/05/politics/joe-biden-ulf-kristersson-nato-sweden/index.html',\n",
       " 'https://www.cnn.com/2023/07/05/politics/pentagon-intel-leak-strengthen-procedures/index.html',\n",
       " 'https://www.cnn.com/videos/politics/2023/07/05/white-house-lab-tests-show-cocaine-found-vpx.cnn',\n",
       " 'https://www.cnn.com/2023/07/05/politics/de-blasio-mccray-new-york-city-separating/index.html',\n",
       " 'https://www.cnn.com/2023/07/05/politics/mondaire-jones-congress-bid/index.html',\n",
       " 'https://www.cnn.com/2023/07/05/politics/trump-republican-campaign-2024/index.html',\n",
       " 'https://www.cnn.com/2023/07/04/politics/ron-desantis-donald-trump-steve-cortes/index.html',\n",
       " 'https://www.cnn.com/2023/07/04/politics/ken-paxton-impeachment-trial-texas/index.html',\n",
       " 'https://www.cnn.com/2023/07/04/politics/white-house-substance/index.html',\n",
       " 'https://www.cnn.com/2023/07/04/politics/minimum-wage-increases-states-cities/index.html',\n",
       " 'https://www.cnn.com/2023/07/04/politics/judge-blocks-florida-law-voter-registration/index.html',\n",
       " 'https://www.cnn.com/2023/07/04/politics/american-political-divisions-july-fourth/index.html',\n",
       " 'https://www.cnn.com/2023/07/03/politics/elliott-abrams-public-diplomacy-nomination/index.html',\n",
       " 'https://www.cnn.com/videos/politics/2023/07/03/desantis-supporters-women-elle-reeve-ac360-vpx.cnn',\n",
       " 'https://www.cnn.com/2023/07/03/politics/desantis-covid-fans/index.html',\n",
       " 'https://www.cnn.com/2023/07/03/politics/kfile-trump-president-indictment-halt-government/index.html',\n",
       " 'https://www.cnn.com/videos/politics/2023/07/03/trump-president-indictment-kfile-sot-cnc-vpx.cnn',\n",
       " 'https://www.cnn.com/2023/07/03/politics/china-travel-advisory-state-department/index.html',\n",
       " 'https://www.cnn.com/2023/07/03/politics/washington-explosives-businesses/index.html',\n",
       " 'https://www.cnn.com/2023/07/03/politics/state-tax-cuts-revenue/index.html',\n",
       " 'https://www.cnn.com/videos/politics/2023/07/03/exp-janet-yellen-beijing-anna-coren-070302aseg1-cnni-world.cnn',\n",
       " 'https://www.cnn.com/videos/politics/2023/07/03/exp-biden-europe-trip-priscilla-alvarez-070302aseg2-cnni-us.cnn',\n",
       " 'https://www.cnn.com/2023/07/02/politics/republicans-2024-agenda-what-matters/index.html',\n",
       " 'https://www.cnn.com/2023/07/03/politics/republican-president-election-diversity-2024/index.html',\n",
       " 'https://www.cnn.com/2023/07/02/politics/backlash-supreme-court-affirmative-action-student-loans/index.html',\n",
       " 'https://www.cnn.com/videos/politics/2023/07/03/lindsey-graham-booed-trump-rally-crowd-vpx.cnn',\n",
       " 'https://www.cnn.com/2023/07/01/politics/desantis-trump-lgbtq-rights-video/index.html',\n",
       " 'https://www.cnn.com/2023/07/02/politics/yellen-beijing-trip-china-relationship/index.html',\n",
       " 'https://www.cnn.com/2023/07/02/politics/will-hurd-republican-debate-pledge-cnntv/index.html',\n",
       " 'https://www.cnn.com/videos/politics/2023/07/02/sotu-will-hurd-rnc-debate-pledge.cnn',\n",
       " 'https://www.cnn.com/videos/politics/2023/07/02/parlatore-trump-audio-tape-reaction-acostanr-vpx.cnn',\n",
       " 'https://www.cnn.com/2023/07/02/politics/pete-buttigieg-supreme-court-lgbtq-cnntv/index.html',\n",
       " 'https://www.cnn.com/2023/07/02/politics/chris-christie-2024-trump-desantis-food-fight-cnntv/index.html',\n",
       " 'https://www.cnn.com/2023/07/02/politics/pence-trump-arizona-governor-2020-election/index.html',\n",
       " 'https://www.cnn.com/videos/politics/2023/07/02/will-hurd-gop-2024-lgbtq-rights-scotus-sotu-vpx.cnn',\n",
       " 'https://www.cnn.com/videos/politics/2023/07/02/will-hurd-gop-2024-lgbtq-rights-scotus-sotu-vpx.cnn',\n",
       " 'https://www.cnn.com/videos/politics/2023/07/02/sotu-hogan-panel-third-party.cnn',\n",
       " 'https://www.cnn.com/videos/politics/2023/07/02/sotu-july-2-panel-shakir-hogan-stewart-finney.cnn',\n",
       " 'https://www.cnn.com/2023/07/02/politics/aoc-supreme-court-dangerous-cnntv/index.html',\n",
       " 'https://www.cnn.com/videos/politics/2023/07/02/sotu-hurd-stop-attack-lgbtq.cnn',\n",
       " 'https://www.cnn.com/videos/politics/2023/07/02/sotu-christie-lgbtq-scotus-ruling.cnn',\n",
       " 'https://www.cnn.com/videos/politics/2023/07/02/sotu-christie-trump-jail-time-charges.cnn',\n",
       " 'https://www.cnn.com/videos/politics/2023/07/02/sotu-rep-will-hurd-full.cnn',\n",
       " 'https://www.cnn.com/videos/politics/2023/07/02/sotu-aoc-biden-student-loan-interest-suspend.cnn',\n",
       " 'https://www.cnn.com/videos/politics/2023/07/02/sotu-gov-chris-christie-full-iv.cnn',\n",
       " 'https://www.cnn.com/videos/politics/2023/07/02/sotu-buttigieg-air-travel.cnn',\n",
       " 'https://www.cnn.com/videos/politics/2023/07/02/sotu-sec-pete-buttigieg-full-intv.cnn',\n",
       " 'https://www.cnn.com/videos/politics/2023/07/02/sotu-aoc-thomas-opinion-affirmative-action.cnn',\n",
       " 'https://www.cnn.com/videos/politics/2023/07/02/sotu-alexandra-ocasio-cortez-full-intv.cnn',\n",
       " 'https://www.cnn.com/videos/politics/2023/07/02/pete-buttigieg-ron-desantis-campaign-video-sotu-vpx.cnn',\n",
       " 'https://www.cnn.com/2023/07/02/politics/army-air-defense-russia-ukraine-china/index.html',\n",
       " 'https://www.cnn.com/2023/07/02/politics/trump-desantis-covid/index.html',\n",
       " 'https://www.cnn.com/2023/07/02/politics/john-roberts-scotus-dissent/index.html',\n",
       " 'https://www.cnn.com/2023/07/01/politics/trump-ducey-arizona-2020-election-overturn/index.html',\n",
       " 'https://www.cnn.com/videos/politics/2023/07/01/doug-ducey-2020-election-trump-nr-herb-live-vpx.cnn']"
      ]
     },
     "execution_count": 46,
     "metadata": {},
     "output_type": "execute_result"
    }
   ],
   "source": [
    "def obtain_cnn_urls(max_pages_to_crawl=10):\n",
    "    links_list = []\n",
    "    driver = webdriver.Chrome()\n",
    "    driver.get(\"https://www.cnn.com/search?q=politics&from=0&size=10&page=1&sort=newest&types=all&section=politics\")\n",
    "    time.sleep(20)\n",
    "    for i in range(max_pages_to_crawl):\n",
    "        time.sleep(5)\n",
    "        page = i+1\n",
    "        print(\"Start page:\", page)\n",
    "        print(str(driver.current_url))\n",
    "        #Obtain links\n",
    "        links_list.extend(obtain_page_urls(driver))\n",
    "        time.sleep(5)\n",
    "        #Move to next page or break crawler\n",
    "        next_page = move_next_page(driver)\n",
    "        if next_page == False:\n",
    "            break\n",
    "\n",
    "    links_set = set(links_list)\n",
    "\n",
    "    return links_set\n",
    "\n",
    "obtain_cnn_urls(8)\n"
   ]
  }
 ],
 "metadata": {
  "kernelspec": {
   "display_name": "base",
   "language": "python",
   "name": "python3"
  },
  "language_info": {
   "codemirror_mode": {
    "name": "ipython",
    "version": 3
   },
   "file_extension": ".py",
   "mimetype": "text/x-python",
   "name": "python",
   "nbconvert_exporter": "python",
   "pygments_lexer": "ipython3",
   "version": "3.9.12"
  },
  "orig_nbformat": 4
 },
 "nbformat": 4,
 "nbformat_minor": 2
}

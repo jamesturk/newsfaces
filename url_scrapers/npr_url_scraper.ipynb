{
 "cells": [
  {
   "attachments": {},
   "cell_type": "markdown",
   "metadata": {},
   "source": [
    "Obtain NPR URL's"
   ]
  },
  {
   "cell_type": "code",
   "execution_count": null,
   "metadata": {},
   "outputs": [],
   "source": [
    "#Import necessary libraries\n",
    "import time\n",
    "import json\n",
    "import requests\n",
    "import urllib\n",
    "import lxml.html\n",
    "from bs4 import BeautifulSoup\n",
    "import newspaper\n",
    "import trafilatura\n",
    "import re"
   ]
  },
  {
   "cell_type": "code",
   "execution_count": null,
   "metadata": {},
   "outputs": [],
   "source": [
    "#NPR\n",
    "\n",
    "def obtain_page_urls(start=\"0\",date=\"12-31-2023\"):\n",
    "    \"\"\"\n",
    "    Obtain the URLS of a page from the politics section using the NPR internal API\n",
    "    Inputs:\n",
    "    start(str/int): Article to start seach from (Similar to page)\n",
    "    date(str): Date to start looking articles from sorted from newest to oldest\n",
    "    Return:\n",
    "    url_set(set): Set of articles\n",
    "    month(int): Month of last article retrieved\n",
    "\n",
    "    \"\"\"\n",
    "    url = \"https://www.npr.org/sections/politics/archive?start={}&date={}\".format(start,date)\n",
    "    resp = requests.get(url)\n",
    "    root = lxml.html.fromstring(resp.text)\n",
    "    article_elements = root.cssselect(\"h2.title\")\n",
    "    if len(article_elements) == 0:\n",
    "        return None\n",
    "    links_list = []\n",
    "    for element in article_elements:\n",
    "        link = element.cssselect(\"a\")\n",
    "        href = link[0].get(\"href\")\n",
    "        links_list.append(href)\n",
    "    month = re.search(r\"(?<=\\d{4}/)\\d{2}\",links_list[-1]).group()\n",
    "\n",
    "    url_set = set(links_list)\n",
    "\n",
    "    return url_set, int(month)\n",
    "\n",
    "obtain_page_urls()"
   ]
  },
  {
   "cell_type": "code",
   "execution_count": null,
   "metadata": {},
   "outputs": [],
   "source": [
    "last_day_month ={1:31,2:28,3:31,4:30,5:31,6:30,7:31,8:31,9:30,10:31,11:30,12:31}"
   ]
  },
  {
   "cell_type": "code",
   "execution_count": null,
   "metadata": {},
   "outputs": [],
   "source": [
    "def obtain_monthly_urls(start=0,month=12,year=2023):\n",
    "    \"\"\" \n",
    "    Obtain the urls from the NPR politics section for a given month\n",
    "    Inputs:\n",
    "    - start(int): Article to start seach from (Similar to page)\n",
    "    - month(int): Month to obtain articles from\n",
    "    - year(int): Year to obtain articles from\n",
    "\n",
    "    Return:\n",
    "    month_urls (set): Set of articles of the politics section the month specified\n",
    "    \"\"\"\n",
    "    \n",
    "    date = \"{}-{}-{}\".format(month,last_day_month[month],year)\n",
    "    \"\"\"docstring\"\"\"\n",
    "    month_urls = set()\n",
    "    page = 1\n",
    "    print(\"Obtaining links for \",month,\"-\",year, \",page:\",page)\n",
    "    current_month = month\n",
    "    while  current_month == month:\n",
    "        page_urls, current_month = obtain_page_urls(start,date)\n",
    "        month_urls.update(page_urls)\n",
    "        start += 15\n",
    "        page += 1\n",
    "        print(\"Obtaining links for \",month,\"-\",year, \",page:\",page)\n",
    "        time.sleep(.5)\n",
    "    \n",
    "    return month_urls\n"
   ]
  },
  {
   "cell_type": "code",
   "execution_count": null,
   "metadata": {},
   "outputs": [],
   "source": [
    "obtain_monthly_urls(0,6,2023)"
   ]
  },
  {
   "cell_type": "code",
   "execution_count": null,
   "metadata": {},
   "outputs": [],
   "source": [
    "def crawl_npr(min_year):\n",
    "    \"\"\" \n",
    "    Crawl the NPR politics section\n",
    "    Inputs:\n",
    "    - min_year(int): Oldest year to get results from\n",
    "    Return:\n",
    "    - npr_url(set): Set of all the NPR politics section url until the specified year\n",
    "    \"\"\"\n",
    "    npr_urls = set()\n",
    "    for year in range(min_year,2024):\n",
    "        for month in range(1,13):\n",
    "            npr_urls.update(obtain_monthly_urls(0,month,year))\n",
    "\n",
    "    return npr_urls"
   ]
  },
  {
   "cell_type": "code",
   "execution_count": null,
   "metadata": {},
   "outputs": [],
   "source": [
    "crawl_npr(2022)"
   ]
  }
 ],
 "metadata": {
  "kernelspec": {
   "display_name": "base",
   "language": "python",
   "name": "python3"
  },
  "language_info": {
   "codemirror_mode": {
    "name": "ipython",
    "version": 3
   },
   "file_extension": ".py",
   "mimetype": "text/x-python",
   "name": "python",
   "nbconvert_exporter": "python",
   "pygments_lexer": "ipython3",
   "version": "3.9.12"
  },
  "orig_nbformat": 4
 },
 "nbformat": 4,
 "nbformat_minor": 2
}

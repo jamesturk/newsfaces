{
 "cells": [
  {
   "attachments": {},
   "cell_type": "markdown",
   "metadata": {},
   "source": [
    "Obtain NPR URL's"
   ]
  },
  {
   "cell_type": "code",
   "execution_count": 2,
   "metadata": {},
   "outputs": [],
   "source": [
    "#Import necessary libraries\n",
    "import time\n",
    "import json\n",
    "import requests\n",
    "import urllib\n",
    "import lxml.html\n",
    "from bs4 import BeautifulSoup\n",
    "import newspaper\n",
    "import trafilatura\n",
    "import re"
   ]
  },
  {
   "cell_type": "code",
   "execution_count": 3,
   "metadata": {},
   "outputs": [
    {
     "data": {
      "text/plain": [
       "({'https://www.npr.org/2023/07/21/1189494854/alabama-redistricting-map-black-districts',\n",
       "  'https://www.npr.org/2023/07/22/1189093540/detroit-bankruptcy-comeback-hurdle',\n",
       "  'https://www.npr.org/2023/07/22/1189362839/no-labels-americans-elect-third-party',\n",
       "  'https://www.npr.org/2023/07/22/1189580609/week-in-politics-congress-clash-over-military-promotions-trumps-legal-troubles',\n",
       "  'https://www.npr.org/2023/07/22/1189580616/gov-spencer-cox-of-utah-wants-americans-to-learn-how-to-disagree',\n",
       "  'https://www.npr.org/2023/07/22/1189580679/presidential-candidates-are-vying-for-an-endorsement-from-the-united-auto-worker',\n",
       "  'https://www.npr.org/2023/07/22/1189625686/as-trumps-legal-woes-pile-up-iowa-supporters-are-unfazed',\n",
       "  'https://www.npr.org/2023/07/23/1188726182/afghanistan-withdrawal-teen-alone-u-s',\n",
       "  'https://www.npr.org/2023/07/23/1189659854/politics-chat-possible-third-indictment-for-trump-vp-harris-steps-up-on-the-trai',\n",
       "  'https://www.npr.org/2023/07/23/1189664409/emmett-till-national-monuments-biden',\n",
       "  'https://www.npr.org/2023/07/24/1189719301/court-to-check-if-new-congressional-map-in-alabama-weakens-the-power-of-black-vo',\n",
       "  'https://www.npr.org/2023/07/24/1189719329/conservative-columnist-matt-lewis-discusses-his-new-book-filthy-rich-politicians',\n",
       "  'https://www.npr.org/2023/07/24/1189719343/vp-harris-to-speak-at-conference-organized-by-group-advocating-for-latino-commun',\n",
       "  'https://www.npr.org/2023/07/24/1189719400/trump-could-face-federal-indictment-soon-over-effort-to-overturn-2020-election-d',\n",
       "  'https://www.npr.org/sections/money/2023/07/24/1189443223/affirmative-action-for-rich-kids-its-more-than-just-legacy-admissions'},\n",
       " 7)"
      ]
     },
     "execution_count": 3,
     "metadata": {},
     "output_type": "execute_result"
    }
   ],
   "source": [
    "#NPR\n",
    "\n",
    "def obtain_page_urls(start=\"0\",date=\"12-31-2023\"):\n",
    "    \"\"\"\n",
    "    Obtain the URLS of a page from the politics section using the NPR internal API\n",
    "    Inputs:\n",
    "    start(str/int): Article to start seach from (Similar to page)\n",
    "    date(str): Date to start looking articles from sorted from newest to oldest\n",
    "    Return:\n",
    "    url_set(set): Set of articles\n",
    "    month(int): Month of last article retrieved\n",
    "\n",
    "    \"\"\"\n",
    "    url = \"https://www.npr.org/sections/politics/archive?start={}&date={}\".format(start,date)\n",
    "    resp = requests.get(url)\n",
    "    root = lxml.html.fromstring(resp.text)\n",
    "    article_elements = root.cssselect(\"h2.title\")\n",
    "    if len(article_elements) == 0:\n",
    "        return None\n",
    "    links_list = []\n",
    "    for element in article_elements:\n",
    "        link = element.cssselect(\"a\")\n",
    "        href = link[0].get(\"href\")\n",
    "        links_list.append(href)\n",
    "    month = re.search(r\"(?<=\\d{4}/)\\d{2}\",links_list[-1]).group()\n",
    "\n",
    "    url_set = set(links_list)\n",
    "\n",
    "    return url_set, int(month)\n",
    "\n",
    "obtain_page_urls()"
   ]
  },
  {
   "cell_type": "code",
   "execution_count": 7,
   "metadata": {},
   "outputs": [],
   "source": [
    "last_day_month ={1:31,2:28,3:31,4:30,5:31,6:30,7:31,8:31,9:30,10:31,11:30,12:31}"
   ]
  },
  {
   "cell_type": "code",
   "execution_count": 8,
   "metadata": {},
   "outputs": [],
   "source": [
    "def obtain_monthly_urls(start=0,month=12,year=2023):\n",
    "    \"\"\" \n",
    "    Obtain the urls from the NPR politics section for a given month\n",
    "    Inputs:\n",
    "    - start(int): Article to start seach from (Similar to page)\n",
    "    - month(int): Month to obtain articles from\n",
    "    - year(int): Year to obtain articles from\n",
    "\n",
    "    Return:\n",
    "    month_urls (set): Set of articles of the politics section the month specified\n",
    "    \"\"\"\n",
    "    \n",
    "    date = \"{}-{}-{}\".format(month,last_day_month[month],year)\n",
    "    \"\"\"docstring\"\"\"\n",
    "    month_urls = set()\n",
    "    page = 1\n",
    "    print(\"Obtaining links for \",month,\"-\",year, \",page:\",page)\n",
    "    current_month = month\n",
    "    while  current_month == month:\n",
    "        page_urls, current_month = obtain_page_urls(start,date)\n",
    "        month_urls.update(page_urls)\n",
    "        start += 15\n",
    "        page += 1\n",
    "        print(\"Obtaining links for \",month,\"-\",year, \",page:\",page)\n",
    "        time.sleep(.5)\n",
    "    \n",
    "    return month_urls\n"
   ]
  },
  {
   "cell_type": "code",
   "execution_count": 10,
   "metadata": {},
   "outputs": [
    {
     "name": "stdout",
     "output_type": "stream",
     "text": [
      "Obtaining links for  1 - 2022 ,page: 1\n",
      "Obtaining links for  1 - 2022 ,page: 2\n",
      "Obtaining links for  1 - 2022 ,page: 3\n",
      "Obtaining links for  1 - 2022 ,page: 4\n",
      "Obtaining links for  1 - 2022 ,page: 5\n",
      "Obtaining links for  1 - 2022 ,page: 6\n"
     ]
    },
    {
     "ename": "KeyboardInterrupt",
     "evalue": "",
     "output_type": "error",
     "traceback": [
      "\u001b[0;31m---------------------------------------------------------------------------\u001b[0m",
      "\u001b[0;31mKeyboardInterrupt\u001b[0m                         Traceback (most recent call last)",
      "\u001b[1;32m/Users/jpmartinezclaeys/Desktop/U Chicago/James Turk - RA/newsfaces/url_scrapers/npr_url_scraper.ipynb Cell 6\u001b[0m in \u001b[0;36m<cell line: 1>\u001b[0;34m()\u001b[0m\n\u001b[0;32m----> <a href='vscode-notebook-cell:/Users/jpmartinezclaeys/Desktop/U%20Chicago/James%20Turk%20-%20RA/newsfaces/url_scrapers/npr_url_scraper.ipynb#W5sZmlsZQ%3D%3D?line=0'>1</a>\u001b[0m obtain_monthly_urls(\u001b[39m0\u001b[39;49m,\u001b[39m1\u001b[39;49m,\u001b[39m2022\u001b[39;49m)\n",
      "\u001b[1;32m/Users/jpmartinezclaeys/Desktop/U Chicago/James Turk - RA/newsfaces/url_scrapers/npr_url_scraper.ipynb Cell 6\u001b[0m in \u001b[0;36mobtain_monthly_urls\u001b[0;34m(start, month, year)\u001b[0m\n\u001b[1;32m     <a href='vscode-notebook-cell:/Users/jpmartinezclaeys/Desktop/U%20Chicago/James%20Turk%20-%20RA/newsfaces/url_scrapers/npr_url_scraper.ipynb#W5sZmlsZQ%3D%3D?line=22'>23</a>\u001b[0m     page \u001b[39m+\u001b[39m\u001b[39m=\u001b[39m \u001b[39m1\u001b[39m\n\u001b[1;32m     <a href='vscode-notebook-cell:/Users/jpmartinezclaeys/Desktop/U%20Chicago/James%20Turk%20-%20RA/newsfaces/url_scrapers/npr_url_scraper.ipynb#W5sZmlsZQ%3D%3D?line=23'>24</a>\u001b[0m     \u001b[39mprint\u001b[39m(\u001b[39m\"\u001b[39m\u001b[39mObtaining links for \u001b[39m\u001b[39m\"\u001b[39m,month,\u001b[39m\"\u001b[39m\u001b[39m-\u001b[39m\u001b[39m\"\u001b[39m,year, \u001b[39m\"\u001b[39m\u001b[39m,page:\u001b[39m\u001b[39m\"\u001b[39m,page)\n\u001b[0;32m---> <a href='vscode-notebook-cell:/Users/jpmartinezclaeys/Desktop/U%20Chicago/James%20Turk%20-%20RA/newsfaces/url_scrapers/npr_url_scraper.ipynb#W5sZmlsZQ%3D%3D?line=24'>25</a>\u001b[0m     time\u001b[39m.\u001b[39;49msleep(\u001b[39m.5\u001b[39;49m)\n\u001b[1;32m     <a href='vscode-notebook-cell:/Users/jpmartinezclaeys/Desktop/U%20Chicago/James%20Turk%20-%20RA/newsfaces/url_scrapers/npr_url_scraper.ipynb#W5sZmlsZQ%3D%3D?line=26'>27</a>\u001b[0m \u001b[39mreturn\u001b[39;00m month_urls\n",
      "\u001b[0;31mKeyboardInterrupt\u001b[0m: "
     ]
    }
   ],
   "source": [
    "obtain_monthly_urls(0,1,2022)"
   ]
  },
  {
   "cell_type": "code",
   "execution_count": null,
   "metadata": {},
   "outputs": [],
   "source": [
    "def crawl_npr(min_year):\n",
    "    \"\"\" \n",
    "    Crawl the NPR politics section\n",
    "    Inputs:\n",
    "    - min_year(int): Oldest year to get results from\n",
    "    Return:\n",
    "    - npr_url(set): Set of all the NPR politics section url until the specified year\n",
    "    \"\"\"\n",
    "    npr_urls = set()\n",
    "    for year in range(min_year,2024):\n",
    "        for month in range(1,13):\n",
    "            npr_urls.update(obtain_monthly_urls(0,month,year))\n",
    "\n",
    "    return npr_urls"
   ]
  },
  {
   "cell_type": "code",
   "execution_count": null,
   "metadata": {},
   "outputs": [],
   "source": [
    "crawl_npr(2022)"
   ]
  },
  {
   "cell_type": "code",
   "execution_count": 25,
   "metadata": {},
   "outputs": [
    {
     "name": "stdout",
     "output_type": "stream",
     "text": [
      "article: https://www.npr.org/2023/07/24/1189719343/vp-harris-to-speak-at-conference-organized-by-group-advocating-for-latino-commun\n",
      "Target src: https://media.npr.org/include/images/facebook-default-wide-s1400-c100.jpg\n",
      "None\n",
      "article: https://www.npr.org/2023/07/23/1189659854/politics-chat-possible-third-indictment-for-trump-vp-harris-steps-up-on-the-trai\n",
      "Target src: https://media.npr.org/include/images/facebook-default-wide-s1400-c100.jpg\n",
      "None\n",
      "article: https://www.npr.org/2023/07/24/1189831506/the-doj-is-taking-legal-action-over-razer-wire-topped-floating-border-wall-in-te\n",
      "Target src: https://media.npr.org/include/images/facebook-default-wide-s1400-c100.jpg\n",
      "None\n",
      "article: https://www.npr.org/sections/money/2023/07/24/1189443223/affirmative-action-for-rich-kids-its-more-than-just-legacy-admissions\n",
      "Target src: https://media.npr.org/assets/img/2023/07/21/gettyimages-1268846574_wide-b616caddbe37f2ea9797277ae05de50dabf3148a-s1400-c100.jpg\n",
      "None\n",
      "article: https://www.npr.org/2023/07/23/1188726182/afghanistan-withdrawal-teen-alone-u-s\n",
      "Target src: https://media.npr.org/assets/img/2023/07/20/npr_afghan_final_wide-1e7ab1416d796a3a56c1c7ced4fdf83ad242c2a8-s1400-c100.jpg\n",
      "None\n",
      "article: https://www.npr.org/2023/07/24/1189732169/gov-abbott-refuses-to-remove-floating-border-wall-tells-biden-see-you-in-court\n",
      "Target src: https://media.npr.org/assets/img/2023/07/24/ap23193019083990_wide-05722154b73d9e623886c639317a61eae8c43484-s1400-c100.jpg\n",
      "None\n",
      "article: https://www.npr.org/2023/07/24/1189719329/conservative-columnist-matt-lewis-discusses-his-new-book-filthy-rich-politicians\n",
      "Target src: https://media.npr.org/include/images/facebook-default-wide-s1400-c100.jpg\n",
      "None\n",
      "article: https://www.npr.org/2023/07/24/1189831437/chinas-foreign-minister-hasnt-been-seen-in-a-month-analysts-arent-optimistic\n",
      "Target src: https://media.npr.org/include/images/facebook-default-wide-s1400-c100.jpg\n",
      "None\n",
      "article: https://www.npr.org/2023/07/24/1189831409/what-protestors-are-saying-of-the-new-law-reducing-israeli-supreme-courts-oversi\n",
      "Target src: https://media.npr.org/include/images/facebook-default-wide-s1400-c100.jpg\n",
      "None\n",
      "article: https://www.npr.org/2023/07/22/1189580616/gov-spencer-cox-of-utah-wants-americans-to-learn-how-to-disagree\n",
      "Target src: https://media.npr.org/include/images/facebook-default-wide-s1400-c100.jpg\n",
      "None\n",
      "article: https://www.npr.org/2023/07/24/1189719400/trump-could-face-federal-indictment-soon-over-effort-to-overturn-2020-election-d\n",
      "Target src: https://media.npr.org/include/images/facebook-default-wide-s1400-c100.jpg\n",
      "None\n",
      "article: https://www.npr.org/2023/07/24/1189719301/court-to-check-if-new-congressional-map-in-alabama-weakens-the-power-of-black-vo\n",
      "Target src: https://media.npr.org/include/images/facebook-default-wide-s1400-c100.jpg\n",
      "None\n",
      "article: https://www.npr.org/2023/07/22/1189625686/as-trumps-legal-woes-pile-up-iowa-supporters-are-unfazed\n",
      "Target src: https://media.npr.org/include/images/facebook-default-wide-s1400-c100.jpg\n",
      "None\n",
      "article: https://www.npr.org/2023/07/22/1189580679/presidential-candidates-are-vying-for-an-endorsement-from-the-united-auto-worker\n",
      "Target src: https://media.npr.org/include/images/facebook-default-wide-s1400-c100.jpg\n",
      "None\n",
      "article: https://www.npr.org/2023/07/23/1189664409/emmett-till-national-monuments-biden\n",
      "Target src: https://media.npr.org/assets/img/2023/07/23/ap23108559311617_wide-cb4a20ac792473c9c698c9f1c2c289d11c7d38e5-s1400-c100.jpg\n",
      "None\n"
     ]
    }
   ],
   "source": [
    "test_list = obtain_page_urls()\n",
    "test_list\n",
    "\n",
    "for article in list(test_list[0]):\n",
    "    print(\"article:\",article)\n",
    "    downloaded = trafilatura.fetch_url(article)\n",
    "    content_2 = trafilatura.bare_extraction(downloaded, include_images=True,include_comments=False)\n",
    "    target_src = content_2[\"image\"]\n",
    "    print(\"Target src:\",target_src)\n",
    "    resp = requests.get(article)\n",
    "    soup = BeautifulSoup(resp.text, \"html.parser\")\n",
    "    image_element = soup.find(\"img\", src_set=target_src)\n",
    "    print(image_element)"
   ]
  }
 ],
 "metadata": {
  "kernelspec": {
   "display_name": "base",
   "language": "python",
   "name": "python3"
  },
  "language_info": {
   "codemirror_mode": {
    "name": "ipython",
    "version": 3
   },
   "file_extension": ".py",
   "mimetype": "text/x-python",
   "name": "python",
   "nbconvert_exporter": "python",
   "pygments_lexer": "ipython3",
   "version": "3.9.12"
  },
  "orig_nbformat": 4
 },
 "nbformat": 4,
 "nbformat_minor": 2
}

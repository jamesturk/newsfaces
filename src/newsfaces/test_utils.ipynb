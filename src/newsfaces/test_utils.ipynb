{
 "cells": [
  {
   "cell_type": "code",
   "execution_count": 1,
   "metadata": {},
   "outputs": [],
   "source": [
    "from utils import crawl_wayback, create_csv, get_urls"
   ]
  },
  {
   "cell_type": "code",
   "execution_count": 1,
   "metadata": {},
   "outputs": [
    {
     "ename": "NameError",
     "evalue": "name 'crawl_wayback' is not defined",
     "output_type": "error",
     "traceback": [
      "\u001b[0;31m---------------------------------------------------------------------------\u001b[0m",
      "\u001b[0;31mNameError\u001b[0m                                 Traceback (most recent call last)",
      "Cell \u001b[0;32mIn[1], line 1\u001b[0m\n\u001b[0;32m----> 1\u001b[0m articles\u001b[39m=\u001b[39mcrawl_wayback(\u001b[39m\"\u001b[39m\u001b[39mhttps://www.washingtontimes.com/news/politics/?page=1\u001b[39m\u001b[39m\"\u001b[39m, \u001b[39m30\u001b[39m, get_urls, \u001b[39m'\u001b[39m\u001b[39m20221228\u001b[39m\u001b[39m'\u001b[39m, [\u001b[39m'\u001b[39m\u001b[39marticle\u001b[39m\u001b[39m'\u001b[39m])\n\u001b[1;32m      2\u001b[0m create_csv(articles, \u001b[39m'\u001b[39m\u001b[39mtesting\u001b[39m\u001b[39m'\u001b[39m, \u001b[39m\"\u001b[39m\u001b[39mtest.csv\u001b[39m\u001b[39m\"\u001b[39m,)\n",
      "\u001b[0;31mNameError\u001b[0m: name 'crawl_wayback' is not defined"
     ]
    }
   ],
   "source": [
    "articles=crawl_wayback(\"https://www.washingtontimes.com/news/politics/?page=1\", 30, get_urls, '20221228', ['article'])\n",
    "create_csv(articles, 'testing', \"test.csv\",)"
   ]
  },
  {
   "cell_type": "code",
   "execution_count": 1,
   "metadata": {},
   "outputs": [
    {
     "ename": "NameError",
     "evalue": "name 'current_time' is not defined",
     "output_type": "error",
     "traceback": [
      "\u001b[0;31m---------------------------------------------------------------------------\u001b[0m",
      "\u001b[0;31mNameError\u001b[0m                                 Traceback (most recent call last)",
      "Cell \u001b[0;32mIn[1], line 13\u001b[0m\n\u001b[1;32m     10\u001b[0m \u001b[39mfrom\u001b[39;00m \u001b[39mcrawler\u001b[39;00m \u001b[39mimport\u001b[39;00m Fox\n\u001b[1;32m     12\u001b[0m a\u001b[39m=\u001b[39mFox()\n\u001b[0;32m---> 13\u001b[0m a\u001b[39m.\u001b[39;49mcrawl([\u001b[39m2022\u001b[39;49m,\u001b[39m1\u001b[39;49m,\u001b[39m1\u001b[39;49m],[\u001b[39m2022\u001b[39;49m,\u001b[39m1\u001b[39;49m,\u001b[39m10\u001b[39;49m],\u001b[39m4\u001b[39;49m)\n",
      "File \u001b[0;32m~/newsfaces/src/newsfaces/crawler.py:106\u001b[0m, in \u001b[0;36mWaybackCrawler.crawl\u001b[0;34m(self, startdate, enddate, delta_hrs)\u001b[0m\n\u001b[1;32m    104\u001b[0m \u001b[39m#Crawl internet archive once every delta_hrs from startdate until enddate\u001b[39;00m\n\u001b[1;32m    105\u001b[0m \u001b[39mwhile\u001b[39;00m current_date \u001b[39m!=\u001b[39m end_date:\n\u001b[0;32m--> 106\u001b[0m     results \u001b[39m=\u001b[39m \u001b[39mself\u001b[39m\u001b[39m.\u001b[39mclient\u001b[39m.\u001b[39msearch(\u001b[39mself\u001b[39m\u001b[39m.\u001b[39murl, match_type\u001b[39m=\u001b[39m\u001b[39m\"\u001b[39m\u001b[39mexact\u001b[39m\u001b[39m\"\u001b[39m, from_date\u001b[39m=\u001b[39mcurrent_time)\n\u001b[1;32m    107\u001b[0m     record \u001b[39m=\u001b[39m \u001b[39mnext\u001b[39m(results)\n\u001b[1;32m    108\u001b[0m     waybackurl \u001b[39m=\u001b[39m record\u001b[39m.\u001b[39mview_url\n",
      "\u001b[0;31mNameError\u001b[0m: name 'current_time' is not defined"
     ]
    }
   ],
   "source": [
    "# Util Functions\n",
    "import time\n",
    "import requests\n",
    "from urllib.parse import urlparse\n",
    "import lxml.html\n",
    "from wayback import WaybackClient, memento_url_data, WaybackSession\n",
    "import itertools\n",
    "import datetime\n",
    "from utils import make_request, parse_html, make_link_absolute, page_grab \n",
    "from crawler import Fox\n",
    "    \n",
    "a=Fox()\n",
    "a.crawl([2022,1,1],[2022,1,10],4)"
   ]
  }
 ],
 "metadata": {
  "kernelspec": {
   "display_name": "base",
   "language": "python",
   "name": "python3"
  },
  "language_info": {
   "codemirror_mode": {
    "name": "ipython",
    "version": 3
   },
   "file_extension": ".py",
   "mimetype": "text/x-python",
   "name": "python",
   "nbconvert_exporter": "python",
   "pygments_lexer": "ipython3",
   "version": "3.10.10"
  },
  "orig_nbformat": 4
 },
 "nbformat": 4,
 "nbformat_minor": 2
}

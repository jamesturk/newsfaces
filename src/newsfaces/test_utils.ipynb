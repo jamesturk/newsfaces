{
 "cells": [
  {
   "cell_type": "code",
   "execution_count": 6,
   "metadata": {},
   "outputs": [],
   "source": [
    "from utils import crawl_wayback, create_csv, get_urls"
   ]
  },
  {
   "cell_type": "code",
   "execution_count": 8,
   "metadata": {},
   "outputs": [
    {
     "name": "stdout",
     "output_type": "stream",
     "text": [
      "Fetching https://web.archive.org/web/20221228201228/https://www.washingtontimes.com/news/politics/?page=1\n",
      "Fetching https://web.archive.org/web/20221229205628/https://www.washingtontimes.com/news/politics/?page=1\n",
      "Fetching https://web.archive.org/web/20221230212206/https://www.washingtontimes.com/news/politics/?page=1\n",
      "Fetching https://web.archive.org/web/20221231213758/https://www.washingtontimes.com/news/politics/?page=1\n",
      "Fetching https://web.archive.org/web/20230101214721/https://www.washingtontimes.com/news/politics/?page=1\n",
      "Fetching https://web.archive.org/web/20230102215951/https://www.washingtontimes.com/news/politics/?page=1\n",
      "Fetching https://web.archive.org/web/20230103230629/https://www.washingtontimes.com/news/politics/?page=1\n",
      "Fetching https://web.archive.org/web/20230104214208/https://www.washingtontimes.com/news/politics/?page=1\n",
      "Fetching https://web.archive.org/web/20230105215956/https://www.washingtontimes.com/news/politics/?page=1\n",
      "Fetching https://web.archive.org/web/20230106222643/https://www.washingtontimes.com/news/politics/?page=1\n",
      "Fetching https://web.archive.org/web/20230107225802/https://www.washingtontimes.com/news/politics/?page=1\n",
      "Fetching https://web.archive.org/web/20230108231911/https://www.washingtontimes.com/news/politics/?page=1\n",
      "Fetching https://web.archive.org/web/20230109234548/https://www.washingtontimes.com/news/politics/?page=1\n",
      "Fetching https://web.archive.org/web/20230111002107/https://www.washingtontimes.com/news/politics/?page=1\n",
      "Fetching https://web.archive.org/web/20230112003255/https://www.washingtontimes.com/news/politics/?page=1\n",
      "Fetching https://web.archive.org/web/20230113011813/https://www.washingtontimes.com/news/politics/?page=1\n",
      "Fetching https://web.archive.org/web/20230114014205/https://www.washingtontimes.com/news/politics/?page=1\n",
      "Fetching https://web.archive.org/web/20230115015227/https://www.washingtontimes.com/news/politics/?page=1\n",
      "Fetching https://web.archive.org/web/20230116020645/https://www.washingtontimes.com/news/politics/?page=1\n",
      "Fetching https://web.archive.org/web/20230116170946/https://www.washingtontimes.com/news/politics/?page=1\n",
      "Fetching https://web.archive.org/web/20230130195520/https://www.washingtontimes.com/news/politics/?page=1\n",
      "Fetching https://web.archive.org/web/20230131204931/https://www.washingtontimes.com/news/politics/?page=1\n",
      "Fetching https://web.archive.org/web/20230201185412/https://www.washingtontimes.com/news/politics/?page=1\n",
      "Fetching https://web.archive.org/web/20230202195827/https://www.washingtontimes.com/news/politics/?page=1\n",
      "Fetching https://web.archive.org/web/20230203205328/https://www.washingtontimes.com/news/politics/?page=1\n",
      "Fetching https://web.archive.org/web/20230204211818/https://www.washingtontimes.com/news/politics/?page=1\n",
      "Fetching https://web.archive.org/web/20230205234934/https://www.washingtontimes.com/news/politics/?page=1\n",
      "Fetching https://web.archive.org/web/20230207012031/https://www.washingtontimes.com/news/politics/?page=1\n",
      "Fetching https://web.archive.org/web/20230208021233/https://www.washingtontimes.com/news/politics/?page=1\n",
      "Fetching https://web.archive.org/web/20230209190003/https://www.washingtontimes.com/news/politics/?page=1\n"
     ]
    }
   ],
   "source": [
    "articles=crawl_wayback(\"https://www.washingtontimes.com/news/politics/?page=1\", 30, get_urls, '20221228', ['article'])\n",
    "create_csv(articles, 'testing', \"test.csv\",)"
   ]
  }
 ],
 "metadata": {
  "kernelspec": {
   "display_name": "base",
   "language": "python",
   "name": "python3"
  },
  "language_info": {
   "codemirror_mode": {
    "name": "ipython",
    "version": 3
   },
   "file_extension": ".py",
   "mimetype": "text/x-python",
   "name": "python",
   "nbconvert_exporter": "python",
   "pygments_lexer": "ipython3",
   "version": "3.10.10"
  },
  "orig_nbformat": 4
 },
 "nbformat": 4,
 "nbformat_minor": 2
}

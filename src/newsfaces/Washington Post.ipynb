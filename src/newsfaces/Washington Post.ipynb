{
 "cells": [
  {
   "cell_type": "code",
   "execution_count": 1,
   "metadata": {},
   "outputs": [],
   "source": [
    "#Util Functions\n",
    "import time\n",
    "import requests\n",
    "from urllib.parse import urlparse\n",
    "import sys\n",
    "import json\n",
    "import lxml.html\n",
    "import csv\n",
    "from utils import make_request, parse_html, make_link_absolute, page_grab \n"
   ]
  },
  {
   "cell_type": "code",
   "execution_count": null,
   "metadata": {},
   "outputs": [],
   "source": [
    "def crawl_washpost(base_page, article=set(), video=set()):\n",
    "    \"\"\"\n",
    "    From an initial API query page, run through all possible\n",
    "    API queries-- putting articles on the pages into\n",
    "    a set.\n",
    "\n",
    "    Returns:\n",
    "    Set of articles \n",
    "    \"\"\"\n",
    "    response = page_grab(base_page)\n",
    "    json_data = json.loads(response.text)\n",
    "    return json_data\n",
    "    # for i in json_data:\n",
    "    #     url = make_link_absolute(i[\"url\"], \"https://www.foxnews.com/politics\")\n",
    "    #     if url.startswith(\"https://www.foxnews.com/politics\"):\n",
    "    #         article.add(url)\n",
    "    #     else:\n",
    "    #         video.add(url)\n",
    "    # begin = base_page.find(\"from\") + 5\n",
    "    # end = base_page.find(\"&media\")\n",
    "    # articlenumber = int(base_page[begin:end])\n",
    "    # if articlenumber < 9970:\n",
    "    #     articlenumber += 30\n",
    "    #     articlenumber = str(articlenumber)\n",
    "    #     rev_basepage = (\n",
    "    #         base_page[0:begin] + articlenumber + base_page[end : (len(base_page) + 1)]\n",
    "    #     )\n",
    "    #     crawl_fox(rev_basepage, article, video)\n",
    "    # return article, video\n",
    "    url= 'https://www.washingtonpost.com/prism/api/prism-query?_website=washpost&query=%7B%22query%22%3A%22prism%3A%2F%2Fprism.query%2Fsite-articles-only%2C%2Fpolitics%26offset%3D600%26limit%3D10%22%7D'\n"
   ]
  }
 ],
 "metadata": {
  "kernelspec": {
   "display_name": "base",
   "language": "python",
   "name": "python3"
  },
  "language_info": {
   "codemirror_mode": {
    "name": "ipython",
    "version": 3
   },
   "file_extension": ".py",
   "mimetype": "text/x-python",
   "name": "python",
   "nbconvert_exporter": "python",
   "pygments_lexer": "ipython3",
   "version": "3.10.10"
  },
  "orig_nbformat": 4
 },
 "nbformat": 4,
 "nbformat_minor": 2
}

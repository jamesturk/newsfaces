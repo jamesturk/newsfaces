{
 "cells": [
  {
   "cell_type": "code",
   "execution_count": 1,
   "metadata": {},
   "outputs": [],
   "source": [
    "#Util Functions\n",
    "import time\n",
    "import requests\n",
    "from urllib.parse import urlparse\n",
    "import sys\n",
    "import json\n",
    "import lxml.html\n",
    "import csv\n",
    "from utils import make_request, parse_html, make_link_absolute, page_grab "
   ]
  },
  {
   "cell_type": "code",
   "execution_count": 2,
   "metadata": {},
   "outputs": [
    {
     "name": "stdout",
     "output_type": "stream",
     "text": [
      "Fetching https://www.washingtontimes.com/news/politics/\n"
     ]
    },
    {
     "data": {
      "text/plain": [
       "['https://www.washingtontimes.com/specials/higher-ground-podcast/',\n",
       " 'https://www.washingtontimes.com/specials/history-happens-podcast/',\n",
       " 'https://www.washingtontimes.com/specials/bold-blunt-podcast/',\n",
       " 'https://www.washingtontimes.com/news/2023/jul/13/gop-add-freedom-caucus-penned-amendments-ndaa/',\n",
       " 'https://www.washingtontimes.com/news/2023/jul/13/joe-manchin-flips-against-joe-bidens-nominee-labor/',\n",
       " 'https://www.washingtontimes.com/news/2023/jul/13/trumps-support-tested-iowa-some-republicans-sour-a/',\n",
       " 'https://www.washingtontimes.com/news/2023/jul/13/inside-beltway-republican-presidential-hopefuls-co/',\n",
       " 'https://www.washingtontimes.com/news/2023/jul/13/extremely-troubling-gop-lawmakers-irate-secret-ser/',\n",
       " 'https://www.washingtontimes.com/news/2023/jul/13/john-kerry-brawls-gop-over-chinas-broken-climate-p/',\n",
       " 'https://www.washingtontimes.com/news/2023/jul/13/ftc-chair-lina-khan-under-fire-allegedly-ignoring-/',\n",
       " 'https://www.washingtontimes.com/news/2023/jul/13/case-closed-secret-service-comes-empty-investigati/',\n",
       " 'https://www.washingtontimes.com/news/2023/jul/13/joe-biden-says-vladimir-putin-has-already-lost-ukr/',\n",
       " 'https://www.washingtontimes.com/news/2023/jul/13/house-tees-ndaa-fight-over-pentagons-woke-policies/',\n",
       " 'https://www.washingtontimes.com/news/2023/jul/12/house-republican-infighting-trips-military-policy-/',\n",
       " 'https://www.washingtontimes.com/news/2023/jul/12/christopher-wray-wont-say-if-fbi-informants-capito/',\n",
       " 'https://www.washingtontimes.com/news/2023/jul/12/house-gop-puts-government-backed-esg-investing-spo/',\n",
       " 'https://www.washingtontimes.com/news/2023/jul/12/republicans-accuse-joe-biden-antisemitic-boycott-i/',\n",
       " 'https://www.washingtontimes.com/news/2023/jul/12/joe-manchin-headline-new-hampshire-event-ahead-pos/',\n",
       " 'https://www.washingtontimes.com/news/2023/jul/11/toronto-zoo-tells-guests-stop-showing-videos-goril/',\n",
       " 'https://www.washingtontimes.com/news/2023/jul/13/trumps-support-tested-iowa-some-republicans-sour-a/',\n",
       " 'https://www.washingtontimes.com/news/2023/jul/12/fbi-whistleblower-deputy-director-told-subordinate/',\n",
       " 'https://www.washingtontimes.com/news/2023/jul/13/is-incredible-shrinking-candidate-ron-desantis-kam/',\n",
       " 'https://www.washingtontimes.com/news/2023/jul/13/joe-manchin-flips-against-joe-bidens-nominee-labor/']"
      ]
     },
     "execution_count": 2,
     "metadata": {},
     "output_type": "execute_result"
    }
   ],
   "source": [
    "\n",
    "def get_urls(url):\n",
    "    \"\"\"\n",
    "    This function takes a URL to a page of articles and returns all\n",
    "    of the articles\n",
    "    \n",
    "\n",
    "    Parameters:\n",
    "        * url:  a URL to a page of parks\n",
    "\n",
    "    Returns:\n",
    "        A list of URLs to each park on the page.\n",
    "    \"\"\"\n",
    "    response= page_grab(url)\n",
    "    urls=[]\n",
    "    container = response.cssselect('article')\n",
    "    \n",
    "    for j in container:\n",
    "        atr = j.cssselect('a')\n",
    "        if atr and len(atr) > 0:\n",
    "            href = atr[0].get(\"href\")\n",
    "            if len(href)>0:\n",
    "                urls.append(make_link_absolute(href, 'https://www.washingtontimes.com'))\n",
    "    return urls\n",
    "\n",
    "get_urls('https://www.washingtontimes.com/news/politics/')\n"
   ]
  },
  {
   "cell_type": "code",
   "execution_count": 3,
   "metadata": {},
   "outputs": [],
   "source": [
    "def recurse_thehill(url, breakpoint, urls=[]):\n",
    "     scraped_urls=get_urls(url)\n",
    "     urls+= scraped_urls\n",
    "     begin=url.find(\"num=\")+4\n",
    "     pagenumber= int(url[begin:len(url)])\n",
    "     if pagenumber<breakpoint:\n",
    "          newlink=url[:-len(str(pagenumber))]+str(pagenumber+1)\n",
    "          recurse_thehill(newlink, breakpoint, urls)\n",
    "     return urls\n",
    "\n",
    "def list_to_csv(data_list, filename):\n",
    "    print(\"writing csv\")\n",
    "    with open(filename, 'w', newline='') as csvfile:\n",
    "        writer = csv.writer(csvfile)\n",
    "        for item in data_list:\n",
    "            writer.writerow([item])\n"
   ]
  },
  {
   "cell_type": "code",
   "execution_count": 4,
   "metadata": {},
   "outputs": [
    {
     "name": "stdout",
     "output_type": "stream",
     "text": [
      "Fetching https://www.washingtontimes.com/news/politics/?page=1\n"
     ]
    },
    {
     "ename": "ValueError",
     "evalue": "invalid literal for int() with base 10: 'ps://www.washingtontimes.com/news/politics/?page=1'",
     "output_type": "error",
     "traceback": [
      "\u001b[0;31m---------------------------------------------------------------------------\u001b[0m",
      "\u001b[0;31mValueError\u001b[0m                                Traceback (most recent call last)",
      "Cell \u001b[0;32mIn[4], line 1\u001b[0m\n\u001b[0;32m----> 1\u001b[0m urllist\u001b[39m=\u001b[39m\u001b[39mset\u001b[39m(recurse_thehill(\u001b[39m'\u001b[39;49m\u001b[39mhttps://www.washingtontimes.com/news/politics/?page=1\u001b[39;49m\u001b[39m'\u001b[39;49m, \u001b[39m1064\u001b[39;49m))\n\u001b[1;32m      2\u001b[0m \u001b[39m#reminder of 1700 recursion limit\u001b[39;00m\n\u001b[1;32m      3\u001b[0m list_to_csv(\u001b[39mlist\u001b[39m(urllist), \u001b[39m\"\u001b[39m\u001b[39mwashingtontimes.csv\u001b[39m\u001b[39m\"\u001b[39m)\n",
      "Cell \u001b[0;32mIn[3], line 5\u001b[0m, in \u001b[0;36mrecurse_thehill\u001b[0;34m(url, breakpoint, urls)\u001b[0m\n\u001b[1;32m      3\u001b[0m urls\u001b[39m+\u001b[39m\u001b[39m=\u001b[39m scraped_urls\n\u001b[1;32m      4\u001b[0m begin\u001b[39m=\u001b[39murl\u001b[39m.\u001b[39mfind(\u001b[39m\"\u001b[39m\u001b[39mnum=\u001b[39m\u001b[39m\"\u001b[39m)\u001b[39m+\u001b[39m\u001b[39m4\u001b[39m\n\u001b[0;32m----> 5\u001b[0m pagenumber\u001b[39m=\u001b[39m \u001b[39mint\u001b[39;49m(url[begin:\u001b[39mlen\u001b[39;49m(url)])\n\u001b[1;32m      6\u001b[0m \u001b[39mif\u001b[39;00m pagenumber\u001b[39m<\u001b[39m\u001b[39mbreakpoint\u001b[39m:\n\u001b[1;32m      7\u001b[0m      newlink\u001b[39m=\u001b[39murl[:\u001b[39m-\u001b[39m\u001b[39mlen\u001b[39m(\u001b[39mstr\u001b[39m(pagenumber))]\u001b[39m+\u001b[39m\u001b[39mstr\u001b[39m(pagenumber\u001b[39m+\u001b[39m\u001b[39m1\u001b[39m)\n",
      "\u001b[0;31mValueError\u001b[0m: invalid literal for int() with base 10: 'ps://www.washingtontimes.com/news/politics/?page=1'"
     ]
    }
   ],
   "source": [
    "urllist=set(recurse_thehill('https://www.washingtontimes.com/news/politics/?page=1', 1064))\n",
    "#reminder of 1700 recursion limit\n",
    "list_to_csv(list(urllist), \"washingtontimes.csv\")"
   ]
  },
  {
   "cell_type": "code",
   "execution_count": null,
   "metadata": {},
   "outputs": [],
   "source": []
  },
  {
   "cell_type": "code",
   "execution_count": null,
   "metadata": {},
   "outputs": [],
   "source": [
    "\n"
   ]
  }
 ],
 "metadata": {
  "kernelspec": {
   "display_name": "base",
   "language": "python",
   "name": "python3"
  },
  "language_info": {
   "codemirror_mode": {
    "name": "ipython",
    "version": 3
   },
   "file_extension": ".py",
   "mimetype": "text/x-python",
   "name": "python",
   "nbconvert_exporter": "python",
   "pygments_lexer": "ipython3",
   "version": "3.10.10"
  },
  "orig_nbformat": 4
 },
 "nbformat": 4,
 "nbformat_minor": 2
}

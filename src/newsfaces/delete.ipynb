{
 "cells": [
  {
   "cell_type": "code",
   "execution_count": 7,
   "metadata": {},
   "outputs": [
    {
     "name": "stdout",
     "output_type": "stream",
     "text": [
      "Fetching https://www.foxnews.com/politics/kerry-ripped-demanding-agriculture-emission-cuts-bankrupt-every-farmer\n"
     ]
    },
    {
     "data": {
      "text/plain": [
       "Article(title='Kerry ripped for demanding agriculture emission cuts: ‘Bankrupt every farmer in America’', article_text='Rep. Cory Mills, R-Fla., and former West Virginia coal miner Bo Copley call out climate czar John Kerry\\'s climate hypocrisy.U.S. Special Presidential Envoy for Climate John Kerry was blasted on social media over the weekend by critics who accused him of trying to destroy the agriculture industry in order to achieve \"net zero\" emissions.\"Agriculture contributes about 33% of all the emissions of the world, depending a little bit on how you count it, but it’s anywhere from 26 to 33, and we can’t get to net zero, we don’t get this job done unless agriculture is front and center as part of the solution,\" Kerry told a climate change summit in May.\"You just can’t continue to both warm the planet while also expecting to feed it,\" Kerry added. \"It doesn’t work. So, we have to reduce emissions from the food system.\"That clip was widely shared over the weekend after being posted by the Twitter account Wide Awake Media, which led to a new wave of criticism against the Biden administration\\'s top climate envoy. Republican Rep. Mary Miller of Illinois called them an \"attack on American farmers.\"JOHN KERRY SCORCHED FOR MISLEADING ON PRIVATE JET USE: \\'DEMOCRATS\\' STANDARD OF HYPOCRISY\\'John Kerry, the U.S. special presidential envoy for climate, speaks during a Bloomberg Television interview in Hanoi, Vietnam. (Linh Pham / Bloomberg via Getty Images / File)\"Nothing to see here,\" Republican Sen. Ted Cruz tweeted. \"Just hypocritical Dems wanting to bankrupt every farmer in America….\"\"These people are sick bastards,\" GOP Rep. Chip Roy of Texas tweeted. \"I introduced legislation to defund this clown. But that’s just for show unless Republicans as a whole decide to fight instead of laying down while the very freedom they campaign on is under assault.\"WHITE HOUSE SILENT AFTER JOHN KERRY LAMENTS UKRAINE WAR\\'S CARBON EMISSIONSU.S. Special Presidential Envoy for Climate John Kerry meets with Chinese officials at the Great Hall of the People in Beijing on July 18, 2023. (Florence Lo / Pool / AFP via Getty Images)In May, two dozen Republicans signed a letter in which they called on President Biden and Agriculture Secretary Tom Vilsack to disavow Kerry\\'s comments, calling them a \"blatant slap in the face to the hardworking individuals that spend their lives sustainably producing our world’s food, fuel, and fiber.\"Overall, the global food system – which includes land-use change, actual agricultural production, packaging and waste management – generates about 18 billion tons of carbon dioxide per year, the equivalent of 34% of total worldwide emissions, according to a March 2021 study published in the Nature Food journal.In the U.S., though, agriculture generates about 10% of total greenhouse gas emissions, federal data showed.U.S. Special Presidential Envoy for Climate John Kerry testifies during a hearing before the House Foreign Affairs Oversight and Accountability Subcommittee in Washington, D.C., on July 13, 2023. CLICK HERE FOR THE FOX NEWS APPA State Department spokesperson responded to the criticism by saying Kerry is hoping to work with farmers to reduce their climate emissions.\"Secretary Kerry believes that addressing the climate crisis will require collaborating and partnering closely with America’s farmers – who are some of the most productive and efficient in the world and who are already facing the impacts of worsening extreme weather – by investing in technical and financial assistance, deploying innovative technologies, and expanding the reach of other tools that will help boost their resilience to climate impacts while reducing greenhouse gas pollution,\" the spokesperson said in a statement.\"During his remarks at the AIM for Climate summit, Secretary Kerry celebrated the progress made in supercharging global investments in climate-smart agricultural innovation, including unlocking $13 billion in funds to empower farmers and ranchers as they address the rising risks and costs posed by the climate crisis,\" the spokesperson wrote.Fox News\\' Thomas Catenacci contributed to this report.Andrew Mark Miller is a reporter at Fox News. Find him on Twitter @andymarkmiller and email tips to AndrewMark.Miller@Fox.com.Get the latest updates from the 2024 campaign trail, exclusive interviews and more Fox News politics content.SubscribedYou\\'ve successfully subscribed to this newsletter!', images=[Image(url='https://a57.foxnews.com/cf-images.us-east-1.prod.boltdns.net/v1/static/694940094001/4a86f3f6-71d0-4381-9aef-c5b6cd849d6d/483765e3-c365-4812-ac1f-ce2e3983fa9a/1280x720/match/896/500/image.jpg?ve=1&tl=1', image_type=<ImageType.main: 'main'>, caption='', alt_text='Kerry denies private jet trips, says family plane belonged to wife'), Image(url='https://a57.foxnews.com/static.foxnews.com/foxnews.com/content/uploads/2022/09/640/320/john-kerry.jpg?ve=1&tl=1', image_type=<ImageType.main: 'main'>, caption='', alt_text='John Kerry, US special presidential envoy for climate, speaks during a Bloomberg Television interview in Hanoi, Vietnam, on Monday, Sept. 5, 2022. Kerry is \"hopeful\" that climate talks with China will resume after discussions stalled following House Speaker\\xa0Nancy Pelosi\\'s visit to Taiwan last month. Photographer: Linh Pham/Bloomberg via Getty Images'), Image(url='https://a57.foxnews.com/static.foxnews.com/foxnews.com/content/uploads/2023/07/640/320/GettyImages-1539173715.jpg?ve=1&tl=1', image_type=<ImageType.main: 'main'>, caption='', alt_text=''), Image(url='https://a57.foxnews.com/static.foxnews.com/foxnews.com/content/uploads/2023/07/640/320/GettyImages-1532607793.jpg?ve=1&tl=1', image_type=<ImageType.main: 'main'>, caption='', alt_text='John Kerry'), Image(url='https://static.foxnews.com/foxnews.com/content/uploads/2022/11/NEWSLETTER_POLITICS-532x120.png', image_type=<ImageType.main: 'main'>, caption='', alt_text='Fox News First'), Image(url='https://a57.foxnews.com/static.foxnews.com/foxnews.com/content/uploads/2023/08/348/196/Jared-Polis.jpg?ve=1&tl=1', image_type=<ImageType.main: 'main'>, caption='', alt_text='Federal judge in Colorado blocks law raising age requirement for gun purchases'), Image(url='https://a57.foxnews.com/static.foxnews.com/foxnews.com/content/uploads/2023/07/348/196/4e93bf5d-10.jpg?ve=1&tl=1', image_type=<ImageType.main: 'main'>, caption='', alt_text='Pence announces he’s reached donor threshold to qualify for first Republican presidential debate'), Image(url='https://a57.foxnews.com/static.foxnews.com/foxnews.com/content/uploads/2023/07/348/196/Donald-Trump.jpg?ve=1&tl=1', image_type=<ImageType.main: 'main'>, caption='', alt_text='Trump’s attorneys argue for less restrictive rules over evidence in 2020 election case'), Image(url='https://a57.foxnews.com/static.foxnews.com/foxnews.com/content/uploads/2023/07/348/196/joe-hunter-biden-and-devon-archer.jpg?ve=1&tl=1', image_type=<ImageType.main: 'main'>, caption='', alt_text=\"Joe Biden letter to Devon Archer underscores his closeness to Hunter Biden's business activities\"), Image(url='https://static.foxnews.com/foxnews.com/content/uploads/2022/09/john-kerry.jpg', image_type=<ImageType.social: 'social'>, caption='', alt_text='')])"
      ]
     },
     "execution_count": 7,
     "metadata": {},
     "output_type": "execute_result"
    }
   ],
   "source": [
    "# Util Functions\n",
    "from newsfaces.extract_html import Extractor\n",
    "from newsfaces.utils import make_link_absolute\n",
    "from newsfaces.crawlers.crawler import Crawler, WaybackCrawler\n",
    "import json\n",
    "\n",
    "\n",
    "class Fox(WaybackCrawler):\n",
    "    def __init__(self):\n",
    "        super().__init__()\n",
    "        self.start_url = \"https://www.foxnews.com/politics\"\n",
    "        self.selector = [\"article\"]\n",
    "\n",
    "\n",
    "class Fox_API(Crawler):\n",
    "    def __init__(self):\n",
    "        super().__init__()\n",
    "    def crawl(self):\n",
    "        '''\n",
    "        run get_html with correct initial html from init\n",
    "        '''\n",
    "        return self.get_newslinks(self.start_url)\n",
    "\n",
    "    def get_newslinks(self, base_page, article=set(), video=set()):\n",
    "        \"\"\"\n",
    "        From an initial API query page, run through all possible\n",
    "        API queries-- putting articles and videos on the pages into\n",
    "        a set.\n",
    "\n",
    "        Returns:\n",
    "        Set of articles and videos\n",
    "        \"\"\"\n",
    "        response = self.http_get(base_page)\n",
    "        json_data = json.loads(response.text)\n",
    "        for i in json_data:\n",
    "            url = make_link_absolute(i[\"url\"], \"https://www.foxnews.com/politics\")\n",
    "            if url.startswith(\"https://www.foxnews.com/politics\"):\n",
    "                article.add(url)\n",
    "            else:\n",
    "                video.add(url)\n",
    "        begin = base_page.find(\"from\") + 5\n",
    "        end = base_page.find(\"&media\")\n",
    "        articlenumber = int(base_page[begin:end])\n",
    "        if articlenumber < 9970:\n",
    "            articlenumber += 30\n",
    "            articlenumber = str(articlenumber)\n",
    "            rev_basepage = (\n",
    "                base_page[0:begin]\n",
    "                + articlenumber\n",
    "                + base_page[end : (len(base_page) + 1)]\n",
    "            )\n",
    "            self.get_html(rev_basepage, article, video)\n",
    "        return article.union(video)\n",
    "\n",
    "\n",
    "class Fox_Extractor(Extractor):\n",
    "    def __init__(self):\n",
    "        super().__init__()\n",
    "        self.article_body = [\"div.article-content-wrap.sticky-columns\"]\n",
    "        self.img_p_selector = [\"div.m\"]\n",
    "        self.img_selector = [\"img\"]\n",
    "        self.head_img_div = [\"div.contain\"]\n",
    "        self.head_img_select = [\"img\"]\n",
    "        self.p_selector = [\"p\"]\n",
    "        self.t_selector = [\"h1\", \"h6\"]\n",
    "    def extract_head_img(self, html=\"\", img_p_selector=\"\", img_selector=\"\"):\n",
    "        return []\n",
    "a = Fox_Extractor()\n",
    "a.scrape(\"https://www.foxnews.com/politics/kerry-ripped-demanding-agriculture-emission-cuts-bankrupt-every-farmer\")"
   ]
  }
 ],
 "metadata": {
  "kernelspec": {
   "display_name": "beakers-wVt3Sn-3-py3.11",
   "language": "python",
   "name": "python3"
  },
  "language_info": {
   "codemirror_mode": {
    "name": "ipython",
    "version": 3
   },
   "file_extension": ".py",
   "mimetype": "text/x-python",
   "name": "python",
   "nbconvert_exporter": "python",
   "pygments_lexer": "ipython3",
   "version": "3.11.2"
  },
  "orig_nbformat": 4
 },
 "nbformat": 4,
 "nbformat_minor": 2
}

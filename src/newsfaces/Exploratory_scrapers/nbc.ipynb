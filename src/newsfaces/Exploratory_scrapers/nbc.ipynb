{
 "cells": [
  {
   "cell_type": "code",
   "execution_count": 2,
   "metadata": {},
   "outputs": [],
   "source": [
    "# Util Functions\n",
    "import time\n",
    "import requests\n",
    "from urllib.parse import urlparse\n",
    "import sys\n",
    "import json\n",
    "import lxml.html\n",
    "import csv\n",
    "from utils import make_request, parse_html, make_link_absolute, page_grab\n",
    "from utils import crawl_wayback, create_csv, get_urls"
   ]
  },
  {
   "cell_type": "code",
   "execution_count": 6,
   "metadata": {},
   "outputs": [
    {
     "name": "stdout",
     "output_type": "stream",
     "text": [
      "Fetching https://www.nbcnews.com/politics\n"
     ]
    },
    {
     "data": {
      "text/plain": [
       "['https://www.nbcnews.com/politics/joe-biden/prosecutors-accuse-hunter-bidens-attorneys-misleading-rcna100074',\n",
       " 'https://www.nbcnews.com/politics/donald-trump/mike-pence-says-georgia-election-was-not-stolen-rcna100179',\n",
       " 'https://www.nbcnews.com/politics/white-house/biden-delivers-remarks-anniversary-inflation-reduction-act-rcna100249',\n",
       " 'https://www.nbcnews.com/politics/congress/feds-indict-fundraiser-rep-george-santos-impersonate-mccarthy-aide-rcna100265',\n",
       " 'https://www.nbcnews.com/politics/2024-election/ron-desantis-security-tab-approached-10-million-prepped-presidential-r-rcna100211',\n",
       " 'https://www.nbcnews.com/politics/donald-trump/mark-meadows-seeks-move-fulton-county-case-federal-court-rcna100092',\n",
       " 'https://www.nbcnews.com/politics/donald-trump/fulton-county-da-proposes-march-4-trial-date-trump-co-defendants-rcna100271',\n",
       " 'https://www.nbcnews.com/politics/politics-news/officer-assigned-vp-harris-visit-falls-50-feet-seattle-highway-ramp-rcna100133',\n",
       " 'https://www.nbcnews.com/politics/white-house/joe-biden-will-travel-maui-deadly-hawaii-wildfires-rcna100175',\n",
       " 'https://www.nbcnews.com/politics/justice-department/woman-arrested-allegedly-threatening-federal-judge-trump-election-case-rcna100320',\n",
       " 'https://www.nbcnews.com/politics/politics-news/ban-gender-affirming-care-minors-takes-effect-north-carolina-rcna100323',\n",
       " 'https://www.nbcnews.com/politics/politics-news/appeals-court-upholds-restrictions-abortion-pill-access-rcna100255',\n",
       " 'https://www.nbcnews.com/politics/congress/congress-short-term-funding-bill-government-shutdown-rcna100182',\n",
       " 'https://www.nbcnews.com/politics/donald-trump/names-addresses-grand-jurors-georgia-trump-indictment-posted-online-rcna100239',\n",
       " 'https://www.nbcnews.com/politics/donald-trump/trump-co-defendants-expected-booked-fulton-county-jail-sheriff-says-rcna100157',\n",
       " 'https://www.nbcnews.com/politics/donald-trump/trump-arrest-debate-rcna100090',\n",
       " 'https://www.nbcnews.com/politics/donald-trump/gop-strategists-warn-trumps-post-indictment-political-resilience-falte-rcna100122',\n",
       " 'https://www.nbcnews.com/politics/politics-news/jan-6-rioter-stole-police-shield-kept-souvenir-sentenced-prison-rcna100317',\n",
       " 'https://www.nbcnews.com/politics/congress/sen-dianne-feinstein-sues-husbands-estate-claiming-financial-elder-abu-rcna100203',\n",
       " 'https://www.nbcnews.com/politics/justice-department/special-counsel-sought-trumps-tweets-direct-messages-search-warrant-rcna100114',\n",
       " 'https://www.nbcnews.com/politics/justice-department/republican-mayoral-nominee-connecticut-now-faces-jan-6-charges-rcna100029']"
      ]
     },
     "execution_count": 6,
     "metadata": {},
     "output_type": "execute_result"
    }
   ],
   "source": [
    "import re\n",
    "import requests\n",
    "\n",
    "url = \"https://www.nbcnews.com/politics\"\n",
    "\n",
    "\n",
    "def get_nbc(url, selector=None, session=None):\n",
    "    response = make_request(url, session=None)\n",
    "\n",
    "    # Retrieve the raw HTML content\n",
    "    html = response.text\n",
    "    # Define the pattern and delimiter\n",
    "    pattern = f'href=\"{url}'\n",
    "\n",
    "    delimiter = '\"'\n",
    "\n",
    "    # Find all matches of the pattern in the HTML content\n",
    "    matches = re.finditer(pattern, html)\n",
    "    article = set()\n",
    "    # Process each match\n",
    "    for match in matches:\n",
    "        start_index = match.end()\n",
    "        end_index = html.find(delimiter, start_index)\n",
    "        if end_index != -1:\n",
    "            content = html[start_index:end_index]\n",
    "            if re.search(r\".*/.*-.*-.*-\", content):\n",
    "                fullurl = url + content\n",
    "                article.add(fullurl)\n",
    "\n",
    "    return list(article)\n",
    "\n",
    "\n",
    "get_nbc(url)"
   ]
  },
  {
   "cell_type": "code",
   "execution_count": null,
   "metadata": {},
   "outputs": [],
   "source": [
    "\n"
   ]
  },
  {
   "cell_type": "code",
   "execution_count": 153,
   "metadata": {},
   "outputs": [
    {
     "name": "stdout",
     "output_type": "stream",
     "text": [
      "Fetching https://web.archive.org/web/20221226022655/https://www.nbcnews.com/politics\n",
      "Fetching https://web.archive.org/web/20221226055305/https://www.nbcnews.com/politics\n",
      "Fetching https://web.archive.org/web/20221226062329/https://www.nbcnews.com/politics\n",
      "Fetching https://web.archive.org/web/20221226064323/https://www.nbcnews.com/politics\n",
      "Fetching https://web.archive.org/web/20221226091848/https://www.nbcnews.com/politics\n",
      "Fetching https://web.archive.org/web/20221226103957/https://www.nbcnews.com/politics\n",
      "Fetching https://web.archive.org/web/20221226114220/http://nbcnews.com/politics\n",
      "Fetching https://web.archive.org/web/20221226120009/https://www.nbcnews.com/politics\n",
      "Fetching https://web.archive.org/web/20221226122112/https://www.nbcnews.com/politics\n",
      "Fetching https://web.archive.org/web/20221226134728/https://www.nbcnews.com/politics\n",
      "Fetching https://web.archive.org/web/20221226142440/https://www.nbcnews.com/politics\n",
      "Fetching https://web.archive.org/web/20221226144427/https://www.nbcnews.com/politics\n",
      "Fetching https://web.archive.org/web/20221226154155/https://www.nbcnews.com/politics\n",
      "Fetching https://web.archive.org/web/20221226200638/https://www.nbcnews.com/politics\n",
      "Fetching https://web.archive.org/web/20221226200709/https://www.nbcnews.com/politics\n",
      "Fetching https://web.archive.org/web/20221226200736/https://www.nbcnews.com/politics\n",
      "Fetching https://web.archive.org/web/20221227000350/https://www.nbcnews.com/politics\n",
      "Fetching https://web.archive.org/web/20221227003624/https://www.nbcnews.com/politics\n",
      "Fetching https://web.archive.org/web/20221227010229/https://www.nbcnews.com/politics\n",
      "Fetching https://web.archive.org/web/20221227024409/https://www.nbcnews.com/politics\n",
      "Fetching https://web.archive.org/web/20221227035433/https://www.nbcnews.com/politics\n",
      "Fetching https://web.archive.org/web/20221227055627/https://www.nbcnews.com/politics\n",
      "Fetching https://web.archive.org/web/20221227064604/https://www.nbcnews.com/politics\n",
      "Fetching https://web.archive.org/web/20221227070242/https://www.nbcnews.com/politics\n",
      "Fetching https://web.archive.org/web/20221227071208/https://www.nbcnews.com/politics\n",
      "Fetching https://web.archive.org/web/20221227091026/https://www.nbcnews.com/politics\n",
      "Fetching https://web.archive.org/web/20221227094820/https://www.nbcnews.com/politics\n",
      "Fetching https://web.archive.org/web/20221227105952/https://www.nbcnews.com/politics\n",
      "Fetching https://web.archive.org/web/20221227113733/https://www.nbcnews.com/politics\n",
      "Fetching https://web.archive.org/web/20221227114133/https://www.nbcnews.com/politics\n"
     ]
    }
   ],
   "source": [
    "articles = crawl_wayback(\"https://www.nbcnews.com/politics/\", 30, get_nbc, \"20221226\")\n",
    "create_csv(\n",
    "    articles,\n",
    "    \"Articles\",\n",
    "    \"nbc.csv\",\n",
    ")"
   ]
  },
  {
   "cell_type": "code",
   "execution_count": 149,
   "metadata": {},
   "outputs": [
    {
     "data": {
      "text/plain": [
       "{'https://www.nbcnews.com/politics/2022-election/arizona-judge-rejects-katie-hobbs-request-sanction-kari-lake-rcna63412',\n",
       " 'https://www.nbcnews.com/politics/2022-election/hobbs-seeks-sanctions-lake-election-suit-dismissed-rcna63274',\n",
       " 'https://www.nbcnews.com/politics/2022-election/seven-shocking-results-2022-midterm-elections-rcna61462',\n",
       " 'https://www.nbcnews.com/politics/congress/five-major-bills-congress-passed-2022-rcna61472',\n",
       " 'https://www.nbcnews.com/politics/congress/irs-went-easy-trump-taxes-accountants-report-rcna62991',\n",
       " 'https://www.nbcnews.com/politics/congress/jan-6-response-vastly-different-rioters-black-house-sergeant-arms-told-rcna63457',\n",
       " 'https://www.nbcnews.com/politics/congress/new-york-prosecutor-investigating-rep-elect-george-santos-campaign-rcna63542',\n",
       " 'https://www.nbcnews.com/politics/congress/rep-jamie-raskin-announces-diagnosed-cancer-rcna63548',\n",
       " 'https://www.nbcnews.com/politics/congress/tiktok-banned-house-issued-mobile-devices-rcna63403',\n",
       " 'https://www.nbcnews.com/politics/donald-trump/judge-says-trump-may-urging-protests-jan-6-rcna63538',\n",
       " 'https://www.nbcnews.com/politics/donald-trump/trump-tax-returns-released-public-friday-committee-says-rcna63392',\n",
       " 'https://www.nbcnews.com/politics/immigration/migrants-texas-harris-house-christmas-eve-rcna63204',\n",
       " 'https://www.nbcnews.com/politics/midterm-elections-2022',\n",
       " 'https://www.nbcnews.com/politics/politics-news/conservatives-look-curtail-ballot-measure-process-rcna62484',\n",
       " 'https://www.nbcnews.com/politics/politics-news/ny-rep-elect-santos-admits-lying-career-college-rcna63290',\n",
       " 'https://www.nbcnews.com/politics/supreme-court/conservative-supreme-court-looms-threat-biden-agenda-2023-rcna61467',\n",
       " 'https://www.nbcnews.com/politics/supreme-court/supreme-court-keeps-place-trump-era-immigration-policy-allowing-asylum-rcna62560'}"
      ]
     },
     "execution_count": 149,
     "metadata": {},
     "output_type": "execute_result"
    }
   ],
   "source": [
    "articles"
   ]
  }
 ],
 "metadata": {
  "kernelspec": {
   "display_name": "base",
   "language": "python",
   "name": "python3"
  },
  "language_info": {
   "codemirror_mode": {
    "name": "ipython",
    "version": 3
   },
   "file_extension": ".py",
   "mimetype": "text/x-python",
   "name": "python",
   "nbconvert_exporter": "python",
   "pygments_lexer": "ipython3",
   "version": "3.11.2"
  },
  "orig_nbformat": 4
 },
 "nbformat": 4,
 "nbformat_minor": 2
}

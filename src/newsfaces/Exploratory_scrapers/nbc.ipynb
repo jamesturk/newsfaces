{
 "cells": [
  {
   "cell_type": "code",
   "execution_count": 2,
   "metadata": {},
   "outputs": [],
   "source": [
    "# Util Functions\n",
    "import time\n",
    "import requests\n",
    "from urllib.parse import urlparse\n",
    "import sys\n",
    "import json\n",
    "import lxml.html\n",
    "import csv\n",
    "from utils import make_request, parse_html, make_link_absolute, page_grab\n",
    "from utils import crawl_wayback, create_csv, get_urls"
   ]
  },
  {
   "cell_type": "code",
   "execution_count": 7,
   "metadata": {},
   "outputs": [
    {
     "name": "stdout",
     "output_type": "stream",
     "text": [
      "Fetching https://www.nbcnews.com/politics\n"
     ]
    },
    {
     "data": {
      "text/plain": [
       "['https://www.nbcnews.com/politics/donald-trump/trump-scraps-plans-releasing-report-georgia-election-rcna100515',\n",
       " 'https://www.nbcnews.com/politics/elections/north-carolina-republicans-finalize-passage-elections-bill-withstand-v-rcna100376',\n",
       " 'https://www.nbcnews.com/politics/2024-election/hunter-bidens-growing-legal-woes-throw-new-wrench-2024-election-rcna99534',\n",
       " 'https://www.nbcnews.com/politics/2024-election/conservatives-voter-fraud-hunting-tool-eagleai-cleta-mitchell-rcna97327',\n",
       " 'https://www.nbcnews.com/politics/national-security/north-korean-missile-capable-striking-us-likely-cooperation-russia-rcna100450',\n",
       " 'https://www.nbcnews.com/politics/congress/sinema-seeks-compromise-tuberville-biden-abortion-policy-military-hold-rcna100388',\n",
       " 'https://www.nbcnews.com/politics/immigration/trump-officials-idea-rio-grande-buoys-texas-blocks-migrant-border-rcna100245',\n",
       " 'https://www.nbcnews.com/politics/donald-trump/trump-lawyers-face-jack-smiths-prosecutors-discovery-rules-rcna99070',\n",
       " 'https://www.nbcnews.com/politics/justice-department/woman-arrested-allegedly-threatening-federal-judge-trump-election-case-rcna100320',\n",
       " 'https://www.nbcnews.com/politics/politics-news/ban-gender-affirming-care-minors-takes-effect-north-carolina-rcna100323',\n",
       " 'https://www.nbcnews.com/politics/white-house/white-house-lawyer-advised-biden-pandemic-gop-investigations-set-leave-rcna100429',\n",
       " 'https://www.nbcnews.com/politics/donald-trump/names-addresses-grand-jurors-georgia-trump-indictment-posted-online-rcna100239',\n",
       " 'https://www.nbcnews.com/politics/joe-biden/hunter-biden-misdemeanor-tax-charges-are-dismissed-now-rcna100527',\n",
       " 'https://www.nbcnews.com/politics/2024-election/desantis-debate-memo-urges-defend-trump-attack-ramaswamy-rcna100414',\n",
       " 'https://www.nbcnews.com/politics/2024-election/jon-tester-faces-another-tough-senate-campaign-montana-gop-braces-poss-rcna100083',\n",
       " 'https://www.nbcnews.com/politics/donald-trump/trump-lawyers-seeks-delay-federal-election-trial-2026-rcna100062',\n",
       " 'https://www.nbcnews.com/politics/justice-department/fbi-arrests-jan-6-rioter-confessed-front-courthouse-rcna100455',\n",
       " 'https://www.nbcnews.com/politics/2024-election/trump-biden-republican-debate-rcna100289',\n",
       " 'https://www.nbcnews.com/politics/politics-news/jan-6-rioter-stole-police-shield-kept-souvenir-sentenced-prison-rcna100317',\n",
       " 'https://www.nbcnews.com/politics/politics-news/jeffrey-clark-seeks-pause-disciplinary-case-due-georgia-indictment-rcna100502',\n",
       " 'https://www.nbcnews.com/politics/donald-trump/canadian-woman-sent-poison-laced-letter-trump-sentenced-21-years-rcna100458',\n",
       " 'https://www.nbcnews.com/politics/justice-department/special-counsel-sought-trumps-tweets-direct-messages-search-warrant-rcna100114']"
      ]
     },
     "execution_count": 7,
     "metadata": {},
     "output_type": "execute_result"
    }
   ],
   "source": [
    "import re\n",
    "import requests\n",
    "\n",
    "url = \"https://www.nbcnews.com/politics\"\n",
    "\n",
    "\n",
    "def get_nbc(url, selector=None, session=None):\n",
    "    response = make_request(url, session=None)\n",
    "\n",
    "    # Retrieve the raw HTML content\n",
    "    html = response.text\n",
    "    # Define the pattern and delimiter\n",
    "    pattern = f'href=\"{url}'\n",
    "\n",
    "    delimiter = '\"'\n",
    "\n",
    "    # Find all matches of the pattern in the HTML content\n",
    "    matches = re.finditer(pattern, html)\n",
    "    article = set()\n",
    "    # Process each match\n",
    "    for match in matches:\n",
    "        start_index = match.end()\n",
    "        end_index = html.find(delimiter, start_index)\n",
    "        if end_index != -1:\n",
    "            content = html[start_index:end_index]\n",
    "            if re.search(r\".*/.*-.*-.*-\", content):\n",
    "                fullurl = url + content\n",
    "                article.add(fullurl)\n",
    "\n",
    "    return list(article)\n",
    "\n",
    "\n",
    "get_nbc(url)"
   ]
  },
  {
   "cell_type": "code",
   "execution_count": null,
   "metadata": {},
   "outputs": [],
   "source": [
    "\n"
   ]
  },
  {
   "cell_type": "code",
   "execution_count": 9,
   "metadata": {},
   "outputs": [
    {
     "name": "stdout",
     "output_type": "stream",
     "text": [
      "Fetching https://web.archive.org/web/20221226022655/https://www.nbcnews.com/politics\n",
      "Fetching https://web.archive.org/web/20221226055305/https://www.nbcnews.com/politics\n",
      "Fetching https://web.archive.org/web/20221226062329/https://www.nbcnews.com/politics\n",
      "Fetching https://web.archive.org/web/20221226064323/https://www.nbcnews.com/politics\n",
      "Fetching https://web.archive.org/web/20221226091848/https://www.nbcnews.com/politics\n",
      "Fetching https://web.archive.org/web/20221226103957/https://www.nbcnews.com/politics\n",
      "Fetching https://web.archive.org/web/20221226114220/http://nbcnews.com/politics\n",
      "Fetching https://web.archive.org/web/20221226120009/https://www.nbcnews.com/politics\n",
      "Fetching https://web.archive.org/web/20221226122112/https://www.nbcnews.com/politics\n",
      "Fetching https://web.archive.org/web/20221226134728/https://www.nbcnews.com/politics\n"
     ]
    }
   ],
   "source": [
    "articles = crawl_wayback(\"https://www.nbcnews.com/politics/\", 10, get_nbc, \"20221226\")\n",
    "create_csv(\n",
    "    articles,\n",
    "    \"Articles\",\n",
    "    \"nbc.csv\",\n",
    ")"
   ]
  },
  {
   "cell_type": "code",
   "execution_count": 10,
   "metadata": {},
   "outputs": [
    {
     "data": {
      "text/plain": [
       "{'https://www.nbcnews.com/politics/congress/cassidy-hutchinson-knew-was-going-nuked-turning-trump-anyway-rcna62981',\n",
       " 'https://www.nbcnews.com/politics/congress/five-major-bills-congress-passed-2022-rcna61472',\n",
       " 'https://www.nbcnews.com/politics/congress/house-passes-17-trillion-spending-bill-rewrites-us-election-law-sendin-rcna62608',\n",
       " 'https://www.nbcnews.com/politics/congress/house-passes-bill-protect-sex-marriage-sending-bidens-desk-rcna60128',\n",
       " 'https://www.nbcnews.com/politics/congress/irs-went-easy-trump-taxes-accountants-report-rcna62991',\n",
       " 'https://www.nbcnews.com/politics/congress/jan-6-committee-unveils-final-report-capping-18-month-probe-rcna62629',\n",
       " 'https://www.nbcnews.com/politics/congress/live-blog/jan-6-committee-final-report-live-updates-rcna62676',\n",
       " 'https://www.nbcnews.com/politics/congress/mcconnell-calls-diminished-trump-vows-not-bow-candidates-2024-rcna62870',\n",
       " 'https://www.nbcnews.com/politics/congress/mcconnell-touts-gop-wins-filibuster-military-spending-rcna62973',\n",
       " 'https://www.nbcnews.com/politics/congress/read-full-jan-6-committee-report-detailing-investigation-capitol-attac-rcna63065',\n",
       " 'https://www.nbcnews.com/politics/congress/senate-passes-17-trillion-government-funding-bill-overhauls-us-electio-rcna62607',\n",
       " 'https://www.nbcnews.com/politics/immigration/migrants-texas-harris-house-christmas-eve-rcna63204',\n",
       " 'https://www.nbcnews.com/politics/justice-department/intel-community-escapes-major-criticism-jan-6-committee-missing-forese-rcna62628',\n",
       " 'https://www.nbcnews.com/politics/justice-department/jan-6-participant-arrested-hours-long-standoff-fbi-rcna63035',\n",
       " 'https://www.nbcnews.com/politics/politics-news/abortion-rights-groups-look-new-ballot-measures-2023-2024-rcna61317',\n",
       " 'https://www.nbcnews.com/politics/politics-news/conservatives-look-curtail-ballot-measure-process-rcna62484'}"
      ]
     },
     "execution_count": 10,
     "metadata": {},
     "output_type": "execute_result"
    }
   ],
   "source": [
    "articles"
   ]
  }
 ],
 "metadata": {
  "kernelspec": {
   "display_name": "base",
   "language": "python",
   "name": "python3"
  },
  "language_info": {
   "codemirror_mode": {
    "name": "ipython",
    "version": 3
   },
   "file_extension": ".py",
   "mimetype": "text/x-python",
   "name": "python",
   "nbconvert_exporter": "python",
   "pygments_lexer": "ipython3",
   "version": "3.11.2"
  },
  "orig_nbformat": 4
 },
 "nbformat": 4,
 "nbformat_minor": 2
}

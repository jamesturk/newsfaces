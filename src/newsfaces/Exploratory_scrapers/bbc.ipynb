{
 "cells": [
  {
   "cell_type": "code",
   "execution_count": 1,
   "metadata": {},
   "outputs": [],
   "source": [
    "import time\n",
    "import requests\n",
    "from urllib.parse import urlparse\n",
    "import sys\n",
    "import json\n",
    "import lxml.html\n",
    "import csv\n",
    "from utils import make_request, parse_html, make_link_absolute, page_grab"
   ]
  },
  {
   "cell_type": "code",
   "execution_count": 52,
   "metadata": {},
   "outputs": [
    {
     "name": "stdout",
     "output_type": "stream",
     "text": [
      "Fetching https://www.bbc.com/news/topics/cwnpxwzd269t?page=41\n",
      "{'https://www.bbc.com/news/world-us-canada-34006916', 'https://www.bbc.com/news/world-us-canada-50509793', 'https://www.bbc.com/news/live/world-us-canada-50505709', 'https://www.bbc.com/news/world-us-canada-50408245', 'https://www.bbc.com/news/world-us-canada-50412128', 'https://www.bbc.com/news/world-us-canada-50408246', 'https://www.bbc.com/news/world-us-canada-50423763', 'https://www.bbc.com/news/world-us-canada-50438196', 'https://www.bbc.com/news/live/world-us-canada-50399361', 'https://www.bbc.com/news/world-us-canada-50424392', 'https://www.bbc.com/news/world-us-canada-50438341', 'https://www.bbc.com/news/world-us-canada-50497635', 'https://www.bbc.com/news/world-us-canada-50471352', 'https://www.bbc.com/news/world-us-canada-50399230', 'https://www.bbc.com/news/world-us-canada-50408243', 'https://www.bbc.com/news/world-us-canada-50408244', 'https://www.bbc.com/news/world-us-canada-50481877', 'https://www.bbc.com/news/world-us-canada-50450349', 'https://www.bbc.com/news/world-us-canada-50463702', 'https://www.bbc.com/news/world-us-canada-50417641', 'https://www.bbc.com/news/world-us-canada-50395008', 'https://www.bbc.com/news/live/world-us-canada-50427731', 'https://www.bbc.com/news/world-us-canada-50355567'}\n"
     ]
    }
   ],
   "source": [
    "def get_urls(url, articles=set(), videos=set()):\n",
    "    \"\"\"\n",
    "    This function takes a URLs and returns lists of URLs\n",
    "    for containing each article and video on that page.\n",
    "\n",
    "    Parameters:\n",
    "        * url:  a URL to a page of articles\n",
    "\n",
    "    Returns:\n",
    "        A list of URLs to each video and article on that page.\n",
    "    \"\"\"\n",
    "    response = page_grab(url)\n",
    "    urls = []\n",
    "    #'[class^=\"ssrcs\"]'\n",
    "    container = response.cssselect('div')\n",
    "    filtered_container = [elem for elem in container if elem.get(\"type\") is not None]\n",
    "\n",
    "    for j in container:\n",
    "        # find video/article\n",
    "        type = j.get(\"type\")\n",
    "        # find link\n",
    "        if type == \"article\" or type == \"video\":\n",
    "            a = j[0].cssselect(\"a\")\n",
    "            href = a[0].get(\"href\")\n",
    "            href = make_link_absolute(href, \"https://www.bbc.com\")\n",
    "        if type == \"article\":\n",
    "            articles.add(href)\n",
    "        elif type == \"video\":\n",
    "            videos.add(href)\n",
    "    return articles.union(videos)\n",
    "\n",
    "\n",
    "a= get_urls(\"https://www.bbc.com/news/topics/cwnpxwzd269t?page=41\")\n",
    "print(a)\n",
    "\n",
    "def recurse_bbc(url, articles=set(), videos=set()):\n",
    "    '''\n",
    "    Takes an initial url and runs get_urls on all possible\n",
    "    API queries. Gathering all possible articles and videos\n",
    "    from the API into a set. \n",
    "    '''\n",
    "    article, video = get_urls(url)\n",
    "    articles = articles.union(article)\n",
    "    videos = videos.union(video)\n",
    "    begin = url.find(\"page=\") + 5\n",
    "    pagenumber = int(url[begin : len(url)])\n",
    "    if pagenumber < 42:\n",
    "        newlink = url[: -len(str(pagenumber))] + str(pagenumber + 1)\n",
    "        articles, videos = recurse_bbc(newlink, articles, videos)\n",
    "    return articles, videos"
   ]
  },
  {
   "cell_type": "code",
   "execution_count": 48,
   "metadata": {},
   "outputs": [],
   "source": [
    "# save as csv\n",
    "def create_csv(articles, videos, filename):\n",
    "    '''\n",
    "    Takes two sets of video and article urls and \n",
    "    puts them into a csv.\n",
    "    '''\n",
    "    with open(filename, \"w\", newline=\"\") as csvfile:\n",
    "        writer = csv.writer(csvfile)\n",
    "        writer.writerow([\"Articles\", \"Video\"])\n",
    "        max_length = max(len(articles), len(videos))\n",
    "        for i in range(max_length):\n",
    "            row = [\n",
    "                list(articles)[i] if i < len(articles) else \"\",\n",
    "                list(videos)[i] if i < len(videos) else \"\",\n",
    "            ]\n",
    "            writer.writerow(row)"
   ]
  },
  {
   "cell_type": "code",
   "execution_count": 49,
   "metadata": {},
   "outputs": [
    {
     "name": "stdout",
     "output_type": "stream",
     "text": [
      "Fetching https://www.bbc.com/news/topics/cwnpxwzd269t?page=1\n",
      "Fetching https://www.bbc.com/news/topics/cwnpxwzd269t?page=2\n",
      "Fetching https://www.bbc.com/news/topics/cwnpxwzd269t?page=3\n",
      "Fetching https://www.bbc.com/news/topics/cwnpxwzd269t?page=4\n",
      "Fetching https://www.bbc.com/news/topics/cwnpxwzd269t?page=5\n",
      "Fetching https://www.bbc.com/news/topics/cwnpxwzd269t?page=6\n",
      "Fetching https://www.bbc.com/news/topics/cwnpxwzd269t?page=7\n",
      "Fetching https://www.bbc.com/news/topics/cwnpxwzd269t?page=8\n",
      "Fetching https://www.bbc.com/news/topics/cwnpxwzd269t?page=9\n",
      "Fetching https://www.bbc.com/news/topics/cwnpxwzd269t?page=10\n",
      "Fetching https://www.bbc.com/news/topics/cwnpxwzd269t?page=11\n",
      "Fetching https://www.bbc.com/news/topics/cwnpxwzd269t?page=12\n",
      "Fetching https://www.bbc.com/news/topics/cwnpxwzd269t?page=13\n",
      "Fetching https://www.bbc.com/news/topics/cwnpxwzd269t?page=14\n",
      "Fetching https://www.bbc.com/news/topics/cwnpxwzd269t?page=15\n",
      "Fetching https://www.bbc.com/news/topics/cwnpxwzd269t?page=16\n",
      "Fetching https://www.bbc.com/news/topics/cwnpxwzd269t?page=17\n",
      "Fetching https://www.bbc.com/news/topics/cwnpxwzd269t?page=18\n",
      "Fetching https://www.bbc.com/news/topics/cwnpxwzd269t?page=19\n",
      "Fetching https://www.bbc.com/news/topics/cwnpxwzd269t?page=20\n",
      "Fetching https://www.bbc.com/news/topics/cwnpxwzd269t?page=21\n",
      "Fetching https://www.bbc.com/news/topics/cwnpxwzd269t?page=22\n",
      "Fetching https://www.bbc.com/news/topics/cwnpxwzd269t?page=23\n",
      "Fetching https://www.bbc.com/news/topics/cwnpxwzd269t?page=24\n",
      "Fetching https://www.bbc.com/news/topics/cwnpxwzd269t?page=25\n",
      "Fetching https://www.bbc.com/news/topics/cwnpxwzd269t?page=26\n",
      "Fetching https://www.bbc.com/news/topics/cwnpxwzd269t?page=27\n",
      "Fetching https://www.bbc.com/news/topics/cwnpxwzd269t?page=28\n",
      "Fetching https://www.bbc.com/news/topics/cwnpxwzd269t?page=29\n",
      "Fetching https://www.bbc.com/news/topics/cwnpxwzd269t?page=30\n",
      "Fetching https://www.bbc.com/news/topics/cwnpxwzd269t?page=31\n",
      "Fetching https://www.bbc.com/news/topics/cwnpxwzd269t?page=32\n",
      "Fetching https://www.bbc.com/news/topics/cwnpxwzd269t?page=33\n",
      "Fetching https://www.bbc.com/news/topics/cwnpxwzd269t?page=34\n",
      "Fetching https://www.bbc.com/news/topics/cwnpxwzd269t?page=35\n",
      "Fetching https://www.bbc.com/news/topics/cwnpxwzd269t?page=36\n",
      "Fetching https://www.bbc.com/news/topics/cwnpxwzd269t?page=37\n",
      "Fetching https://www.bbc.com/news/topics/cwnpxwzd269t?page=38\n",
      "Fetching https://www.bbc.com/news/topics/cwnpxwzd269t?page=39\n",
      "Fetching https://www.bbc.com/news/topics/cwnpxwzd269t?page=40\n",
      "Fetching https://www.bbc.com/news/topics/cwnpxwzd269t?page=41\n",
      "Fetching https://www.bbc.com/news/topics/cwnpxwzd269t?page=42\n"
     ]
    }
   ],
   "source": [
    "# Calling the function to create the CSV file\n",
    "articles, videos = recurse_bbc(\"https://www.bbc.com/news/topics/cwnpxwzd269t?page=1\")\n",
    "create_csv(articles, videos, \"bbc_articles.csv\")"
   ]
  }
 ],
 "metadata": {
  "kernelspec": {
   "display_name": "base",
   "language": "python",
   "name": "python3"
  },
  "language_info": {
   "codemirror_mode": {
    "name": "ipython",
    "version": 3
   },
   "file_extension": ".py",
   "mimetype": "text/x-python",
   "name": "python",
   "nbconvert_exporter": "python",
   "pygments_lexer": "ipython3",
   "version": "3.10.10"
  },
  "orig_nbformat": 4
 },
 "nbformat": 4,
 "nbformat_minor": 2
}

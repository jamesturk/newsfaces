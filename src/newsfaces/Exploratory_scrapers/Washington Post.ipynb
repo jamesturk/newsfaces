{
 "cells": [
  {
   "cell_type": "code",
   "execution_count": 25,
   "metadata": {},
   "outputs": [],
   "source": [
    "#Util Functions\n",
    "from urllib.parse import urlparse\n",
    "import json\n",
    "from utils import make_request,  make_link_absolute\n"
   ]
  },
  {
   "cell_type": "code",
   "execution_count": 29,
   "metadata": {},
   "outputs": [
    {
     "name": "stdout",
     "output_type": "stream",
     "text": [
      "Fetching https://www.washingtonpost.com/prism/api/prism-query?_website=washpost&query=%7B%22query%22%3A%22prism%3A%2F%2Fprism.query%2Fsite-articles-only%2C%2Fpolitics%26offset%3D9900%26limit%3D30%22%7D\n",
      "https://www.washingtonpost.com/prism/api/prism-query?_website=washpost&query=%7B%22query%22%3A%22prism%3A%2F%2Fprism.query%2Fsite-articles-only%2C%2Fpolitics%26offset%3D9900%26limit%3D30%22%7D\n",
      "Fetching https://www.washingtonpost.com/prism/api/prism-query?_website=washpost&query=%7B%22query%22%3A%22prism%3A%2F%2Fprism.query%2Fsite-articles-only%2C%2Fpolitics%26offset%3D9930%26limit%3D30%22%7D\n",
      "https://www.washingtonpost.com/prism/api/prism-query?_website=washpost&query=%7B%22query%22%3A%22prism%3A%2F%2Fprism.query%2Fsite-articles-only%2C%2Fpolitics%26offset%3D9930%26limit%3D30%22%7D\n",
      "Fetching https://www.washingtonpost.com/prism/api/prism-query?_website=washpost&query=%7B%22query%22%3A%22prism%3A%2F%2Fprism.query%2Fsite-articles-only%2C%2Fpolitics%26offset%3D9960%26limit%3D30%22%7D\n",
      "https://www.washingtonpost.com/prism/api/prism-query?_website=washpost&query=%7B%22query%22%3A%22prism%3A%2F%2Fprism.query%2Fsite-articles-only%2C%2Fpolitics%26offset%3D9960%26limit%3D30%22%7D\n"
     ]
    }
   ],
   "source": [
    "def crawl_washpost(base_page, article=set(), video=set()):\n",
    "    \"\"\"\n",
    "    From an initial API query page, run through all possible\n",
    "    API queries-- putting articles on the pages into\n",
    "    a set.\n",
    "\n",
    "    Returns:\n",
    "    Set of articles \n",
    "    \"\"\"\n",
    "    response = make_request(base_page)\n",
    "    json_data = json.loads(response.text)\n",
    "    for i in range(len(json_data)):\n",
    "        url_text=json_data[\"items\"][i]['canonical_url']\n",
    "        url = make_link_absolute(url_text, \"https://www.washingtonpost.com/politics\")\n",
    "        if url.startswith(\"https://www.washingtonpost.com/politics\"):\n",
    "            article.add(url)\n",
    "        else:\n",
    "            video.add(url)\n",
    "    print(base_page)\n",
    "    begin = base_page.find(\"offset\") + 9\n",
    "    end = base_page.find(\"%26limit\")\n",
    "    try:\n",
    "        articlenumber = int(base_page[begin:end])\n",
    "    except ValueError:\n",
    "        articlenumber = 10000\n",
    "    if articlenumber < 9960:\n",
    "        articlenumber += 30\n",
    "        articlenumber = str(articlenumber)\n",
    "        rev_basepage = (\n",
    "            base_page[0:begin] + articlenumber + base_page[end : (len(base_page) + 1)]\n",
    "        )\n",
    "        article, video = crawl_washpost(rev_basepage, article, video)\n",
    "    return article, video\n",
    "url= 'https://www.washingtonpost.com/prism/api/prism-query?_website=washpost&query=%7B%22query%22%3A%22prism%3A%2F%2Fprism.query%2Fsite-articles-only%2C%2Fpolitics%26offset%3D9900%26limit%3D30%22%7D'\n",
    "a=crawl_washpost(url, article=set(), video=set())"
   ]
  },
  {
   "cell_type": "code",
   "execution_count": null,
   "metadata": {},
   "outputs": [],
   "source": []
  }
 ],
 "metadata": {
  "kernelspec": {
   "display_name": "base",
   "language": "python",
   "name": "python3"
  },
  "language_info": {
   "codemirror_mode": {
    "name": "ipython",
    "version": 3
   },
   "file_extension": ".py",
   "mimetype": "text/x-python",
   "name": "python",
   "nbconvert_exporter": "python",
   "pygments_lexer": "ipython3",
   "version": "3.10.10"
  },
  "orig_nbformat": 4
 },
 "nbformat": 4,
 "nbformat_minor": 2
}

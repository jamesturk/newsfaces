{
 "cells": [
  {
   "cell_type": "code",
   "execution_count": null,
   "metadata": {},
   "outputs": [
    {
     "ename": "",
     "evalue": "",
     "output_type": "error",
     "traceback": [
      "\u001b[1;31mThe kernel failed to start due to the missing module 'prompt_toolkit.formatted_text'. Consider installing this module.\n",
      "\u001b[1;31mClick <a href='https://aka.ms/kernelFailuresMissingModule'>here</a> for more info."
     ]
    }
   ],
   "source": [
    "#Util Functions\n",
    "import time\n",
    "import requests\n",
    "from urllib.parse import urlparse\n",
    "import sys\n",
    "import json\n",
    "import lxml.html\n",
    "import csv\n",
    "\n",
    "REQUEST_DELAY = 0.5\n",
    "\n",
    "\n",
    "def make_request(url):\n",
    "    \"\"\"\n",
    "    Make a request to `url` and return the raw response.\n",
    "\n",
    "    This function ensure that the domain matches what is expected and that the rate limit\n",
    "    is obeyed.\n",
    "    \"\"\"\n",
    "    # check if URL starts with an allowed domain name\n",
    "    time.sleep(REQUEST_DELAY)\n",
    "    print(f\"Fetching {url}\")\n",
    "    resp = requests.get(url)\n",
    "    return resp\n",
    "\n",
    "def parse_html(html):\n",
    "    \"\"\"\n",
    "    Parse HTML and return the root node.\n",
    "    \"\"\"\n",
    "    return lxml.html.fromstring(html)\n",
    "\n",
    "def make_link_absolute(rel_url, current_url):\n",
    "    \"\"\"\n",
    "    Given a relative URL like \"/abc/def\" or \"?page=2\"\n",
    "    and a complete URL like \"https://example.com/1/2/3\" this function will\n",
    "    combine the two yielding a URL like \"https://example.com/abc/def\"\n",
    "\n",
    "    Parameters:\n",
    "        * rel_url:      a URL or fragment\n",
    "        * current_url:  a complete URL used to make the request that contained a link to rel_url\n",
    "\n",
    "    Returns:\n",
    "        A full URL with protocol & domain that refers to rel_url.\n",
    "    \"\"\"\n",
    "    url = urlparse(current_url)\n",
    "    if rel_url.startswith(\"/\"):\n",
    "        return f\"{url.scheme}://{url.netloc}{rel_url}\"\n",
    "    elif rel_url.startswith(\"?\"):\n",
    "        return f\"{url.scheme}://{url.netloc}{url.path}{rel_url}\"\n",
    "    else:\n",
    "        return rel_url"
   ]
  },
  {
   "cell_type": "code",
   "execution_count": null,
   "metadata": {},
   "outputs": [
    {
     "ename": "",
     "evalue": "",
     "output_type": "error",
     "traceback": [
      "\u001b[1;31mThe kernel failed to start due to the missing module 'prompt_toolkit.formatted_text'. Consider installing this module.\n",
      "\u001b[1;31mClick <a href='https://aka.ms/kernelFailuresMissingModule'>here</a> for more info."
     ]
    }
   ],
   "source": [
    "def page_grab(url):\n",
    "    urls = []\n",
    "    response = make_request(url)\n",
    "    root = parse_html(response.text)\n",
    "    return (root ,url)\n"
   ]
  },
  {
   "cell_type": "code",
   "execution_count": null,
   "metadata": {},
   "outputs": [
    {
     "ename": "",
     "evalue": "",
     "output_type": "error",
     "traceback": [
      "\u001b[1;31mThe kernel failed to start due to the missing module 'prompt_toolkit.formatted_text'. Consider installing this module.\n",
      "\u001b[1;31mClick <a href='https://aka.ms/kernelFailuresMissingModule'>here</a> for more info."
     ]
    }
   ],
   "source": [
    "#Institute for Fox News\n",
    "\n",
    "def crawl_fox(base_page, article=set(),video=set()):\n",
    "    response= page_grab(base_page)\n",
    "    json_data = json.loads(response[0].text)\n",
    "    json_data\n",
    "    for i in json_data:\n",
    "        url= make_link_absolute(i['url'], \"https://www.foxnews.com/politics\")\n",
    "        if url.startswith(\"https://www.foxnews.com/politics\"):\n",
    "            article.add(url)\n",
    "        else:\n",
    "            video.add(url)\n",
    "    begin=base_page.find(\"from\")+5\n",
    "    end=base_page.find(\"&media\")\n",
    "    articlenumber= int(base_page[begin:end])\n",
    "    if articlenumber <9970:\n",
    "        articlenumber+= 30\n",
    "        articlenumber=str(articlenumber)\n",
    "        rev_basepage=base_page[0:begin]+articlenumber+base_page[end:(len(base_page)+1)]\n",
    "        crawl_fox(rev_basepage, article,video)\n",
    "    return article, video\n",
    "\n",
    "\n",
    "\n",
    "article, video = crawl_fox(\"https://www.foxnews.com/api/article-search?searchBy=categories&values=fox-news%2Fpolitics&size=30&from=15&mediaTags=primary_politics\")\n",
    "\n",
    "article, video\n",
    "\n"
   ]
  },
  {
   "cell_type": "code",
   "execution_count": null,
   "metadata": {},
   "outputs": [
    {
     "ename": "",
     "evalue": "",
     "output_type": "error",
     "traceback": [
      "\u001b[1;31mThe kernel failed to start due to the missing module 'prompt_toolkit.formatted_text'. Consider installing this module.\n",
      "\u001b[1;31mClick <a href='https://aka.ms/kernelFailuresMissingModule'>here</a> for more info."
     ]
    }
   ],
   "source": [
    "#save data via json\n",
    "json_data = (json.dumps(list(article)))\n",
    "json_data\n",
    "\n",
    "#save as csv\n",
    "def create_csv(set1, set2, filename):\n",
    "    with open(filename, 'w', newline='') as csvfile:\n",
    "        writer = csv.writer(csvfile)\n",
    "        writer.writerow(['Articles', 'Video'])\n",
    "        max_length = max(len(set1), len(set2))\n",
    "        for i in range(max_length):\n",
    "            row = [list(set1)[i] if i < len(set1) else '', list(set2)[i] if i < len(set2) else '']\n",
    "            writer.writerow(row)\n",
    "\n",
    "# Calling the function to create the CSV file\n",
    "create_csv(article, video, 'fox_articles.csv')\n",
    "\n"
   ]
  }
 ],
 "metadata": {
  "kernelspec": {
   "display_name": "Python 3",
   "language": "python",
   "name": "python3"
  },
  "language_info": {
   "codemirror_mode": {
    "name": "ipython",
    "version": 3
   },
   "file_extension": ".py",
   "mimetype": "text/x-python",
   "name": "python",
   "nbconvert_exporter": "python",
   "pygments_lexer": "ipython3",
   "version": "3.11.2"
  },
  "orig_nbformat": 4
 },
 "nbformat": 4,
 "nbformat_minor": 2
}

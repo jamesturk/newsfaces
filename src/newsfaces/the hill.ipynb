{
 "cells": [
  {
   "cell_type": "code",
   "execution_count": 5,
   "metadata": {},
   "outputs": [],
   "source": [
    "#Util Functions\n",
    "import time\n",
    "import requests\n",
    "from urllib.parse import urlparse\n",
    "import sys\n",
    "import json\n",
    "import lxml.html\n",
    "import csv\n",
    "from utils import make_request, parse_html, make_link_absolute, page_grab "
   ]
  },
  {
   "cell_type": "code",
   "execution_count": 6,
   "metadata": {},
   "outputs": [
    {
     "name": "stdout",
     "output_type": "stream",
     "text": [
      "Fetching https://thehill.com/policy/?page_num=1064\n"
     ]
    },
    {
     "data": {
      "text/plain": [
       "['',\n",
       " 'https://thehill.com/homenews/administration/449599-border-patrol-chief-extremely-offended-by-ocasio-cortezs/',\n",
       " 'https://thehill.com/policy/healthcare/449584-democrat-trump-nominee-have-fiery-exchange-over-abortion-rights-for-rape/',\n",
       " 'https://thehill.com/blogs/blog-briefing-room/news/449582-canada-resettled-more-refugees-than-us-last-year-in-first-since/',\n",
       " 'https://thehill.com/homenews/state-watch/449583-oregon-gov-allows-state-police-to-bring-republican-lawmakers-back-to/',\n",
       " 'https://thehill.com/homenews/administration/449572-trump-displays-model-air-force-one-during-meeting-with-trudeau/',\n",
       " 'https://thehill.com/homenews/state-watch/449552-republican-lawmakers-leave-oregon-to-avoid-voting-on-high-profile-climate/',\n",
       " 'https://thehill.com/homenews/senate/449511-senate-votes-to-block-trumps-saudi-arms-sale/',\n",
       " 'https://thehill.com/policy/technology/449517-slack-to-use-uncommon-ipo-method-report/',\n",
       " 'https://thehill.com/homenews/house/449512-judiciary-chair-hicks-broke-with-trump-on-accepting-foreign-dirt-on-opponents/',\n",
       " 'https://thehill.com/homenews/administration/449503-trump-says-iran-made-a-big-mistake-after-drone-shot-down/',\n",
       " 'https://thehill.com/policy/healthcare/449474-researchers-say-shifting-body-posture-due-to-phone-use-is-causing-hornlike/',\n",
       " 'https://thehill.com/policy/defense/449459-iran-shoots-down-us-drone/',\n",
       " 'https://thehill.com/policy/defense/449444-va-chief-pressed-on-efforts-to-prevent-veteran-suicides/',\n",
       " 'https://thehill.com/policy/technology/overnights/449409-hillicon-valley-senate-banking-committee-calls-hearing-on/',\n",
       " 'https://thehill.com/homenews/administration/449422-democrats-bristle-as-hicks-appears-for-daylong-capitol-hill-testimony/',\n",
       " 'https://thehill.com/blogs/floor-action/senate/449420-senate-to-vote-thursday-to-block-trumps-saudi-arms-deal/']"
      ]
     },
     "execution_count": 6,
     "metadata": {},
     "output_type": "execute_result"
    }
   ],
   "source": [
    "\n",
    "def get_urls(url):\n",
    "    \"\"\"\n",
    "    This function takes a URL to a page of articles and returns all\n",
    "    of the articles\n",
    "    \n",
    "\n",
    "    Parameters:\n",
    "        * url:  a URL to a page of parks\n",
    "\n",
    "    Returns:\n",
    "        A list of URLs to each park on the page.\n",
    "    \"\"\"\n",
    "    response= page_grab(url)\n",
    "    urls=[]\n",
    "    container = response.cssselect('div.archive__item__content')\n",
    "    \n",
    "    for j in container:\n",
    "        atr = j.cssselect('a')\n",
    "        if atr and len(atr) > 0:\n",
    "            href = atr[0].get(\"href\")\n",
    "            urls.append(make_link_absolute(href, 'https://www.politico.com'))\n",
    "    return urls\n",
    "\n",
    "get_urls('https://thehill.com/policy/?page_num=1064')\n"
   ]
  },
  {
   "cell_type": "code",
   "execution_count": 7,
   "metadata": {},
   "outputs": [],
   "source": [
    "def recurse_hill(url, breakpoint, urls=[]):\n",
    "     scraped_urls=get_urls(url)\n",
    "     urls+= scraped_urls\n",
    "     begin=url.find(\"politics/\")+9\n",
    "     pagenumber= int(url[begin:len(url)])\n",
    "     if pagenumber<breakpoint:\n",
    "          newlink=url[:-len(str(pagenumber))]+str(pagenumber+1)\n",
    "          recurse_politico(newlink, breakpoint, urls)\n",
    "     return urls\n",
    "\n",
    "def list_to_csv(data_list, filename):\n",
    "    print(\"writing csv\")\n",
    "    with open(filename, 'w', newline='') as csvfile:\n",
    "        writer = csv.writer(csvfile)\n",
    "        for item in data_list:\n",
    "            writer.writerow([item])\n",
    "\n"
   ]
  },
  {
   "cell_type": "code",
   "execution_count": 8,
   "metadata": {},
   "outputs": [
    {
     "name": "stdout",
     "output_type": "stream",
     "text": [
      "Fetching https://thehill.com/policy/?page_num=1\n"
     ]
    },
    {
     "ename": "ValueError",
     "evalue": "invalid literal for int() with base 10: 'thehill.com/policy/?page_num=1'",
     "output_type": "error",
     "traceback": [
      "\u001b[0;31m---------------------------------------------------------------------------\u001b[0m",
      "\u001b[0;31mValueError\u001b[0m                                Traceback (most recent call last)",
      "Cell \u001b[0;32mIn[8], line 1\u001b[0m\n\u001b[0;32m----> 1\u001b[0m urllist\u001b[39m=\u001b[39mrecurse_politico(\u001b[39m'\u001b[39;49m\u001b[39mhttps://thehill.com/policy/?page_num=1\u001b[39;49m\u001b[39m'\u001b[39;49m, \u001b[39m1064\u001b[39;49m)\n\u001b[1;32m      2\u001b[0m list_to_csv(urllist, \u001b[39m\"\u001b[39m\u001b[39mthe hill.csv\u001b[39m\u001b[39m\"\u001b[39m)\n",
      "Cell \u001b[0;32mIn[7], line 5\u001b[0m, in \u001b[0;36mrecurse_politico\u001b[0;34m(url, breakpoint, urls)\u001b[0m\n\u001b[1;32m      3\u001b[0m urls\u001b[39m+\u001b[39m\u001b[39m=\u001b[39m scraped_urls\n\u001b[1;32m      4\u001b[0m begin\u001b[39m=\u001b[39murl\u001b[39m.\u001b[39mfind(\u001b[39m\"\u001b[39m\u001b[39mpolitics/\u001b[39m\u001b[39m\"\u001b[39m)\u001b[39m+\u001b[39m\u001b[39m9\u001b[39m\n\u001b[0;32m----> 5\u001b[0m pagenumber\u001b[39m=\u001b[39m \u001b[39mint\u001b[39;49m(url[begin:\u001b[39mlen\u001b[39;49m(url)])\n\u001b[1;32m      6\u001b[0m \u001b[39mif\u001b[39;00m pagenumber\u001b[39m<\u001b[39m\u001b[39mbreakpoint\u001b[39m:\n\u001b[1;32m      7\u001b[0m      newlink\u001b[39m=\u001b[39murl[:\u001b[39m-\u001b[39m\u001b[39mlen\u001b[39m(\u001b[39mstr\u001b[39m(pagenumber))]\u001b[39m+\u001b[39m\u001b[39mstr\u001b[39m(pagenumber\u001b[39m+\u001b[39m\u001b[39m1\u001b[39m)\n",
      "\u001b[0;31mValueError\u001b[0m: invalid literal for int() with base 10: 'thehill.com/policy/?page_num=1'"
     ]
    }
   ],
   "source": [
    "urllist=recurse_politico('https://thehill.com/policy/?page_num=1', 1064)\n",
    "list_to_csv(urllist, \"thehill.csv\")"
   ]
  }
 ],
 "metadata": {
  "kernelspec": {
   "display_name": "base",
   "language": "python",
   "name": "python3"
  },
  "language_info": {
   "codemirror_mode": {
    "name": "ipython",
    "version": 3
   },
   "file_extension": ".py",
   "mimetype": "text/x-python",
   "name": "python",
   "nbconvert_exporter": "python",
   "pygments_lexer": "ipython3",
   "version": "3.10.10"
  },
  "orig_nbformat": 4
 },
 "nbformat": 4,
 "nbformat_minor": 2
}

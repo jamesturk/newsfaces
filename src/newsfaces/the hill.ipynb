{
 "cells": [
  {
   "cell_type": "code",
   "execution_count": 10,
   "metadata": {},
   "outputs": [],
   "source": [
    "#Util Functions\n",
    "import time\n",
    "import requests\n",
    "from urllib.parse import urlparse\n",
    "import sys\n",
    "import json\n",
    "import lxml.html\n",
    "import csv\n",
    "from utils import make_request, parse_html, make_link_absolute, page_grab "
   ]
  },
  {
   "cell_type": "code",
   "execution_count": 11,
   "metadata": {},
   "outputs": [
    {
     "name": "stdout",
     "output_type": "stream",
     "text": [
      "Fetching https://thehill.com/policy/?page_num=1064\n"
     ]
    },
    {
     "data": {
      "text/plain": [
       "['',\n",
       " 'https://thehill.com/homenews/administration/450388-trump-says-google-facebook-should-be-sued-over-bias-allegations/',\n",
       " 'https://thehill.com/homenews/administration/450382-trump-criticizes-post-world-war-ii-military-pact-with-japan/',\n",
       " 'https://thehill.com/blogs/blog-briefing-room/news/450371-2-us-service-members-killed-in-afghanistan/',\n",
       " 'https://thehill.com/homenews/house/450215-house-passes-45b-border-funding-bill/',\n",
       " 'https://thehill.com/homenews/house/450358-mueller-to-testify-in-front-of-house-judiciary-intelligence-committees-next/',\n",
       " 'https://thehill.com/blogs/floor-action/senate/450334-senate-gop-blocks-election-security-bill/',\n",
       " 'https://thehill.com/policy/technology/overnights/450304-hillicon-valley-report-finds-federal-agencies-failed-to-update/',\n",
       " 'https://thehill.com/homenews/campaign/450323-150-young-activists-to-camp-out-at-dnc-for-climate-debate/',\n",
       " 'https://thehill.com/regulation/court-battles/450319-doj-files-federal-lawsuit-against-omarosa-alleging-she-violated/',\n",
       " 'https://thehill.com/homenews/senate/450285-mcconnell-opens-door-to-vote-on-iran-war-authorization/',\n",
       " 'https://thehill.com/policy/finance/economy/450278-gm-investing-4b-in-plants-in-four-states/',\n",
       " 'https://thehill.com/homenews/media/450275-florida-news-outlets-partnering-for-climate-change-reporting/',\n",
       " 'https://thehill.com/latino/450276-trump-envoy-protected-status-for-venezuelan-migrants-under-consideration/',\n",
       " 'https://thehill.com/homenews/state-watch/450268-democratic-leader-concedes-on-oregon-climate-bill-after-republican/',\n",
       " 'https://thehill.com/homenews/house/450251-house-approves-383-billion-spending-package/',\n",
       " 'https://thehill.com/homenews/administration/450245-trump-says-migrant-detention-conditions-better-than-they-were-under/']"
      ]
     },
     "execution_count": 11,
     "metadata": {},
     "output_type": "execute_result"
    }
   ],
   "source": [
    "\n",
    "def get_urls(url):\n",
    "    \"\"\"\n",
    "    This function takes a URL to a page of articles and returns all\n",
    "    of the articles\n",
    "    \n",
    "\n",
    "    Parameters:\n",
    "        * url:  a URL to a page of parks\n",
    "\n",
    "    Returns:\n",
    "        A list of URLs to each park on the page.\n",
    "    \"\"\"\n",
    "    response= page_grab(url)\n",
    "    urls=[]\n",
    "    container = response.cssselect('div.archive__item__content')\n",
    "    \n",
    "    for j in container:\n",
    "        atr = j.cssselect('a')\n",
    "        if atr and len(atr) > 0:\n",
    "            href = atr[0].get(\"href\")\n",
    "            urls.append(make_link_absolute(href, 'https://www.politico.com'))\n",
    "    return urls\n",
    "\n",
    "get_urls('https://thehill.com/policy/?page_num=1064')\n"
   ]
  },
  {
   "cell_type": "code",
   "execution_count": 12,
   "metadata": {},
   "outputs": [],
   "source": [
    "def recurse_hill(url, breakpoint, urls=[]):\n",
    "     scraped_urls=get_urls(url)\n",
    "     urls+= scraped_urls\n",
    "     begin=url.find(\"num=\")+4\n",
    "     pagenumber= int(url[begin:len(url)])\n",
    "     if pagenumber<breakpoint:\n",
    "          newlink=url[:-len(str(pagenumber))]+str(pagenumber+1)\n",
    "          recurse_hill(newlink, breakpoint, urls)\n",
    "     return urls\n",
    "\n",
    "def list_to_csv(data_list, filename):\n",
    "    print(\"writing csv\")\n",
    "    with open(filename, 'w', newline='') as csvfile:\n",
    "        writer = csv.writer(csvfile)\n",
    "        for item in data_list:\n",
    "            writer.writerow([item])\n",
    "\n"
   ]
  },
  {
   "cell_type": "code",
   "execution_count": 13,
   "metadata": {},
   "outputs": [
    {
     "name": "stdout",
     "output_type": "stream",
     "text": [
      "Fetching https://thehill.com/policy/?page_num=1\n",
      "37\n",
      "Fetching https://thehill.com/policy/?page_num=2\n",
      "37\n",
      "Fetching https://thehill.com/policy/?page_num=3\n",
      "37\n",
      "Fetching https://thehill.com/policy/?page_num=4\n",
      "37\n",
      "Fetching https://thehill.com/policy/?page_num=5\n",
      "37\n",
      "Fetching https://thehill.com/policy/?page_num=6\n",
      "37\n",
      "Fetching https://thehill.com/policy/?page_num=7\n",
      "37\n",
      "Fetching https://thehill.com/policy/?page_num=8\n",
      "37\n",
      "Fetching https://thehill.com/policy/?page_num=9\n",
      "37\n",
      "Fetching https://thehill.com/policy/?page_num=10\n",
      "37\n",
      "Fetching https://thehill.com/policy/?page_num=11\n",
      "37\n",
      "Fetching https://thehill.com/policy/?page_num=12\n",
      "37\n",
      "Fetching https://thehill.com/policy/?page_num=13\n",
      "37\n",
      "Fetching https://thehill.com/policy/?page_num=14\n",
      "37\n",
      "Fetching https://thehill.com/policy/?page_num=15\n",
      "37\n",
      "Fetching https://thehill.com/policy/?page_num=16\n",
      "37\n",
      "Fetching https://thehill.com/policy/?page_num=17\n",
      "37\n",
      "Fetching https://thehill.com/policy/?page_num=18\n",
      "37\n",
      "Fetching https://thehill.com/policy/?page_num=19\n"
     ]
    }
   ],
   "source": [
    "urllist=recurse_hill('https://thehill.com/policy/?page_num=1', 1064)\n",
    "list_to_csv(urllist, \"thehill.csv\")"
   ]
  }
 ],
 "metadata": {
  "kernelspec": {
   "display_name": "base",
   "language": "python",
   "name": "python3"
  },
  "language_info": {
   "codemirror_mode": {
    "name": "ipython",
    "version": 3
   },
   "file_extension": ".py",
   "mimetype": "text/x-python",
   "name": "python",
   "nbconvert_exporter": "python",
   "pygments_lexer": "ipython3",
   "version": "3.10.10"
  },
  "orig_nbformat": 4
 },
 "nbformat": 4,
 "nbformat_minor": 2
}
